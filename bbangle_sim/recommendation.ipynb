{
 "cells": [
  {
   "cell_type": "markdown",
   "metadata": {},
   "source": [
    "#### 작업 노트북 \n",
    "- feature 정리 \n",
    "- 데이터 전처리\n",
    "- 모델링\n",
    "- 학습 및 추론\n",
    "- 제품별 추천 결과 테이블"
   ]
  },
  {
   "cell_type": "code",
   "execution_count": 1,
   "metadata": {},
   "outputs": [
    {
     "name": "stderr",
     "output_type": "stream",
     "text": [
      "C:\\Users\\gnsdl\\AppData\\Local\\Temp\\ipykernel_13504\\2091422848.py:1: DeprecationWarning: \n",
      "Pyarrow will become a required dependency of pandas in the next major release of pandas (pandas 3.0),\n",
      "(to allow more performant data types, such as the Arrow string type, and better interoperability with other libraries)\n",
      "but was not found to be installed on your system.\n",
      "If this would cause problems for you,\n",
      "please provide us feedback at https://github.com/pandas-dev/pandas/issues/54466\n",
      "        \n",
      "  import pandas as pd\n"
     ]
    }
   ],
   "source": [
    "import pandas as pd\n",
    "import warnings\n",
    "import re \n",
    "from model.bow import BagOfWords\n",
    "from model.tfidf import TfIdf\n",
    "import yaml\n",
    "warnings.filterwarnings(\"ignore\")"
   ]
  },
  {
   "cell_type": "markdown",
   "metadata": {},
   "source": [
    "#### Configuration\n",
    "- 추천 서비스 생성을 위해서 필요한 설정값들을 세팅합니다."
   ]
  },
  {
   "cell_type": "code",
   "execution_count": 2,
   "metadata": {},
   "outputs": [],
   "source": [
    "# config\n",
    "with open('configs/database.yaml') as f:\n",
    "    cfg = yaml.load(f, Loader=yaml.FullLoader)"
   ]
  },
  {
   "cell_type": "code",
   "execution_count": 3,
   "metadata": {},
   "outputs": [],
   "source": [
    "from utils.query_service import QueryService\n",
    "query_service = QueryService(cfg['mysql'])"
   ]
  },
  {
   "cell_type": "markdown",
   "metadata": {},
   "source": [
    "#### Data Import\n",
    "- 사용할 데이터를 mysql에서 가져옵니다. "
   ]
  },
  {
   "cell_type": "code",
   "execution_count": 4,
   "metadata": {},
   "outputs": [
    {
     "data": {
      "text/html": [
       "<div>\n",
       "<style scoped>\n",
       "    .dataframe tbody tr th:only-of-type {\n",
       "        vertical-align: middle;\n",
       "    }\n",
       "\n",
       "    .dataframe tbody tr th {\n",
       "        vertical-align: top;\n",
       "    }\n",
       "\n",
       "    .dataframe thead th {\n",
       "        text-align: right;\n",
       "    }\n",
       "</style>\n",
       "<table border=\"1\" class=\"dataframe\">\n",
       "  <thead>\n",
       "    <tr style=\"text-align: right;\">\n",
       "      <th></th>\n",
       "      <th>Tables_in_bakery</th>\n",
       "    </tr>\n",
       "  </thead>\n",
       "  <tbody>\n",
       "    <tr>\n",
       "      <th>0</th>\n",
       "      <td>board_preference_statistic</td>\n",
       "    </tr>\n",
       "    <tr>\n",
       "      <th>1</th>\n",
       "      <td>board_statistic</td>\n",
       "    </tr>\n",
       "    <tr>\n",
       "      <th>2</th>\n",
       "      <td>food_survey</td>\n",
       "    </tr>\n",
       "    <tr>\n",
       "      <th>3</th>\n",
       "      <td>image</td>\n",
       "    </tr>\n",
       "    <tr>\n",
       "      <th>4</th>\n",
       "      <td>member</td>\n",
       "    </tr>\n",
       "    <tr>\n",
       "      <th>5</th>\n",
       "      <td>member_preference</td>\n",
       "    </tr>\n",
       "    <tr>\n",
       "      <th>6</th>\n",
       "      <td>notice</td>\n",
       "    </tr>\n",
       "    <tr>\n",
       "      <th>7</th>\n",
       "      <td>preference</td>\n",
       "    </tr>\n",
       "    <tr>\n",
       "      <th>8</th>\n",
       "      <td>product</td>\n",
       "    </tr>\n",
       "    <tr>\n",
       "      <th>9</th>\n",
       "      <td>product_board</td>\n",
       "    </tr>\n",
       "    <tr>\n",
       "      <th>10</th>\n",
       "      <td>product_detail</td>\n",
       "    </tr>\n",
       "    <tr>\n",
       "      <th>11</th>\n",
       "      <td>product_img</td>\n",
       "    </tr>\n",
       "    <tr>\n",
       "      <th>12</th>\n",
       "      <td>push</td>\n",
       "    </tr>\n",
       "    <tr>\n",
       "      <th>13</th>\n",
       "      <td>push_date</td>\n",
       "    </tr>\n",
       "    <tr>\n",
       "      <th>14</th>\n",
       "      <td>random_board</td>\n",
       "    </tr>\n",
       "    <tr>\n",
       "      <th>15</th>\n",
       "      <td>refresh_token</td>\n",
       "    </tr>\n",
       "    <tr>\n",
       "      <th>16</th>\n",
       "      <td>review</td>\n",
       "    </tr>\n",
       "    <tr>\n",
       "      <th>17</th>\n",
       "      <td>review_img</td>\n",
       "    </tr>\n",
       "    <tr>\n",
       "      <th>18</th>\n",
       "      <td>review_like</td>\n",
       "    </tr>\n",
       "    <tr>\n",
       "      <th>19</th>\n",
       "      <td>search</td>\n",
       "    </tr>\n",
       "    <tr>\n",
       "      <th>20</th>\n",
       "      <td>signature_agreement</td>\n",
       "    </tr>\n",
       "    <tr>\n",
       "      <th>21</th>\n",
       "      <td>store</td>\n",
       "    </tr>\n",
       "    <tr>\n",
       "      <th>22</th>\n",
       "      <td>test_store</td>\n",
       "    </tr>\n",
       "    <tr>\n",
       "      <th>23</th>\n",
       "      <td>wishlist_folder</td>\n",
       "    </tr>\n",
       "    <tr>\n",
       "      <th>24</th>\n",
       "      <td>wishlist_product</td>\n",
       "    </tr>\n",
       "    <tr>\n",
       "      <th>25</th>\n",
       "      <td>wishlist_store</td>\n",
       "    </tr>\n",
       "    <tr>\n",
       "      <th>26</th>\n",
       "      <td>withdrawal</td>\n",
       "    </tr>\n",
       "  </tbody>\n",
       "</table>\n",
       "</div>"
      ],
      "text/plain": [
       "              Tables_in_bakery\n",
       "0   board_preference_statistic\n",
       "1              board_statistic\n",
       "2                  food_survey\n",
       "3                        image\n",
       "4                       member\n",
       "5            member_preference\n",
       "6                       notice\n",
       "7                   preference\n",
       "8                      product\n",
       "9                product_board\n",
       "10              product_detail\n",
       "11                 product_img\n",
       "12                        push\n",
       "13                   push_date\n",
       "14                random_board\n",
       "15               refresh_token\n",
       "16                      review\n",
       "17                  review_img\n",
       "18                 review_like\n",
       "19                      search\n",
       "20         signature_agreement\n",
       "21                       store\n",
       "22                  test_store\n",
       "23             wishlist_folder\n",
       "24            wishlist_product\n",
       "25              wishlist_store\n",
       "26                  withdrawal"
      ]
     },
     "execution_count": 4,
     "metadata": {},
     "output_type": "execute_result"
    }
   ],
   "source": [
    "query_service.query_to_pandas_df('Show tables')"
   ]
  },
  {
   "cell_type": "code",
   "execution_count": 5,
   "metadata": {},
   "outputs": [],
   "source": [
    "PRODUCT_BOARD_SQL = \"\"\"\n",
    "SELECT id\n",
    ", store_id\n",
    ", title\n",
    ", price\n",
    ", is_soldout\n",
    ", view \n",
    "FROM product_board\n",
    "\"\"\"\n",
    "product_board = query_service.query_to_pandas_df(PRODUCT_BOARD_SQL)"
   ]
  },
  {
   "cell_type": "code",
   "execution_count": 10,
   "metadata": {},
   "outputs": [],
   "source": [
    "PRODUCT_SQL = \"\"\"\n",
    "SELECT id\n",
    ", product_board_id\n",
    ", title as option\n",
    ", price as option_price\n",
    ", category\n",
    ", gluten_free_tag\n",
    ", high_protein_tag\n",
    ", sugar_free_tag\n",
    ", vegan_tag\n",
    ", ketogenic_tag\n",
    "FROM product\n",
    "\"\"\"\n",
    "product = query_service.query_to_pandas_df(PRODUCT_SQL)"
   ]
  },
  {
   "cell_type": "code",
   "execution_count": null,
   "metadata": {},
   "outputs": [],
   "source": [
    "REVIEW_SQL = \"\"\"\n",
    "SELECT board_id\n",
    ", badge_taste\n",
    ", badge_brix\n",
    ", badge_texture\n",
    ", rate\n",
    ", content\n",
    "FROM review\n",
    "\"\"\"\n",
    "review = query_service.query_to_pandas_df(REVIEW_SQL)\n",
    "review = review.drop_duplicates(subset=['board_id', 'content'], keep='first')"
   ]
  },
  {
   "cell_type": "code",
   "execution_count": null,
   "metadata": {},
   "outputs": [],
   "source": [
    "BOARD_STAT_SQL = \"\"\"\n",
    "SELECT board_id\n",
    ", board_review_grade\n",
    ", board_view_count\n",
    ", board_review_count\n",
    ", board_wish_count \n",
    "FROM board_statistic\n",
    "\"\"\"\n",
    "board_stat = query_service.query_to_pandas_df(BOARD_STAT_SQL)"
   ]
  },
  {
   "cell_type": "code",
   "execution_count": 7,
   "metadata": {},
   "outputs": [],
   "source": [
    "# board_id가 각 preference_type마다 얼만큼의 preference_score를 갖는지\n",
    "# 아직 신뢰성있는 데이터로 보이진 않음 (샘플이 적고 score의 분산이 너무 큼)\n",
    "BOARD_PREFERENCE_STAT_SQL = \"\"\"\n",
    "SELECT board_id\n",
    ", preference_score\n",
    ", preference_type\n",
    ", preference_weight\n",
    "FROM board_preference_statistic\n",
    "ORDER BY board_id\n",
    "\"\"\"\n",
    "board_preference_stat = query_service.query_to_pandas_df(BOARD_PREFERENCE_STAT_SQL)"
   ]
  },
  {
   "cell_type": "markdown",
   "metadata": {},
   "source": [
    "#### Preprocessing"
   ]
  },
  {
   "cell_type": "markdown",
   "metadata": {},
   "source": [
    "#### Modeling"
   ]
  },
  {
   "cell_type": "markdown",
   "metadata": {},
   "source": [
    "#### Training"
   ]
  },
  {
   "cell_type": "markdown",
   "metadata": {},
   "source": [
    "#### Evaluating"
   ]
  },
  {
   "cell_type": "markdown",
   "metadata": {},
   "source": [
    "#### INFERENCE"
   ]
  },
  {
   "cell_type": "markdown",
   "metadata": {},
   "source": [
    "#### SAVE"
   ]
  },
  {
   "cell_type": "markdown",
   "metadata": {},
   "source": [
    "#### 추천 결과 테이블 포맷\n",
    "- query item은 찜이 눌린 아이템입니다.\n",
    "- recommendation item은 query 아이템 당 3개를 추출합니다.\n",
    "- 유사한 recommendation item이 없을 경우 랜덤한 3개의 결과를 추천합니다.\n",
    "- 포맷에 맞게 데이터프레임을 만듭니다. "
   ]
  },
  {
   "cell_type": "code",
   "execution_count": 24,
   "metadata": {},
   "outputs": [],
   "source": [
    "import pandas as pd\n",
    "from datetime import datetime\n",
    "data = {\n",
    "    'query_item': [1, 1, 1, 2, 2, 2],\n",
    "    'recommendation_item': [2, 3, 5, 6, 7, 8],\n",
    "    'score': [0.67, 0.54, 0.51, 1.0, 1.0, 1.0],\n",
    "    'rank': [1, 2, 3, 1, 2, 3],\n",
    "    'recommendation_theme': ['similarity', 'similarity', 'similarity', 'random', 'random', 'random'],\n",
    "    'model_version': ['bow-1', 'bow-1', 'bow-1', 'default_model', 'default_model', 'default_model'],\n",
    "    'created_at': [datetime(2024, 9, 19, 11, 58, 22, 206696)] * 6,\n",
    "    'modified_at': [datetime(2024, 9, 19, 11, 58, 22, 206696)] * 6\n",
    "}\n",
    "\n",
    "recommendation_df = pd.DataFrame(data)\n"
   ]
  },
  {
   "cell_type": "code",
   "execution_count": 25,
   "metadata": {},
   "outputs": [
    {
     "data": {
      "text/html": [
       "<div>\n",
       "<style scoped>\n",
       "    .dataframe tbody tr th:only-of-type {\n",
       "        vertical-align: middle;\n",
       "    }\n",
       "\n",
       "    .dataframe tbody tr th {\n",
       "        vertical-align: top;\n",
       "    }\n",
       "\n",
       "    .dataframe thead th {\n",
       "        text-align: right;\n",
       "    }\n",
       "</style>\n",
       "<table border=\"1\" class=\"dataframe\">\n",
       "  <thead>\n",
       "    <tr style=\"text-align: right;\">\n",
       "      <th></th>\n",
       "      <th>query_item</th>\n",
       "      <th>recommendation_item</th>\n",
       "      <th>score</th>\n",
       "      <th>rank</th>\n",
       "      <th>recommendation_theme</th>\n",
       "      <th>model_version</th>\n",
       "      <th>created_at</th>\n",
       "      <th>modified_at</th>\n",
       "    </tr>\n",
       "  </thead>\n",
       "  <tbody>\n",
       "    <tr>\n",
       "      <th>0</th>\n",
       "      <td>1</td>\n",
       "      <td>2</td>\n",
       "      <td>0.67</td>\n",
       "      <td>1</td>\n",
       "      <td>similarity</td>\n",
       "      <td>bow-1</td>\n",
       "      <td>2024-09-19 11:58:22.206696</td>\n",
       "      <td>2024-09-19 11:58:22.206696</td>\n",
       "    </tr>\n",
       "    <tr>\n",
       "      <th>1</th>\n",
       "      <td>1</td>\n",
       "      <td>3</td>\n",
       "      <td>0.54</td>\n",
       "      <td>2</td>\n",
       "      <td>similarity</td>\n",
       "      <td>bow-1</td>\n",
       "      <td>2024-09-19 11:58:22.206696</td>\n",
       "      <td>2024-09-19 11:58:22.206696</td>\n",
       "    </tr>\n",
       "    <tr>\n",
       "      <th>2</th>\n",
       "      <td>1</td>\n",
       "      <td>5</td>\n",
       "      <td>0.51</td>\n",
       "      <td>3</td>\n",
       "      <td>similarity</td>\n",
       "      <td>bow-1</td>\n",
       "      <td>2024-09-19 11:58:22.206696</td>\n",
       "      <td>2024-09-19 11:58:22.206696</td>\n",
       "    </tr>\n",
       "    <tr>\n",
       "      <th>3</th>\n",
       "      <td>2</td>\n",
       "      <td>6</td>\n",
       "      <td>1.00</td>\n",
       "      <td>1</td>\n",
       "      <td>random</td>\n",
       "      <td>default_model</td>\n",
       "      <td>2024-09-19 11:58:22.206696</td>\n",
       "      <td>2024-09-19 11:58:22.206696</td>\n",
       "    </tr>\n",
       "    <tr>\n",
       "      <th>4</th>\n",
       "      <td>2</td>\n",
       "      <td>7</td>\n",
       "      <td>1.00</td>\n",
       "      <td>2</td>\n",
       "      <td>random</td>\n",
       "      <td>default_model</td>\n",
       "      <td>2024-09-19 11:58:22.206696</td>\n",
       "      <td>2024-09-19 11:58:22.206696</td>\n",
       "    </tr>\n",
       "    <tr>\n",
       "      <th>5</th>\n",
       "      <td>2</td>\n",
       "      <td>8</td>\n",
       "      <td>1.00</td>\n",
       "      <td>3</td>\n",
       "      <td>random</td>\n",
       "      <td>default_model</td>\n",
       "      <td>2024-09-19 11:58:22.206696</td>\n",
       "      <td>2024-09-19 11:58:22.206696</td>\n",
       "    </tr>\n",
       "  </tbody>\n",
       "</table>\n",
       "</div>"
      ],
      "text/plain": [
       "   query_item  recommendation_item  score  rank recommendation_theme  \\\n",
       "0           1                    2   0.67     1           similarity   \n",
       "1           1                    3   0.54     2           similarity   \n",
       "2           1                    5   0.51     3           similarity   \n",
       "3           2                    6   1.00     1               random   \n",
       "4           2                    7   1.00     2               random   \n",
       "5           2                    8   1.00     3               random   \n",
       "\n",
       "   model_version                 created_at                modified_at  \n",
       "0          bow-1 2024-09-19 11:58:22.206696 2024-09-19 11:58:22.206696  \n",
       "1          bow-1 2024-09-19 11:58:22.206696 2024-09-19 11:58:22.206696  \n",
       "2          bow-1 2024-09-19 11:58:22.206696 2024-09-19 11:58:22.206696  \n",
       "3  default_model 2024-09-19 11:58:22.206696 2024-09-19 11:58:22.206696  \n",
       "4  default_model 2024-09-19 11:58:22.206696 2024-09-19 11:58:22.206696  \n",
       "5  default_model 2024-09-19 11:58:22.206696 2024-09-19 11:58:22.206696  "
      ]
     },
     "execution_count": 25,
     "metadata": {},
     "output_type": "execute_result"
    }
   ],
   "source": [
    "recommendation_df"
   ]
  }
 ],
 "metadata": {
  "kernelspec": {
   "display_name": ".venv",
   "language": "python",
   "name": "python3"
  },
  "language_info": {
   "codemirror_mode": {
    "name": "ipython",
    "version": 3
   },
   "file_extension": ".py",
   "mimetype": "text/x-python",
   "name": "python",
   "nbconvert_exporter": "python",
   "pygments_lexer": "ipython3",
   "version": "3.11.7"
  }
 },
 "nbformat": 4,
 "nbformat_minor": 2
}
