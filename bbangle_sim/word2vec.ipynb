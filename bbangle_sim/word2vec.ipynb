{
 "cells": [
  {
   "cell_type": "code",
   "execution_count": 16,
   "metadata": {},
   "outputs": [],
   "source": [
    "import pandas as pd\n",
    "import numpy as np\n",
    "import yaml\n",
    "from konlpy.tag import Okt\n",
    "import json \n",
    "import warnings \n",
    "import re\n",
    "warnings.filterwarnings('ignore')"
   ]
  },
  {
   "cell_type": "code",
   "execution_count": 6,
   "metadata": {},
   "outputs": [],
   "source": [
    "from utils.query_service import QueryService\n",
    "from model.default import DefaultModel\n",
    "from utils.modelutil import Word2VecUtil\n",
    "from utils.validator import RecommendationValidator"
   ]
  },
  {
   "cell_type": "code",
   "execution_count": 7,
   "metadata": {},
   "outputs": [],
   "source": [
    "# config\n",
    "with open('configs/database.yaml') as f:\n",
    "    database_cfg = yaml.load(f, Loader=yaml.FullLoader)\n",
    "with open('configs/service.yaml') as f:\n",
    "    service_cfg = yaml.load(f, Loader=yaml.FullLoader)"
   ]
  },
  {
   "cell_type": "code",
   "execution_count": 8,
   "metadata": {},
   "outputs": [],
   "source": [
    "with open('data/description.json', encoding='utf-8') as f:\n",
    "    data = json.load(f)\n",
    "data = {int(k): v for k, v in data.items()}"
   ]
  },
  {
   "cell_type": "code",
   "execution_count": 9,
   "metadata": {},
   "outputs": [],
   "source": [
    "query_service = QueryService(database_cfg['mysql'])"
   ]
  },
  {
   "cell_type": "code",
   "execution_count": 10,
   "metadata": {},
   "outputs": [],
   "source": [
    "PRODUCT_BOARD_SQL = \"\"\"\n",
    "SELECT id as board_id\n",
    ", store_id \n",
    ", title\n",
    ", price\n",
    ", is_soldout\n",
    ", view \n",
    "FROM product_board\n",
    "\"\"\"\n",
    "product_board = query_service.query_to_pandas_df(PRODUCT_BOARD_SQL)\n",
    "\n",
    "\n",
    "PRODUCT_SQL = \"\"\"\n",
    "SELECT id as product_id\n",
    ", product_board_id as board_id\n",
    ", title as option\n",
    ", price as option_price\n",
    ", category\n",
    ", gluten_free_tag\n",
    ", high_protein_tag\n",
    ", sugar_free_tag\n",
    ", vegan_tag\n",
    ", ketogenic_tag\n",
    "FROM product\n",
    "\"\"\"\n",
    "product = query_service.query_to_pandas_df(PRODUCT_SQL)\n",
    "product = product.groupby('board_id').agg({'option': lambda x: ' '.join(x)})\n",
    "\n",
    "\n",
    "REVIEW_SQL = \"\"\"\n",
    "SELECT board_id \n",
    ", badge_taste\n",
    ", badge_brix\n",
    ", badge_texture\n",
    ", rate\n",
    ", content\n",
    "FROM review\n",
    "\"\"\"\n",
    "review = query_service.query_to_pandas_df(REVIEW_SQL)\n",
    "review = review.drop_duplicates(subset=['board_id', 'content'], keep='first')\n",
    "review = review.groupby('board_id').agg({'content': lambda x: ' '.join(x)})"
   ]
  },
  {
   "cell_type": "code",
   "execution_count": 11,
   "metadata": {},
   "outputs": [],
   "source": [
    "df = (product_board\n",
    " .merge(product, on='board_id', how='left')\n",
    " .merge(review, on='board_id', how='left')\n",
    ")[['board_id', 'title', 'option', 'content']]"
   ]
  },
  {
   "cell_type": "markdown",
   "metadata": {},
   "source": [
    "#### 전처리"
   ]
  },
  {
   "cell_type": "code",
   "execution_count": 12,
   "metadata": {},
   "outputs": [],
   "source": [
    "okt = Okt()\n",
    "def tokenize(text):\n",
    "    return ['/'.join(t) for t in okt.pos(text, norm=True, stem=True)]"
   ]
  },
  {
   "cell_type": "code",
   "execution_count": 13,
   "metadata": {},
   "outputs": [],
   "source": [
    "# 결측치\n",
    "df = df.fillna('')"
   ]
  },
  {
   "cell_type": "code",
   "execution_count": 17,
   "metadata": {},
   "outputs": [],
   "source": [
    "# str로 변환\n",
    "quantity_compiler = re.compile(r'\\d+[개입|kg|팩|개|종|입|원|g]+')\n",
    "for col in ['title', 'option', 'content']:\n",
    "    df[col] = df[col].astype(str)\n",
    "    # 소문자로 변환\n",
    "    df[col] = df[col].apply(lambda x: x.lower())\n",
    "    # 특수문자 제거\n",
    "    df[col] = df[col].apply(lambda x: re.sub(r\"[^가-힣0-9a-zA-Z\\s]\", \"\", x))\n",
    "    # 숫자 제거\n",
    "    df[col] = df[col].apply(lambda x: re.sub(quantity_compiler, '', x))\n",
    "    "
   ]
  },
  {
   "cell_type": "code",
   "execution_count": null,
   "metadata": {},
   "outputs": [],
   "source": [
    "df['description'] = df['title'] + ' ' + df['option'] + ' ' + df['content']"
   ]
  },
  {
   "cell_type": "code",
   "execution_count": null,
   "metadata": {},
   "outputs": [],
   "source": [
    "df['token'] = df['description'].apply(lambda x: okt.morphs(x))"
   ]
  },
  {
   "cell_type": "code",
   "execution_count": null,
   "metadata": {},
   "outputs": [],
   "source": [
    "# 중복 단어 제거 : 나열식의 중복 단어가 노이즈로 인식됨 \n",
    "df['unique_token'] = df['token'].apply(lambda x: list(set(x)))"
   ]
  },
  {
   "cell_type": "code",
   "execution_count": null,
   "metadata": {},
   "outputs": [],
   "source": [
    "# stopwords 제거\n",
    "with open('data/stopwords.txt', 'r', encoding='utf-8') as f:\n",
    "    stopwords = f.readlines()\n",
    "    stopwords = [x.strip() for x in stopwords]\n",
    "df['token'] = df['token'].apply(lambda x: [word for word in x if word not in stopwords])"
   ]
  },
  {
   "cell_type": "code",
   "execution_count": null,
   "metadata": {},
   "outputs": [],
   "source": [
    "# description mutation : \n",
    "df['representation'] = df['token'].apply(lambda x: ' '.join(x))"
   ]
  },
  {
   "cell_type": "code",
   "execution_count": null,
   "metadata": {},
   "outputs": [],
   "source": [
    "df.set_index('board_id', inplace=True)"
   ]
  },
  {
   "cell_type": "code",
   "execution_count": null,
   "metadata": {},
   "outputs": [],
   "source": [
    "# dict로만들기\n",
    "data = df['representation'].to_dict()\n",
    "with open('data/description.json', 'w', encoding='utf-8') as f:\n",
    "    json.dump(data, f, ensure_ascii=False, indent=4)"
   ]
  },
  {
   "cell_type": "markdown",
   "metadata": {},
   "source": [
    "#### Model Import"
   ]
  },
  {
   "cell_type": "code",
   "execution_count": 18,
   "metadata": {},
   "outputs": [],
   "source": [
    "default_model = DefaultModel(service_cfg['model']['default'])"
   ]
  },
  {
   "cell_type": "code",
   "execution_count": 19,
   "metadata": {},
   "outputs": [],
   "source": [
    "word2vec_model_path = \"word2vec/korean_word2vec_model.model\"  # Update with your actual path\n",
    "word2vec_model = Word2VecUtil.load_model(word2vec_model_path)"
   ]
  },
  {
   "cell_type": "code",
   "execution_count": 20,
   "metadata": {},
   "outputs": [],
   "source": [
    "from model.word2vec import Word2Vec\n",
    "word2vec = Word2Vec(service_cfg['model']['word2vec'], word2vec_model)"
   ]
  },
  {
   "cell_type": "markdown",
   "metadata": {},
   "source": [
    "#### Recommendation\n"
   ]
  },
  {
   "cell_type": "code",
   "execution_count": 21,
   "metadata": {},
   "outputs": [],
   "source": [
    "from collections import defaultdict\n",
    "rec_result = defaultdict()\n",
    "model_dict = {'word2vec': word2vec\n",
    "              , 'default': default_model}\n",
    "TARGET_MODEL = 'word2vec'\n",
    "for key in data.keys():\n",
    "    query_id = key\n",
    "    try:\n",
    "        model = model_dict.get(TARGET_MODEL, None)\n",
    "        items = word2vec.predict(query_id, data)\n",
    "        RecommendationValidator.valid_topk(items, service_cfg['service']['topk'])\n",
    "        result = {'items': items, 'recommendation_theme': model.code, 'model_version': model.version}\n",
    "    except Exception as e:\n",
    "        model = model_dict.get('default', None)\n",
    "        items = default_model.predict(query_id, data)\n",
    "        result = {'items': items, 'recommendation_theme': model.code, 'model_version': model.version}\n",
    "    finally:\n",
    "        rec_result[query_id] = result"
   ]
  },
  {
   "cell_type": "code",
   "execution_count": 22,
   "metadata": {},
   "outputs": [],
   "source": [
    "rows = []\n",
    "for query, result in rec_result.items():\n",
    "    key = query\n",
    "    for i, (k, v) in enumerate(result['items'].items()):\n",
    "        row = {\n",
    "            'query_item': key,\n",
    "            'recommendation_item': k,\n",
    "            'score': v,\n",
    "            'rank': i+1,\n",
    "            'recommendation_theme': result['recommendation_theme'],\n",
    "            'model_version': result['model_version']\n",
    "        }\n",
    "        rows.append(row)\n",
    "result_df = pd.DataFrame(rows)"
   ]
  },
  {
   "cell_type": "code",
   "execution_count": 23,
   "metadata": {},
   "outputs": [],
   "source": [
    "result_df['created_at'] = pd.Timestamp.now()"
   ]
  },
  {
   "cell_type": "code",
   "execution_count": 24,
   "metadata": {},
   "outputs": [],
   "source": [
    "import pickle   \n",
    "with open('data/rec_result.pickle', 'wb') as f:\n",
    "    pickle.dump(rec_result, f)"
   ]
  },
  {
   "cell_type": "markdown",
   "metadata": {},
   "source": [
    "#### Evaluate"
   ]
  },
  {
   "cell_type": "code",
   "execution_count": 25,
   "metadata": {},
   "outputs": [],
   "source": [
    "# 같은 스토어 상품이 얼마나 있는지\n",
    "store_df = (result_df\n",
    " .merge(product_board[['board_id', 'store_id']], left_on='query_item', right_on='board_id', how='left')\n",
    " .rename(columns={'store_id': 'query_store_id'})\n",
    " .merge(product_board[['board_id', 'store_id']], left_on='recommendation_item', right_on='board_id', how='left')\n",
    " .rename(columns={'store_id': 'recommendation_store_id'})\n",
    " [['query_store_id', 'recommendation_store_id']]\n",
    ")"
   ]
  },
  {
   "cell_type": "code",
   "execution_count": 26,
   "metadata": {},
   "outputs": [
    {
     "name": "stdout",
     "output_type": "stream",
     "text": [
      "전체 633 개의 추천 상품 중 찜한 상품과 같은 스토어에 있는 추천의 비율은 0.38\n"
     ]
    }
   ],
   "source": [
    "store_df['same_store_yn'] = store_df['query_store_id'] == store_df['recommendation_store_id']\n",
    "recommendation_num = store_df.shape[0]\n",
    "same_store_ratio = round(store_df['same_store_yn'].mean(),2)\n",
    "print(f'전체 {recommendation_num} 개의 추천 상품 중 찜한 상품과 같은 스토어에 있는 추천의 비율은 {same_store_ratio}')\n"
   ]
  },
  {
   "cell_type": "code",
   "execution_count": 27,
   "metadata": {},
   "outputs": [
    {
     "name": "stdout",
     "output_type": "stream",
     "text": [
      "coverage: 80.56872037914692\n"
     ]
    },
    {
     "data": {
      "image/png": "[encoded data removed]",
      "text/plain": [
       "<Figure size 640x480 with 1 Axes>"
      ]
     },
     "metadata": {},
     "output_type": "display_data"
    }
   ],
   "source": [
    "# Coverage\n",
    "print('coverage:', result_df['recommendation_item'].nunique() / result_df['query_item'].nunique() * 100)\n",
    "result_df['recommendation_item'].plot(kind='hist', bins=100, title='Recommendation Score Distribution');"
   ]
  },
  {
   "cell_type": "code",
   "execution_count": 28,
   "metadata": {},
   "outputs": [
    {
     "data": {
      "text/html": [
       "<div>\n",
       "<style scoped>\n",
       "    .dataframe tbody tr th:only-of-type {\n",
       "        vertical-align: middle;\n",
       "    }\n",
       "\n",
       "    .dataframe tbody tr th {\n",
       "        vertical-align: top;\n",
       "    }\n",
       "\n",
       "    .dataframe thead th {\n",
       "        text-align: right;\n",
       "    }\n",
       "</style>\n",
       "<table border=\"1\" class=\"dataframe\">\n",
       "  <thead>\n",
       "    <tr style=\"text-align: right;\">\n",
       "      <th></th>\n",
       "      <th>query_item</th>\n",
       "      <th>recommendation_item</th>\n",
       "      <th>score</th>\n",
       "      <th>rank</th>\n",
       "      <th>recommendation_theme</th>\n",
       "      <th>model_version</th>\n",
       "      <th>created_at</th>\n",
       "    </tr>\n",
       "  </thead>\n",
       "  <tbody>\n",
       "    <tr>\n",
       "      <th>0</th>\n",
       "      <td>1</td>\n",
       "      <td>15</td>\n",
       "      <td>0.947479</td>\n",
       "      <td>1</td>\n",
       "      <td>word2vec</td>\n",
       "      <td>0.0.1</td>\n",
       "      <td>2024-11-03 17:34:18.700163</td>\n",
       "    </tr>\n",
       "    <tr>\n",
       "      <th>1</th>\n",
       "      <td>1</td>\n",
       "      <td>78</td>\n",
       "      <td>0.930364</td>\n",
       "      <td>2</td>\n",
       "      <td>word2vec</td>\n",
       "      <td>0.0.1</td>\n",
       "      <td>2024-11-03 17:34:18.700163</td>\n",
       "    </tr>\n",
       "    <tr>\n",
       "      <th>2</th>\n",
       "      <td>1</td>\n",
       "      <td>9</td>\n",
       "      <td>0.929003</td>\n",
       "      <td>3</td>\n",
       "      <td>word2vec</td>\n",
       "      <td>0.0.1</td>\n",
       "      <td>2024-11-03 17:34:18.700163</td>\n",
       "    </tr>\n",
       "    <tr>\n",
       "      <th>3</th>\n",
       "      <td>2</td>\n",
       "      <td>56</td>\n",
       "      <td>0.950549</td>\n",
       "      <td>1</td>\n",
       "      <td>word2vec</td>\n",
       "      <td>0.0.1</td>\n",
       "      <td>2024-11-03 17:34:18.700163</td>\n",
       "    </tr>\n",
       "    <tr>\n",
       "      <th>4</th>\n",
       "      <td>2</td>\n",
       "      <td>65</td>\n",
       "      <td>0.942954</td>\n",
       "      <td>2</td>\n",
       "      <td>word2vec</td>\n",
       "      <td>0.0.1</td>\n",
       "      <td>2024-11-03 17:34:18.700163</td>\n",
       "    </tr>\n",
       "    <tr>\n",
       "      <th>...</th>\n",
       "      <td>...</td>\n",
       "      <td>...</td>\n",
       "      <td>...</td>\n",
       "      <td>...</td>\n",
       "      <td>...</td>\n",
       "      <td>...</td>\n",
       "      <td>...</td>\n",
       "    </tr>\n",
       "    <tr>\n",
       "      <th>628</th>\n",
       "      <td>210</td>\n",
       "      <td>23</td>\n",
       "      <td>0.937237</td>\n",
       "      <td>2</td>\n",
       "      <td>word2vec</td>\n",
       "      <td>0.0.1</td>\n",
       "      <td>2024-11-03 17:34:18.700163</td>\n",
       "    </tr>\n",
       "    <tr>\n",
       "      <th>629</th>\n",
       "      <td>210</td>\n",
       "      <td>171</td>\n",
       "      <td>0.934163</td>\n",
       "      <td>3</td>\n",
       "      <td>word2vec</td>\n",
       "      <td>0.0.1</td>\n",
       "      <td>2024-11-03 17:34:18.700163</td>\n",
       "    </tr>\n",
       "    <tr>\n",
       "      <th>630</th>\n",
       "      <td>211</td>\n",
       "      <td>111</td>\n",
       "      <td>0.969866</td>\n",
       "      <td>1</td>\n",
       "      <td>word2vec</td>\n",
       "      <td>0.0.1</td>\n",
       "      <td>2024-11-03 17:34:18.700163</td>\n",
       "    </tr>\n",
       "    <tr>\n",
       "      <th>631</th>\n",
       "      <td>211</td>\n",
       "      <td>103</td>\n",
       "      <td>0.948187</td>\n",
       "      <td>2</td>\n",
       "      <td>word2vec</td>\n",
       "      <td>0.0.1</td>\n",
       "      <td>2024-11-03 17:34:18.700163</td>\n",
       "    </tr>\n",
       "    <tr>\n",
       "      <th>632</th>\n",
       "      <td>211</td>\n",
       "      <td>208</td>\n",
       "      <td>0.946468</td>\n",
       "      <td>3</td>\n",
       "      <td>word2vec</td>\n",
       "      <td>0.0.1</td>\n",
       "      <td>2024-11-03 17:34:18.700163</td>\n",
       "    </tr>\n",
       "  </tbody>\n",
       "</table>\n",
       "<p>633 rows × 7 columns</p>\n",
       "</div>"
      ],
      "text/plain": [
       "     query_item  recommendation_item     score  rank recommendation_theme  \\\n",
       "0             1                   15  0.947479     1             word2vec   \n",
       "1             1                   78  0.930364     2             word2vec   \n",
       "2             1                    9  0.929003     3             word2vec   \n",
       "3             2                   56  0.950549     1             word2vec   \n",
       "4             2                   65  0.942954     2             word2vec   \n",
       "..          ...                  ...       ...   ...                  ...   \n",
       "628         210                   23  0.937237     2             word2vec   \n",
       "629         210                  171  0.934163     3             word2vec   \n",
       "630         211                  111  0.969866     1             word2vec   \n",
       "631         211                  103  0.948187     2             word2vec   \n",
       "632         211                  208  0.946468     3             word2vec   \n",
       "\n",
       "    model_version                 created_at  \n",
       "0           0.0.1 2024-11-03 17:34:18.700163  \n",
       "1           0.0.1 2024-11-03 17:34:18.700163  \n",
       "2           0.0.1 2024-11-03 17:34:18.700163  \n",
       "3           0.0.1 2024-11-03 17:34:18.700163  \n",
       "4           0.0.1 2024-11-03 17:34:18.700163  \n",
       "..            ...                        ...  \n",
       "628         0.0.1 2024-11-03 17:34:18.700163  \n",
       "629         0.0.1 2024-11-03 17:34:18.700163  \n",
       "630         0.0.1 2024-11-03 17:34:18.700163  \n",
       "631         0.0.1 2024-11-03 17:34:18.700163  \n",
       "632         0.0.1 2024-11-03 17:34:18.700163  \n",
       "\n",
       "[633 rows x 7 columns]"
      ]
     },
     "execution_count": 28,
     "metadata": {},
     "output_type": "execute_result"
    }
   ],
   "source": [
    "result_df"
   ]
  },
  {
   "cell_type": "code",
   "execution_count": 29,
   "metadata": {},
   "outputs": [],
   "source": [
    "# 같은 스토어 상품이 얼마나 있는지\n",
    "title_df = (result_df\n",
    " .merge(product_board[['board_id', 'store_id', 'title']], left_on='query_item', right_on='board_id', how='left')\n",
    " .rename(columns={'title': 'query_title'\n",
    "                  , 'store_id': 'query_store_id'})\n",
    " .merge(product_board[['board_id', 'store_id', 'title']], left_on='recommendation_item', right_on='board_id', how='left')\n",
    " .rename(columns={'title': 'recommendation_title'\n",
    "                  , 'store_id': 'recommendation_store_id'})\n",
    " [['query_item','query_store_id', 'query_title','recommendation_item', 'recommendation_store_id', 'recommendation_title']]\n",
    ")"
   ]
  },
  {
   "cell_type": "code",
   "execution_count": 30,
   "metadata": {},
   "outputs": [],
   "source": [
    "# query_item_id의 iterable한 객체 만들기\n",
    "query_list = list(title_df['query_item'].unique())\n",
    "query_iter = iter(query_list)"
   ]
  },
  {
   "cell_type": "code",
   "execution_count": 31,
   "metadata": {},
   "outputs": [
    {
     "data": {
      "text/html": [
       "<div>\n",
       "<style scoped>\n",
       "    .dataframe tbody tr th:only-of-type {\n",
       "        vertical-align: middle;\n",
       "    }\n",
       "\n",
       "    .dataframe tbody tr th {\n",
       "        vertical-align: top;\n",
       "    }\n",
       "\n",
       "    .dataframe thead th {\n",
       "        text-align: right;\n",
       "    }\n",
       "</style>\n",
       "<table border=\"1\" class=\"dataframe\">\n",
       "  <thead>\n",
       "    <tr style=\"text-align: right;\">\n",
       "      <th></th>\n",
       "      <th>query_store_id</th>\n",
       "      <th>query_title</th>\n",
       "      <th>recommendation_store_id</th>\n",
       "      <th>recommendation_title</th>\n",
       "    </tr>\n",
       "  </thead>\n",
       "  <tbody>\n",
       "    <tr>\n",
       "      <th>0</th>\n",
       "      <td>1</td>\n",
       "      <td>냥빵 파운드 저탄수 대체당 제로 빵 글루텐프리 건강빵 비건</td>\n",
       "      <td>12</td>\n",
       "      <td>수제 비건버터 쌀소금빵</td>\n",
       "    </tr>\n",
       "    <tr>\n",
       "      <th>1</th>\n",
       "      <td>1</td>\n",
       "      <td>냥빵 파운드 저탄수 대체당 제로 빵 글루텐프리 건강빵 비건</td>\n",
       "      <td>6</td>\n",
       "      <td>약과 쿠키 영양 간식 건강 디저트</td>\n",
       "    </tr>\n",
       "    <tr>\n",
       "      <th>2</th>\n",
       "      <td>1</td>\n",
       "      <td>냥빵 파운드 저탄수 대체당 제로 빵 글루텐프리 건강빵 비건</td>\n",
       "      <td>6</td>\n",
       "      <td>[발효종 순수 통밀빵 2개입 1세트] 저당빵 비건 건강 식사대용 더브레드블루</td>\n",
       "    </tr>\n",
       "  </tbody>\n",
       "</table>\n",
       "</div>"
      ],
      "text/plain": [
       "   query_store_id                       query_title  recommendation_store_id  \\\n",
       "0               1  냥빵 파운드 저탄수 대체당 제로 빵 글루텐프리 건강빵 비건                       12   \n",
       "1               1  냥빵 파운드 저탄수 대체당 제로 빵 글루텐프리 건강빵 비건                        6   \n",
       "2               1  냥빵 파운드 저탄수 대체당 제로 빵 글루텐프리 건강빵 비건                        6   \n",
       "\n",
       "                         recommendation_title  \n",
       "0                                수제 비건버터 쌀소금빵  \n",
       "1                          약과 쿠키 영양 간식 건강 디저트  \n",
       "2  [발효종 순수 통밀빵 2개입 1세트] 저당빵 비건 건강 식사대용 더브레드블루  "
      ]
     },
     "execution_count": 31,
     "metadata": {},
     "output_type": "execute_result"
    }
   ],
   "source": [
    "# 반복 \n",
    "query_item_id = query_iter.__next__()\n",
    "title_df[title_df['query_item'] == query_item_id][['query_store_id', 'query_title', 'recommendation_store_id', 'recommendation_title']]"
   ]
  },
  {
   "cell_type": "markdown",
   "metadata": {},
   "source": [
    "#### Save"
   ]
  },
  {
   "cell_type": "code",
   "execution_count": 32,
   "metadata": {},
   "outputs": [],
   "source": [
    "result_df.to_csv('data/rec_result.csv', index=False)"
   ]
  }
 ],
 "metadata": {
  "kernelspec": {
   "display_name": ".venv",
   "language": "python",
   "name": "python3"
  },
  "language_info": {
   "codemirror_mode": {
    "name": "ipython",
    "version": 3
   },
   "file_extension": ".py",
   "mimetype": "text/x-python",
   "name": "python",
   "nbconvert_exporter": "python",
   "pygments_lexer": "ipython3",
   "version": "3.11.7"
  }
 },
 "nbformat": 4,
 "nbformat_minor": 2
}
