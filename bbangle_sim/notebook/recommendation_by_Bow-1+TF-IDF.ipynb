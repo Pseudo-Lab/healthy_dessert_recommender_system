{
 "cells": [
  {
   "cell_type": "code",
   "execution_count": 1,
   "metadata": {},
   "outputs": [],
   "source": [
    "import pandas as pd\n",
    "import warnings\n",
    "import re \n",
    "from model.bow import BagOfWords\n",
    "from model.tfidf import TfIdf\n",
    "import yaml\n",
    "import matplotlib.pyplot as plt\n",
    "\n",
    "from utils.preprocessing import *\n",
    "\n",
    "from konlpy.tag import Okt\n",
    "\n",
    "\n",
    "warnings.filterwarnings(\"ignore\")"
   ]
  },
  {
   "cell_type": "markdown",
   "metadata": {},
   "source": [
    "#### Configuration\n",
    "- 추천 서비스 생성을 위해서 필요한 설정값들을 세팅합니다."
   ]
  },
  {
   "cell_type": "code",
   "execution_count": 2,
   "metadata": {},
   "outputs": [],
   "source": [
    "# config\n",
    "with open('configs/database.yaml') as f:\n",
    "    cfg = yaml.load(f, Loader=yaml.FullLoader)\n",
    "\n",
    "from utils.query_service import QueryService\n",
    "query_service = QueryService(cfg['mysql'])"
   ]
  },
  {
   "cell_type": "markdown",
   "metadata": {},
   "source": [
    "#### Data Import\n",
    "- 사용할 데이터를 mysql에서 가져옵니다. "
   ]
  },
  {
   "cell_type": "code",
   "execution_count": 3,
   "metadata": {},
   "outputs": [],
   "source": [
    "PRODUCT_BOARD_SQL = \"\"\"\n",
    "SELECT id\n",
    ", store_id\n",
    ", title\n",
    ", price\n",
    ", is_soldout\n",
    ", view \n",
    "FROM product_board\n",
    "\"\"\"\n",
    "product_board = query_service.query_to_pandas_df(PRODUCT_BOARD_SQL)\n",
    "\n",
    "\n",
    "PRODUCT_SQL = \"\"\"\n",
    "SELECT id\n",
    ", product_board_id\n",
    ", title as option\n",
    ", price as option_price\n",
    ", category\n",
    ", gluten_free_tag\n",
    ", high_protein_tag\n",
    ", sugar_free_tag\n",
    ", vegan_tag\n",
    ", ketogenic_tag\n",
    "FROM product\n",
    "\"\"\"\n",
    "product = query_service.query_to_pandas_df(PRODUCT_SQL)\n",
    "\n",
    "\n",
    "REVIEW_SQL = \"\"\"\n",
    "SELECT board_id\n",
    ", badge_taste\n",
    ", badge_brix\n",
    ", badge_texture\n",
    ", rate\n",
    ", content\n",
    "FROM review\n",
    "\"\"\"\n",
    "review = query_service.query_to_pandas_df(REVIEW_SQL)\n",
    "review = review.drop_duplicates(subset=['board_id', 'content'], keep='first')"
   ]
  },
  {
   "cell_type": "markdown",
   "metadata": {},
   "source": [
    "#### Preprocessing\n",
    "\n",
    "1. Product + Product board + Review 데이터 기반 유사도 테이블\n",
    "2. 평가 방법 3가지 수행 및 시각화\n",
    "3. 후처리 고려하기"
   ]
  },
  {
   "cell_type": "code",
   "execution_count": 4,
   "metadata": {},
   "outputs": [],
   "source": [
    "sold_out = product_board[product_board['is_soldout']==1]['store_id'].unique()"
   ]
  },
  {
   "cell_type": "code",
   "execution_count": 5,
   "metadata": {},
   "outputs": [
    {
     "data": {
      "text/plain": [
       "(154, 3)"
      ]
     },
     "execution_count": 5,
     "metadata": {},
     "output_type": "execute_result"
    }
   ],
   "source": [
    "grouped = product.groupby('product_board_id').agg({\n",
    "    'id': 'first',\n",
    "    'option': ' '.join, # option을 공백을 두고 이어 붙임\n",
    "    'option_price': 'first',\n",
    "    'category': 'first',\n",
    "    'gluten_free_tag': 'first',\n",
    "    'high_protein_tag': 'first',\n",
    "    'sugar_free_tag': 'first',\n",
    "    'vegan_tag': 'first',\n",
    "    'ketogenic_tag': 'first',\n",
    "})\n",
    "\n",
    "\n",
    "df = grouped.copy()\n",
    "df['id'] = df.index\n",
    "df.shape\n",
    "\n",
    "\n",
    "grouped = review.groupby('board_id').agg({\n",
    "    'rate': 'mean',\n",
    "    'content': ' '.join  # content을 공백을 두고 이어 붙임\n",
    "})\n",
    "\n",
    "\n",
    "df_review = grouped.copy()\n",
    "df_review['id'] = df_review.index\n",
    "df_review.shape"
   ]
  },
  {
   "cell_type": "code",
   "execution_count": 6,
   "metadata": {},
   "outputs": [],
   "source": [
    "df = df[['id', 'option', 'option_price', 'category', 'gluten_free_tag', 'high_protein_tag', 'sugar_free_tag', 'vegan_tag', 'ketogenic_tag']].copy()\n",
    "\n",
    "df['option'] = df['option'].fillna('')\n",
    "df.loc[df['option'] == '필수상품 없음', 'option'] = ''"
   ]
  },
  {
   "cell_type": "code",
   "execution_count": 7,
   "metadata": {},
   "outputs": [],
   "source": [
    "# 두 데이터프레임을 store_id (df_board)와 product_board_id (df) 기준으로 병합\n",
    "merged_df = pd.merge(df, product_board, left_on='id', right_on='id', how='left')\n",
    "merged_df = pd.merge(merged_df, df_review, left_on = 'id', right_on='id', how='left')\n",
    "df = merged_df.copy()"
   ]
  },
  {
   "cell_type": "code",
   "execution_count": 8,
   "metadata": {},
   "outputs": [],
   "source": [
    "# Create the new soup feature\n",
    "df['title'] = df.apply(create_title, axis=1)\n",
    "\n",
    "# title에 공백 추가\n",
    "df['title_with_spaces'], df['title_nouns_list'] = zip(*df['title'].apply(add_spaces))\n",
    "\n",
    "features = ['gluten_free_tag', 'high_protein_tag', 'sugar_free_tag', 'vegan_tag', 'ketogenic_tag']\n",
    "\n",
    "for feature in features:\n",
    "  df[feature] = df[feature].apply(lambda x: x*feature)\n",
    "\n",
    "\n",
    "# Removes spaces and converts to lowercase\n",
    "# Apply the generate_list function to cast, keywords, and director\n",
    "for feature in ['category', 'gluten_free_tag', 'high_protein_tag', 'sugar_free_tag', 'vegan_tag', 'ketogenic_tag']:\n",
    "    df[feature] = df[feature].apply(sanitize)\n",
    "\n",
    "# Create the new soup feature\n",
    "df['soup'] = df.apply(create_soup, axis=1)"
   ]
  },
  {
   "cell_type": "markdown",
   "metadata": {},
   "source": [
    "#### Modeling(CountVec+TF-IDF)"
   ]
  },
  {
   "cell_type": "code",
   "execution_count": 9,
   "metadata": {},
   "outputs": [
    {
     "data": {
      "text/plain": [
       "(209, 209)"
      ]
     },
     "execution_count": 9,
     "metadata": {},
     "output_type": "execute_result"
    }
   ],
   "source": [
    "# TfIdfVectorizer 가져오기\n",
    "from sklearn.feature_extraction.text import TfidfVectorizer\n",
    "\n",
    "# 불용어를 english로 지정하고 tf-idf 계산\n",
    "# stop_words='english' 옵션은 영어의 불용어(예: the, and, is 등)를 제외\n",
    "tfidf = TfidfVectorizer(stop_words='english')\n",
    "tfidf_matrix = tfidf.fit_transform(df['title_with_spaces'])\n",
    "\n",
    "# Cosine 유사도 계산, overview기반으로 영화간 유사도 계산\n",
    "from sklearn.metrics.pairwise import cosine_similarity\n",
    "\n",
    "cosine_sim_tf = cosine_similarity(tfidf_matrix, tfidf_matrix)\n",
    "cosine_sim_tf = pd.DataFrame(cosine_sim_tf, index=df.index, columns=df.index)\n",
    "\n",
    "cosine_sim_tf.shape\n"
   ]
  },
  {
   "cell_type": "code",
   "execution_count": 10,
   "metadata": {},
   "outputs": [
    {
     "data": {
      "text/plain": [
       "(209, 209)"
      ]
     },
     "execution_count": 10,
     "metadata": {},
     "output_type": "execute_result"
    }
   ],
   "source": [
    "# Import CountVectorizer from the scikit-learn library\n",
    "from sklearn.feature_extraction.text import CountVectorizer\n",
    "\n",
    "# Define a new CountVectorizer object and create vectors for the soup\n",
    "count = CountVectorizer(stop_words='english')\n",
    "# 상품*해당 단어가 있는지 카운트 벡터\n",
    "count_matrix = count.fit_transform(df['soup'])\n",
    "\n",
    "# Cosine 유사도 계산\n",
    "from sklearn.metrics.pairwise import cosine_similarity\n",
    "cosine_sim_cv = cosine_similarity(count_matrix, count_matrix)\n",
    "cosine_sim_cv = pd.DataFrame(cosine_sim_cv, index=df.index, columns=df.index)\n",
    "\n",
    "cosine_sim_cv.shape"
   ]
  },
  {
   "cell_type": "markdown",
   "metadata": {},
   "source": [
    "##### 1. Weighted Sum"
   ]
  },
  {
   "cell_type": "code",
   "execution_count": 11,
   "metadata": {},
   "outputs": [],
   "source": [
    "cosine_sim = cosine_sim_cv*0.3 + cosine_sim_tf*0.7"
   ]
  },
  {
   "cell_type": "code",
   "execution_count": 12,
   "metadata": {},
   "outputs": [
    {
     "name": "stdout",
     "output_type": "stream",
     "text": [
      "[array([173,  17, 157, 105, 127, 144, 206, 189, 106, 129], dtype=int64), array([0.6047236 , 0.5642761 , 0.54283396, 0.51421256, 0.51283968,\n",
      "       0.50865228, 0.50492058, 0.50337463, 0.49826154, 0.49269776]), array([35, 14, 23, 29,  3, 14, 14, 14, 12,  3], dtype=int64)]\n"
     ]
    }
   ],
   "source": [
    "# Index에 product_board_id 추가\n",
    "df['product_board_id'] = df['id'].copy()\n",
    "\n",
    "# index-product_board_id을 뒤집는다\n",
    "indices = pd.Series(df.index, index=df['product_board_id'])\n",
    "\n",
    "# 상품제목을 받아서 추천 영화를 돌려주는 함수\n",
    "def content_recommender(product_board_id, n_of_recomm, sold_out):\n",
    "    # product_board_id에서 영화 index 받아오기\n",
    "    idx = indices[product_board_id]\n",
    "    # 주어진 상품과 다른 상품의 similarity를 가져온다\n",
    "    sim_scores = cosine_sim[idx]\n",
    "    # sold_out 후처리\n",
    "    sim_scores[sold_out] = 0\n",
    "    # similarity 기준으로 정렬하고 n_of_recomm만큼 가져오기 (자기자신은 빼기)\n",
    "    sim_scores = sim_scores.sort_values(ascending=False)[1:n_of_recomm+1]\n",
    "    # 상품 product_board_id 반환\n",
    "    \n",
    "    return [df.loc[sim_scores.index]['product_board_id'].values, sim_scores.values, df.loc[sim_scores.index]['store_id'].values]\n",
    "\n",
    "# 추천받기\n",
    "print(content_recommender(100, 10, sold_out))"
   ]
  },
  {
   "cell_type": "markdown",
   "metadata": {},
   "source": [
    "##### 2. Rank Aggration"
   ]
  },
  {
   "cell_type": "code",
   "execution_count": 13,
   "metadata": {},
   "outputs": [
    {
     "data": {
      "text/plain": [
       "array([[191.5,  83.5, 127.5, ..., 134.5,  85.5,   0. ],\n",
       "       [138. ,  66. ,  63. , ...,  47. ,  83. ,  93.5],\n",
       "       [161. ,  92.5,  38.5, ...,  40.5,  97. ,   2. ],\n",
       "       ...,\n",
       "       [  0. , 134.5, 134.5, ...,  68. ,  70. , 207. ],\n",
       "       [183. , 109. ,  66.5, ...,  99.5,  56.5, 207. ],\n",
       "       [ 35. , 160. ,  80.5, ..., 129.5,  45. , 208. ]])"
      ]
     },
     "execution_count": 13,
     "metadata": {},
     "output_type": "execute_result"
    }
   ],
   "source": [
    "import numpy as np\n",
    "final_ranking = (np.argsort(cosine_sim_tf) + np.argsort(cosine_sim_cv)) / 2\n",
    "\n",
    "final_ranking"
   ]
  },
  {
   "cell_type": "code",
   "execution_count": 14,
   "metadata": {},
   "outputs": [
    {
     "name": "stdout",
     "output_type": "stream",
     "text": [
      "[array([ 88,  62, 208, 171, 102, 137, 117,  32, 186, 112], dtype=int64), array([ 3.5,  3.5,  8.5,  8.5, 17. , 17.5, 18. , 19. , 19. , 19.5]), array([23, 12, 32, 12, 11, 15, 12,  8, 30, 19], dtype=int64)]\n"
     ]
    }
   ],
   "source": [
    "# Index에 product_board_id 추가\n",
    "df['product_board_id'] = df['id'].copy()\n",
    "\n",
    "# index-product_board_id을 뒤집는다\n",
    "indices = pd.Series(df.index, index=df['product_board_id'])\n",
    "\n",
    "# 상품제목을 받아서 추천 영화를 돌려주는 함수\n",
    "def content_recommender_rank(product_board_id, n_of_recomm, final_ranking, sold_out):\n",
    "    # product_board_id에서 영화 index 받아오기\n",
    "    idx = indices[product_board_id]\n",
    "    # 주어진 상품과 다른 상품의 similarity를 가져온다\n",
    "    final_ranking_ = pd.DataFrame(final_ranking)\n",
    "    final_ranking_ = final_ranking_[idx]\n",
    "    # sold_out 후처리\n",
    "    final_ranking_[sold_out] = 0\n",
    "    # similarity 기준으로 정렬 \n",
    "    final_ranking_ = final_ranking_.sort_values(ascending=True)[1:n_of_recomm+1]\n",
    "\n",
    "    # 상품 product_board_id 반환    \n",
    "    return [df.loc[final_ranking_.index]['product_board_id'].values, final_ranking_.values, df.loc[final_ranking_.index]['store_id'].values]\n",
    "\n",
    "# 추천받기\n",
    "print(content_recommender_rank(100, 10, final_ranking, sold_out))"
   ]
  },
  {
   "cell_type": "markdown",
   "metadata": {},
   "source": [
    "#### Evaluation"
   ]
  },
  {
   "cell_type": "markdown",
   "metadata": {},
   "source": [
    "##### 1. Weighted Sum"
   ]
  },
  {
   "cell_type": "markdown",
   "metadata": {},
   "source": [
    "##### 1-1. 같은 스토어 상품 추천 비율"
   ]
  },
  {
   "cell_type": "code",
   "execution_count": 15,
   "metadata": {},
   "outputs": [
    {
     "name": "stdout",
     "output_type": "stream",
     "text": [
      "10.047846889952153 %\n"
     ]
    }
   ],
   "source": [
    "# 같은 스토어 상품 추천 개수\n",
    "recommended_stores = []\n",
    "recommended_stores_ = []\n",
    "\n",
    "for i in df.product_board_id.values:\n",
    "    recommended_stores_ = []\n",
    "    test = content_recommender(i, 3,sold_out)\n",
    "    recommended_stores_.extend(test[2])\n",
    "    recommended_stores.extend([1 for store_id in recommended_stores_ if store_id == i])\n",
    "    \n",
    "    \n",
    "print(sum(recommended_stores)/len(df.product_board_id.values)*3*100,\"%\")\n"
   ]
  },
  {
   "cell_type": "markdown",
   "metadata": {},
   "source": [
    "##### 1-2. Coverage"
   ]
  },
  {
   "cell_type": "code",
   "execution_count": 16,
   "metadata": {},
   "outputs": [],
   "source": [
    "recommended_items = []\n",
    "\n",
    "for i in df.product_board_id.values:\n",
    "    test = content_recommender(i, 3, sold_out)\n",
    "    recommended_items.extend(test[0])\n",
    "\n",
    "\n",
    "recommended_items = list(map(lambda x: int(x), recommended_items))"
   ]
  },
  {
   "cell_type": "code",
   "execution_count": 17,
   "metadata": {},
   "outputs": [
    {
     "data": {
      "text/plain": [
       "0.9090909090909091"
      ]
     },
     "execution_count": 17,
     "metadata": {},
     "output_type": "execute_result"
    }
   ],
   "source": [
    "from metrics.coverage import get_coverage\n",
    "\n",
    "n_items = cosine_sim.shape[0]\n",
    "\n",
    "get_coverage(recommended_items, n_items)"
   ]
  },
  {
   "cell_type": "code",
   "execution_count": 18,
   "metadata": {},
   "outputs": [
    {
     "data": {
      "text/plain": [
       "(array([ 2.,  3.,  3.,  5.,  1.,  6.,  6.,  6.,  6.,  7.,  3., 11.,  9.,\n",
       "         9.,  9.,  7.,  6.,  6.,  4.,  3.,  8.,  4.,  5.,  7.,  2.,  3.,\n",
       "        11.,  6.,  4.,  9.,  8.,  7.,  4.,  1.,  8.,  4.,  4., 14.,  9.,\n",
       "         6.,  6.,  4.,  2.,  7., 12.,  5.,  9.,  2.,  3., 11.,  2.,  8.,\n",
       "         1.,  3.,  4.,  9.,  8.,  8.,  6., 13.,  5.,  7.,  8.,  8.,  9.,\n",
       "         4.,  6.,  5.,  5.,  5.,  1.,  5.,  6.,  3., 18.,  6.,  7.,  8.,\n",
       "         9.,  7.,  5.,  4., 14.,  8.,  9., 11.,  5.,  6.,  9.,  5.,  7.,\n",
       "         3.,  7.,  8., 10.,  5.,  5.,  2.,  6.,  7.]),\n",
       " array([  1.  ,   3.09,   5.18,   7.27,   9.36,  11.45,  13.54,  15.63,\n",
       "         17.72,  19.81,  21.9 ,  23.99,  26.08,  28.17,  30.26,  32.35,\n",
       "         34.44,  36.53,  38.62,  40.71,  42.8 ,  44.89,  46.98,  49.07,\n",
       "         51.16,  53.25,  55.34,  57.43,  59.52,  61.61,  63.7 ,  65.79,\n",
       "         67.88,  69.97,  72.06,  74.15,  76.24,  78.33,  80.42,  82.51,\n",
       "         84.6 ,  86.69,  88.78,  90.87,  92.96,  95.05,  97.14,  99.23,\n",
       "        101.32, 103.41, 105.5 , 107.59, 109.68, 111.77, 113.86, 115.95,\n",
       "        118.04, 120.13, 122.22, 124.31, 126.4 , 128.49, 130.58, 132.67,\n",
       "        134.76, 136.85, 138.94, 141.03, 143.12, 145.21, 147.3 , 149.39,\n",
       "        151.48, 153.57, 155.66, 157.75, 159.84, 161.93, 164.02, 166.11,\n",
       "        168.2 , 170.29, 172.38, 174.47, 176.56, 178.65, 180.74, 182.83,\n",
       "        184.92, 187.01, 189.1 , 191.19, 193.28, 195.37, 197.46, 199.55,\n",
       "        201.64, 203.73, 205.82, 207.91, 210.  ]),\n",
       " <BarContainer object of 100 artists>)"
      ]
     },
     "execution_count": 18,
     "metadata": {},
     "output_type": "execute_result"
    },
    {
     "data": {
      "image/png": "[encoded data removed]",
      "text/plain": [
       "<Figure size 640x480 with 1 Axes>"
      ]
     },
     "metadata": {},
     "output_type": "display_data"
    }
   ],
   "source": [
    "plt.hist(recommended_items, bins = 100)"
   ]
  },
  {
   "cell_type": "markdown",
   "metadata": {},
   "source": [
    "##### 1-3. 추천 상품출력 → 유사한지 확인"
   ]
  },
  {
   "cell_type": "code",
   "execution_count": 19,
   "metadata": {},
   "outputs": [
    {
     "data": {
      "text/html": [
       "<div>\n",
       "<style scoped>\n",
       "    .dataframe tbody tr th:only-of-type {\n",
       "        vertical-align: middle;\n",
       "    }\n",
       "\n",
       "    .dataframe tbody tr th {\n",
       "        vertical-align: top;\n",
       "    }\n",
       "\n",
       "    .dataframe thead th {\n",
       "        text-align: right;\n",
       "    }\n",
       "</style>\n",
       "<table border=\"1\" class=\"dataframe\">\n",
       "  <thead>\n",
       "    <tr style=\"text-align: right;\">\n",
       "      <th></th>\n",
       "      <th>product_board_id</th>\n",
       "      <th>title_with_spaces</th>\n",
       "      <th>category</th>\n",
       "      <th>soup</th>\n",
       "    </tr>\n",
       "  </thead>\n",
       "  <tbody>\n",
       "    <tr>\n",
       "      <th>24</th>\n",
       "      <td>25</td>\n",
       "      <td>베이글 다이어트 설탕 블루베리 저당 크림 식빵 딸기</td>\n",
       "      <td>etc</td>\n",
       "      <td>45800 etc     ketogenic_tag</td>\n",
       "    </tr>\n",
       "    <tr>\n",
       "      <th>68</th>\n",
       "      <td>69</td>\n",
       "      <td>다이어트 설탕 저당 번 식빵 젤리 딸기 버터 꿀맛</td>\n",
       "      <td>etc</td>\n",
       "      <td>24800 etc     ketogenic_tag</td>\n",
       "    </tr>\n",
       "    <tr>\n",
       "      <th>180</th>\n",
       "      <td>183</td>\n",
       "      <td>헤이즐넛 초코 다이어트 저당 번 크림 식빵 스콘 딸기 야채</td>\n",
       "      <td>etc</td>\n",
       "      <td>12400 etc   sugar_free_tag</td>\n",
       "    </tr>\n",
       "  </tbody>\n",
       "</table>\n",
       "</div>"
      ],
      "text/plain": [
       "     product_board_id                 title_with_spaces category  \\\n",
       "24                 25      베이글 다이어트 설탕 블루베리 저당 크림 식빵 딸기      etc   \n",
       "68                 69       다이어트 설탕 저당 번 식빵 젤리 딸기 버터 꿀맛      etc   \n",
       "180               183  헤이즐넛 초코 다이어트 저당 번 크림 식빵 스콘 딸기 야채      etc   \n",
       "\n",
       "                             soup  \n",
       "24    45800 etc     ketogenic_tag  \n",
       "68    24800 etc     ketogenic_tag  \n",
       "180  12400 etc   sugar_free_tag    "
      ]
     },
     "execution_count": 19,
     "metadata": {},
     "output_type": "execute_result"
    }
   ],
   "source": [
    "case_1, _, _ = content_recommender(10, 3, sold_out)\n",
    "\n",
    "df.loc[df['product_board_id'].isin(case_1), [\"product_board_id\", \"title_with_spaces\", \"category\", \"soup\"]]"
   ]
  },
  {
   "cell_type": "code",
   "execution_count": 20,
   "metadata": {},
   "outputs": [
    {
     "data": {
      "text/html": [
       "<div>\n",
       "<style scoped>\n",
       "    .dataframe tbody tr th:only-of-type {\n",
       "        vertical-align: middle;\n",
       "    }\n",
       "\n",
       "    .dataframe tbody tr th {\n",
       "        vertical-align: top;\n",
       "    }\n",
       "\n",
       "    .dataframe thead th {\n",
       "        text-align: right;\n",
       "    }\n",
       "</style>\n",
       "<table border=\"1\" class=\"dataframe\">\n",
       "  <thead>\n",
       "    <tr style=\"text-align: right;\">\n",
       "      <th></th>\n",
       "      <th>product_board_id</th>\n",
       "      <th>title_with_spaces</th>\n",
       "      <th>category</th>\n",
       "      <th>soup</th>\n",
       "    </tr>\n",
       "  </thead>\n",
       "  <tbody>\n",
       "    <tr>\n",
       "      <th>79</th>\n",
       "      <td>80</td>\n",
       "      <td>쿠키 초코 다이어트 식빵 설탕 버터</td>\n",
       "      <td>cookie</td>\n",
       "      <td>5800 cookie gluten_free_tag high_protein_tag  ...</td>\n",
       "    </tr>\n",
       "    <tr>\n",
       "      <th>124</th>\n",
       "      <td>125</td>\n",
       "      <td>버터 비건 식빵</td>\n",
       "      <td>bread</td>\n",
       "      <td>10600 bread gluten_free_tag   vegan_tag</td>\n",
       "    </tr>\n",
       "    <tr>\n",
       "      <th>167</th>\n",
       "      <td>170</td>\n",
       "      <td>쿠키 초코 다이어트 블루베리 비건 크림 번 말차</td>\n",
       "      <td>etc</td>\n",
       "      <td>4500 etc gluten_free_tag</td>\n",
       "    </tr>\n",
       "  </tbody>\n",
       "</table>\n",
       "</div>"
      ],
      "text/plain": [
       "     product_board_id           title_with_spaces category  \\\n",
       "79                 80         쿠키 초코 다이어트 식빵 설탕 버터   cookie   \n",
       "124               125                    버터 비건 식빵    bread   \n",
       "167               170  쿠키 초코 다이어트 블루베리 비건 크림 번 말차      etc   \n",
       "\n",
       "                                                  soup  \n",
       "79   5800 cookie gluten_free_tag high_protein_tag  ...  \n",
       "124           10600 bread gluten_free_tag   vegan_tag   \n",
       "167                       4500 etc gluten_free_tag      "
      ]
     },
     "execution_count": 20,
     "metadata": {},
     "output_type": "execute_result"
    }
   ],
   "source": [
    "case_2, _, _ = content_recommender(70, 3, sold_out)\n",
    "\n",
    "df.loc[df['product_board_id'].isin(case_2), [\"product_board_id\", \"title_with_spaces\", \"category\", \"soup\"]]"
   ]
  },
  {
   "cell_type": "code",
   "execution_count": 21,
   "metadata": {},
   "outputs": [
    {
     "data": {
      "text/html": [
       "<div>\n",
       "<style scoped>\n",
       "    .dataframe tbody tr th:only-of-type {\n",
       "        vertical-align: middle;\n",
       "    }\n",
       "\n",
       "    .dataframe tbody tr th {\n",
       "        vertical-align: top;\n",
       "    }\n",
       "\n",
       "    .dataframe thead th {\n",
       "        text-align: right;\n",
       "    }\n",
       "</style>\n",
       "<table border=\"1\" class=\"dataframe\">\n",
       "  <thead>\n",
       "    <tr style=\"text-align: right;\">\n",
       "      <th></th>\n",
       "      <th>product_board_id</th>\n",
       "      <th>title_with_spaces</th>\n",
       "      <th>category</th>\n",
       "      <th>soup</th>\n",
       "    </tr>\n",
       "  </thead>\n",
       "  <tbody>\n",
       "    <tr>\n",
       "      <th>16</th>\n",
       "      <td>17</td>\n",
       "      <td>피칸 쿠키 비건 카라멜</td>\n",
       "      <td>cookie</td>\n",
       "      <td>5500 cookie gluten_free_tag   vegan_tag</td>\n",
       "    </tr>\n",
       "    <tr>\n",
       "      <th>155</th>\n",
       "      <td>157</td>\n",
       "      <td>쿠키 무화과 초코 다이어트 파운드 비건 마들렌 말차 얼그레이 쑥 유자 스콘 코코넛 아몬드</td>\n",
       "      <td>etc</td>\n",
       "      <td>1500 etc gluten_free_tag   vegan_tag</td>\n",
       "    </tr>\n",
       "    <tr>\n",
       "      <th>170</th>\n",
       "      <td>173</td>\n",
       "      <td>헤이즐넛 쿠키 무화과 초코 비건 단호박 말차 얼그레이 쑥 스콘 레몬 코코넛 버터 아몬드</td>\n",
       "      <td>cookie</td>\n",
       "      <td>4700 cookie gluten_free_tag   vegan_tag</td>\n",
       "    </tr>\n",
       "  </tbody>\n",
       "</table>\n",
       "</div>"
      ],
      "text/plain": [
       "     product_board_id                                  title_with_spaces  \\\n",
       "16                 17                                       피칸 쿠키 비건 카라멜   \n",
       "155               157  쿠키 무화과 초코 다이어트 파운드 비건 마들렌 말차 얼그레이 쑥 유자 스콘 코코넛 아몬드   \n",
       "170               173   헤이즐넛 쿠키 무화과 초코 비건 단호박 말차 얼그레이 쑥 스콘 레몬 코코넛 버터 아몬드   \n",
       "\n",
       "    category                                      soup  \n",
       "16    cookie  5500 cookie gluten_free_tag   vegan_tag   \n",
       "155      etc     1500 etc gluten_free_tag   vegan_tag   \n",
       "170   cookie  4700 cookie gluten_free_tag   vegan_tag   "
      ]
     },
     "execution_count": 21,
     "metadata": {},
     "output_type": "execute_result"
    }
   ],
   "source": [
    "case_3, _, _ = content_recommender(100, 3, sold_out)\n",
    "df.loc[df['product_board_id'].isin(case_3), [\"product_board_id\", \"title_with_spaces\", \"category\", \"soup\"]]"
   ]
  },
  {
   "cell_type": "markdown",
   "metadata": {},
   "source": [
    "##### 2. Rank Aggregation"
   ]
  },
  {
   "cell_type": "markdown",
   "metadata": {},
   "source": [
    "##### 2-1. 같은 스토어 상품 추천 비율"
   ]
  },
  {
   "cell_type": "code",
   "execution_count": 22,
   "metadata": {},
   "outputs": [
    {
     "name": "stdout",
     "output_type": "stream",
     "text": [
      "1.4354066985645932 %\n"
     ]
    }
   ],
   "source": [
    "# 같은 스토어 상품 추천 개수\n",
    "recommended_stores = []\n",
    "recommended_stores_ = []\n",
    "\n",
    "for i in df.product_board_id.values:\n",
    "    recommended_stores_ = []\n",
    "    test = content_recommender_rank(i, 3, final_ranking,sold_out)\n",
    "    recommended_stores_.extend(test[2])\n",
    "    recommended_stores.extend([1 for store_id in recommended_stores_ if store_id == i])\n",
    "    \n",
    "    \n",
    "print(sum(recommended_stores)/len(df.product_board_id.values)*3*100,\"%\")\n"
   ]
  },
  {
   "cell_type": "markdown",
   "metadata": {},
   "source": [
    "##### 2-2. Coverage"
   ]
  },
  {
   "cell_type": "code",
   "execution_count": 23,
   "metadata": {},
   "outputs": [],
   "source": [
    "recommended_items = []\n",
    "\n",
    "for i in df.product_board_id.values:\n",
    "    test = content_recommender_rank(i, 3, final_ranking, sold_out)\n",
    "    recommended_items.extend(test[0])\n",
    "\n",
    "\n",
    "recommended_items = list(map(lambda x: int(x), recommended_items))"
   ]
  },
  {
   "cell_type": "code",
   "execution_count": 24,
   "metadata": {},
   "outputs": [
    {
     "data": {
      "text/plain": [
       "0.9330143540669856"
      ]
     },
     "execution_count": 24,
     "metadata": {},
     "output_type": "execute_result"
    }
   ],
   "source": [
    "from metrics.coverage import get_coverage\n",
    "\n",
    "n_items = cosine_sim.shape[0]\n",
    "\n",
    "get_coverage(recommended_items, n_items)"
   ]
  },
  {
   "cell_type": "code",
   "execution_count": 25,
   "metadata": {},
   "outputs": [
    {
     "data": {
      "text/plain": [
       "(array([ 5.,  8.,  2.,  3.,  8., 10.,  4.,  3.,  4.,  5., 16.,  4.,  1.,\n",
       "         2.,  5., 11.,  9.,  7.,  5.,  8.,  7.,  1.,  5.,  5.,  1.,  4.,\n",
       "         6.,  9.,  8.,  9., 10.,  7.,  5.,  5.,  1.,  4.,  5.,  8.,  8.,\n",
       "        16., 13.,  8.,  7.,  2.,  1.,  5.,  6.,  3.,  7., 10.,  7.,  2.,\n",
       "         6.,  6.,  7.,  5.,  7.,  7.,  9.,  6., 16.,  7.,  4.,  5.,  2.,\n",
       "         5.,  4.,  4.,  9.,  7.,  9.,  8.,  5.,  7.,  7.,  5.,  2., 10.,\n",
       "         4.,  3., 11.,  7.,  8., 11.,  5.,  7.,  4.,  5.,  2., 10.,  6.,\n",
       "         3.,  2.,  4.,  8., 10., 14.,  8.,  6.,  5.]),\n",
       " array([  1. ,   3.1,   5.2,   7.3,   9.4,  11.5,  13.6,  15.7,  17.8,\n",
       "         19.9,  22. ,  24.1,  26.2,  28.3,  30.4,  32.5,  34.6,  36.7,\n",
       "         38.8,  40.9,  43. ,  45.1,  47.2,  49.3,  51.4,  53.5,  55.6,\n",
       "         57.7,  59.8,  61.9,  64. ,  66.1,  68.2,  70.3,  72.4,  74.5,\n",
       "         76.6,  78.7,  80.8,  82.9,  85. ,  87.1,  89.2,  91.3,  93.4,\n",
       "         95.5,  97.6,  99.7, 101.8, 103.9, 106. , 108.1, 110.2, 112.3,\n",
       "        114.4, 116.5, 118.6, 120.7, 122.8, 124.9, 127. , 129.1, 131.2,\n",
       "        133.3, 135.4, 137.5, 139.6, 141.7, 143.8, 145.9, 148. , 150.1,\n",
       "        152.2, 154.3, 156.4, 158.5, 160.6, 162.7, 164.8, 166.9, 169. ,\n",
       "        171.1, 173.2, 175.3, 177.4, 179.5, 181.6, 183.7, 185.8, 187.9,\n",
       "        190. , 192.1, 194.2, 196.3, 198.4, 200.5, 202.6, 204.7, 206.8,\n",
       "        208.9, 211. ]),\n",
       " <BarContainer object of 100 artists>)"
      ]
     },
     "execution_count": 25,
     "metadata": {},
     "output_type": "execute_result"
    },
    {
     "data": {
      "image/png": "[encoded data removed]",
      "text/plain": [
       "<Figure size 640x480 with 1 Axes>"
      ]
     },
     "metadata": {},
     "output_type": "display_data"
    }
   ],
   "source": [
    "plt.hist(recommended_items, bins = 100)"
   ]
  },
  {
   "cell_type": "markdown",
   "metadata": {},
   "source": [
    "##### 2-3. 추천 상품출력 → 유사한지 확인"
   ]
  },
  {
   "cell_type": "code",
   "execution_count": 26,
   "metadata": {},
   "outputs": [
    {
     "data": {
      "text/html": [
       "<div>\n",
       "<style scoped>\n",
       "    .dataframe tbody tr th:only-of-type {\n",
       "        vertical-align: middle;\n",
       "    }\n",
       "\n",
       "    .dataframe tbody tr th {\n",
       "        vertical-align: top;\n",
       "    }\n",
       "\n",
       "    .dataframe thead th {\n",
       "        text-align: right;\n",
       "    }\n",
       "</style>\n",
       "<table border=\"1\" class=\"dataframe\">\n",
       "  <thead>\n",
       "    <tr style=\"text-align: right;\">\n",
       "      <th></th>\n",
       "      <th>product_board_id</th>\n",
       "      <th>title_with_spaces</th>\n",
       "      <th>category</th>\n",
       "      <th>soup</th>\n",
       "    </tr>\n",
       "  </thead>\n",
       "  <tbody>\n",
       "    <tr>\n",
       "      <th>57</th>\n",
       "      <td>58</td>\n",
       "      <td>쿠키 무화과 파운드 비건 크림 마들렌 쑥 스콘 유자 코코넛 버터</td>\n",
       "      <td>etc</td>\n",
       "      <td>3000 etc gluten_free_tag   vegan_tag</td>\n",
       "    </tr>\n",
       "    <tr>\n",
       "      <th>126</th>\n",
       "      <td>127</td>\n",
       "      <td>쿠키 무화과 초코 다이어트 딸기 비건 번 쑥 스콘 아몬드 코코넛 베리 야채 오렌지</td>\n",
       "      <td>etc</td>\n",
       "      <td>3800 etc gluten_free_tag   vegan_tag</td>\n",
       "    </tr>\n",
       "    <tr>\n",
       "      <th>172</th>\n",
       "      <td>175</td>\n",
       "      <td>헤이즐넛 쿠키 무화과 초코 다이어트 블루베리 파운드 크림 말차 초콜릿 버터</td>\n",
       "      <td>cake</td>\n",
       "      <td>2800 cake gluten_free_tag</td>\n",
       "    </tr>\n",
       "  </tbody>\n",
       "</table>\n",
       "</div>"
      ],
      "text/plain": [
       "     product_board_id                              title_with_spaces category  \\\n",
       "57                 58            쿠키 무화과 파운드 비건 크림 마들렌 쑥 스콘 유자 코코넛 버터      etc   \n",
       "126               127  쿠키 무화과 초코 다이어트 딸기 비건 번 쑥 스콘 아몬드 코코넛 베리 야채 오렌지      etc   \n",
       "172               175      헤이즐넛 쿠키 무화과 초코 다이어트 블루베리 파운드 크림 말차 초콜릿 버터     cake   \n",
       "\n",
       "                                      soup  \n",
       "57   3000 etc gluten_free_tag   vegan_tag   \n",
       "126  3800 etc gluten_free_tag   vegan_tag   \n",
       "172          2800 cake gluten_free_tag      "
      ]
     },
     "execution_count": 26,
     "metadata": {},
     "output_type": "execute_result"
    }
   ],
   "source": [
    "case_1, _, _ = content_recommender_rank(10, 3, final_ranking, sold_out)\n",
    "\n",
    "df.loc[df['product_board_id'].isin(case_1), [\"product_board_id\", \"title_with_spaces\", \"category\", \"soup\"]]"
   ]
  },
  {
   "cell_type": "code",
   "execution_count": 27,
   "metadata": {},
   "outputs": [
    {
     "data": {
      "text/html": [
       "<div>\n",
       "<style scoped>\n",
       "    .dataframe tbody tr th:only-of-type {\n",
       "        vertical-align: middle;\n",
       "    }\n",
       "\n",
       "    .dataframe tbody tr th {\n",
       "        vertical-align: top;\n",
       "    }\n",
       "\n",
       "    .dataframe thead th {\n",
       "        text-align: right;\n",
       "    }\n",
       "</style>\n",
       "<table border=\"1\" class=\"dataframe\">\n",
       "  <thead>\n",
       "    <tr style=\"text-align: right;\">\n",
       "      <th></th>\n",
       "      <th>product_board_id</th>\n",
       "      <th>title_with_spaces</th>\n",
       "      <th>category</th>\n",
       "      <th>soup</th>\n",
       "    </tr>\n",
       "  </thead>\n",
       "  <tbody>\n",
       "    <tr>\n",
       "      <th>79</th>\n",
       "      <td>80</td>\n",
       "      <td>쿠키 초코 다이어트 식빵 설탕 버터</td>\n",
       "      <td>cookie</td>\n",
       "      <td>5800 cookie gluten_free_tag high_protein_tag  ...</td>\n",
       "    </tr>\n",
       "    <tr>\n",
       "      <th>124</th>\n",
       "      <td>125</td>\n",
       "      <td>버터 비건 식빵</td>\n",
       "      <td>bread</td>\n",
       "      <td>10600 bread gluten_free_tag   vegan_tag</td>\n",
       "    </tr>\n",
       "    <tr>\n",
       "      <th>167</th>\n",
       "      <td>170</td>\n",
       "      <td>쿠키 초코 다이어트 블루베리 비건 크림 번 말차</td>\n",
       "      <td>etc</td>\n",
       "      <td>4500 etc gluten_free_tag</td>\n",
       "    </tr>\n",
       "  </tbody>\n",
       "</table>\n",
       "</div>"
      ],
      "text/plain": [
       "     product_board_id           title_with_spaces category  \\\n",
       "79                 80         쿠키 초코 다이어트 식빵 설탕 버터   cookie   \n",
       "124               125                    버터 비건 식빵    bread   \n",
       "167               170  쿠키 초코 다이어트 블루베리 비건 크림 번 말차      etc   \n",
       "\n",
       "                                                  soup  \n",
       "79   5800 cookie gluten_free_tag high_protein_tag  ...  \n",
       "124           10600 bread gluten_free_tag   vegan_tag   \n",
       "167                       4500 etc gluten_free_tag      "
      ]
     },
     "execution_count": 27,
     "metadata": {},
     "output_type": "execute_result"
    }
   ],
   "source": [
    "case_2, _, _ = content_recommender(70, 3, sold_out)\n",
    "\n",
    "df.loc[df['product_board_id'].isin(case_2), [\"product_board_id\", \"title_with_spaces\", \"category\", \"soup\"]]"
   ]
  },
  {
   "cell_type": "code",
   "execution_count": 28,
   "metadata": {},
   "outputs": [
    {
     "data": {
      "text/html": [
       "<div>\n",
       "<style scoped>\n",
       "    .dataframe tbody tr th:only-of-type {\n",
       "        vertical-align: middle;\n",
       "    }\n",
       "\n",
       "    .dataframe tbody tr th {\n",
       "        vertical-align: top;\n",
       "    }\n",
       "\n",
       "    .dataframe thead th {\n",
       "        text-align: right;\n",
       "    }\n",
       "</style>\n",
       "<table border=\"1\" class=\"dataframe\">\n",
       "  <thead>\n",
       "    <tr style=\"text-align: right;\">\n",
       "      <th></th>\n",
       "      <th>product_board_id</th>\n",
       "      <th>title_with_spaces</th>\n",
       "      <th>category</th>\n",
       "      <th>soup</th>\n",
       "    </tr>\n",
       "  </thead>\n",
       "  <tbody>\n",
       "    <tr>\n",
       "      <th>16</th>\n",
       "      <td>17</td>\n",
       "      <td>피칸 쿠키 비건 카라멜</td>\n",
       "      <td>cookie</td>\n",
       "      <td>5500 cookie gluten_free_tag   vegan_tag</td>\n",
       "    </tr>\n",
       "    <tr>\n",
       "      <th>155</th>\n",
       "      <td>157</td>\n",
       "      <td>쿠키 무화과 초코 다이어트 파운드 비건 마들렌 말차 얼그레이 쑥 유자 스콘 코코넛 아몬드</td>\n",
       "      <td>etc</td>\n",
       "      <td>1500 etc gluten_free_tag   vegan_tag</td>\n",
       "    </tr>\n",
       "    <tr>\n",
       "      <th>170</th>\n",
       "      <td>173</td>\n",
       "      <td>헤이즐넛 쿠키 무화과 초코 비건 단호박 말차 얼그레이 쑥 스콘 레몬 코코넛 버터 아몬드</td>\n",
       "      <td>cookie</td>\n",
       "      <td>4700 cookie gluten_free_tag   vegan_tag</td>\n",
       "    </tr>\n",
       "  </tbody>\n",
       "</table>\n",
       "</div>"
      ],
      "text/plain": [
       "     product_board_id                                  title_with_spaces  \\\n",
       "16                 17                                       피칸 쿠키 비건 카라멜   \n",
       "155               157  쿠키 무화과 초코 다이어트 파운드 비건 마들렌 말차 얼그레이 쑥 유자 스콘 코코넛 아몬드   \n",
       "170               173   헤이즐넛 쿠키 무화과 초코 비건 단호박 말차 얼그레이 쑥 스콘 레몬 코코넛 버터 아몬드   \n",
       "\n",
       "    category                                      soup  \n",
       "16    cookie  5500 cookie gluten_free_tag   vegan_tag   \n",
       "155      etc     1500 etc gluten_free_tag   vegan_tag   \n",
       "170   cookie  4700 cookie gluten_free_tag   vegan_tag   "
      ]
     },
     "execution_count": 28,
     "metadata": {},
     "output_type": "execute_result"
    }
   ],
   "source": [
    "case_3, _, _ = content_recommender(100, 3, sold_out)\n",
    "df.loc[df['product_board_id'].isin(case_3), [\"product_board_id\", \"title_with_spaces\", \"category\", \"soup\"]]"
   ]
  },
  {
   "cell_type": "markdown",
   "metadata": {},
   "source": [
    "### Save"
   ]
  },
  {
   "cell_type": "code",
   "execution_count": 29,
   "metadata": {},
   "outputs": [],
   "source": [
    "import pandas as pd\n",
    "from datetime import datetime"
   ]
  },
  {
   "cell_type": "code",
   "execution_count": 30,
   "metadata": {},
   "outputs": [],
   "source": [
    "\n",
    "query_item = df.index.values.repeat(3)\n",
    "\n",
    "recommended_items = []\n",
    "\n",
    "for i in df.product_board_id.values:\n",
    "    test = content_recommender_rank(i, 3, final_ranking, sold_out)\n",
    "    recommended_items.extend(test[0])\n",
    "\n",
    "\n",
    "recommended_items = list(map(lambda x: int(x), recommended_items))\n",
    "\n",
    "\n",
    "score = []\n",
    "\n",
    "for i in df.product_board_id.values:\n",
    "    test = content_recommender_rank(i, 3, final_ranking, sold_out)\n",
    "    score.extend(test[1])\n",
    "\n",
    "\n",
    "score = list(map(lambda x: float(x), score))\n",
    "\n",
    "\n",
    "rank = [1, 2, 3]*cosine_sim.shape[0]\n",
    "\n",
    "recommendation_theme = ['similarity']*cosine_sim.shape[0]*3\n",
    "\n",
    "model_version = ['bow-1+TF-IDF']*cosine_sim.shape[0]*3\n",
    "\n",
    "created_at = [datetime.now()]*cosine_sim.shape[0]*3\n",
    "\n",
    "modified_at = [datetime.now()]*cosine_sim.shape[0]*3"
   ]
  },
  {
   "cell_type": "code",
   "execution_count": 31,
   "metadata": {},
   "outputs": [],
   "source": [
    "import pandas as pd\n",
    "from datetime import datetime\n",
    "data = {\n",
    "    'query_item': query_item,\n",
    "    'recommendation_item': recommended_items,\n",
    "    'score': score,\n",
    "    'rank': rank,\n",
    "    'recommendation_theme': recommendation_theme,\n",
    "    'model_version': model_version,\n",
    "    'created_at': created_at,\n",
    "    'modified_at': modified_at\n",
    "}\n",
    "\n",
    "recommendation_df = pd.DataFrame(data)\n"
   ]
  },
  {
   "cell_type": "code",
   "execution_count": 32,
   "metadata": {},
   "outputs": [
    {
     "data": {
      "text/html": [
       "<div>\n",
       "<style scoped>\n",
       "    .dataframe tbody tr th:only-of-type {\n",
       "        vertical-align: middle;\n",
       "    }\n",
       "\n",
       "    .dataframe tbody tr th {\n",
       "        vertical-align: top;\n",
       "    }\n",
       "\n",
       "    .dataframe thead th {\n",
       "        text-align: right;\n",
       "    }\n",
       "</style>\n",
       "<table border=\"1\" class=\"dataframe\">\n",
       "  <thead>\n",
       "    <tr style=\"text-align: right;\">\n",
       "      <th></th>\n",
       "      <th>query_item</th>\n",
       "      <th>recommendation_item</th>\n",
       "      <th>score</th>\n",
       "      <th>rank</th>\n",
       "      <th>recommendation_theme</th>\n",
       "      <th>model_version</th>\n",
       "      <th>created_at</th>\n",
       "      <th>modified_at</th>\n",
       "    </tr>\n",
       "  </thead>\n",
       "  <tbody>\n",
       "    <tr>\n",
       "      <th>0</th>\n",
       "      <td>0</td>\n",
       "      <td>47</td>\n",
       "      <td>0.0</td>\n",
       "      <td>1</td>\n",
       "      <td>similarity</td>\n",
       "      <td>bow-1+TF-IDF</td>\n",
       "      <td>2024-11-07 21:00:31.867333</td>\n",
       "      <td>2024-11-07 21:00:31.867333</td>\n",
       "    </tr>\n",
       "    <tr>\n",
       "      <th>1</th>\n",
       "      <td>0</td>\n",
       "      <td>96</td>\n",
       "      <td>0.0</td>\n",
       "      <td>2</td>\n",
       "      <td>similarity</td>\n",
       "      <td>bow-1+TF-IDF</td>\n",
       "      <td>2024-11-07 21:00:31.867333</td>\n",
       "      <td>2024-11-07 21:00:31.867333</td>\n",
       "    </tr>\n",
       "    <tr>\n",
       "      <th>2</th>\n",
       "      <td>0</td>\n",
       "      <td>166</td>\n",
       "      <td>0.0</td>\n",
       "      <td>3</td>\n",
       "      <td>similarity</td>\n",
       "      <td>bow-1+TF-IDF</td>\n",
       "      <td>2024-11-07 21:00:31.867333</td>\n",
       "      <td>2024-11-07 21:00:31.867333</td>\n",
       "    </tr>\n",
       "    <tr>\n",
       "      <th>3</th>\n",
       "      <td>1</td>\n",
       "      <td>171</td>\n",
       "      <td>24.5</td>\n",
       "      <td>1</td>\n",
       "      <td>similarity</td>\n",
       "      <td>bow-1+TF-IDF</td>\n",
       "      <td>2024-11-07 21:00:31.867333</td>\n",
       "      <td>2024-11-07 21:00:31.867333</td>\n",
       "    </tr>\n",
       "    <tr>\n",
       "      <th>4</th>\n",
       "      <td>1</td>\n",
       "      <td>70</td>\n",
       "      <td>27.0</td>\n",
       "      <td>2</td>\n",
       "      <td>similarity</td>\n",
       "      <td>bow-1+TF-IDF</td>\n",
       "      <td>2024-11-07 21:00:31.867333</td>\n",
       "      <td>2024-11-07 21:00:31.867333</td>\n",
       "    </tr>\n",
       "    <tr>\n",
       "      <th>...</th>\n",
       "      <td>...</td>\n",
       "      <td>...</td>\n",
       "      <td>...</td>\n",
       "      <td>...</td>\n",
       "      <td>...</td>\n",
       "      <td>...</td>\n",
       "      <td>...</td>\n",
       "      <td>...</td>\n",
       "    </tr>\n",
       "    <tr>\n",
       "      <th>622</th>\n",
       "      <td>207</td>\n",
       "      <td>39</td>\n",
       "      <td>11.5</td>\n",
       "      <td>2</td>\n",
       "      <td>similarity</td>\n",
       "      <td>bow-1+TF-IDF</td>\n",
       "      <td>2024-11-07 21:00:31.867333</td>\n",
       "      <td>2024-11-07 21:00:31.867333</td>\n",
       "    </tr>\n",
       "    <tr>\n",
       "      <th>623</th>\n",
       "      <td>207</td>\n",
       "      <td>91</td>\n",
       "      <td>14.0</td>\n",
       "      <td>3</td>\n",
       "      <td>similarity</td>\n",
       "      <td>bow-1+TF-IDF</td>\n",
       "      <td>2024-11-07 21:00:31.867333</td>\n",
       "      <td>2024-11-07 21:00:31.867333</td>\n",
       "    </tr>\n",
       "    <tr>\n",
       "      <th>624</th>\n",
       "      <td>208</td>\n",
       "      <td>3</td>\n",
       "      <td>0.0</td>\n",
       "      <td>1</td>\n",
       "      <td>similarity</td>\n",
       "      <td>bow-1+TF-IDF</td>\n",
       "      <td>2024-11-07 21:00:31.867333</td>\n",
       "      <td>2024-11-07 21:00:31.867333</td>\n",
       "    </tr>\n",
       "    <tr>\n",
       "      <th>625</th>\n",
       "      <td>208</td>\n",
       "      <td>4</td>\n",
       "      <td>3.0</td>\n",
       "      <td>2</td>\n",
       "      <td>similarity</td>\n",
       "      <td>bow-1+TF-IDF</td>\n",
       "      <td>2024-11-07 21:00:31.867333</td>\n",
       "      <td>2024-11-07 21:00:31.867333</td>\n",
       "    </tr>\n",
       "    <tr>\n",
       "      <th>626</th>\n",
       "      <td>208</td>\n",
       "      <td>5</td>\n",
       "      <td>4.0</td>\n",
       "      <td>3</td>\n",
       "      <td>similarity</td>\n",
       "      <td>bow-1+TF-IDF</td>\n",
       "      <td>2024-11-07 21:00:31.867333</td>\n",
       "      <td>2024-11-07 21:00:31.867333</td>\n",
       "    </tr>\n",
       "  </tbody>\n",
       "</table>\n",
       "<p>627 rows × 8 columns</p>\n",
       "</div>"
      ],
      "text/plain": [
       "     query_item  recommendation_item  score  rank recommendation_theme  \\\n",
       "0             0                   47    0.0     1           similarity   \n",
       "1             0                   96    0.0     2           similarity   \n",
       "2             0                  166    0.0     3           similarity   \n",
       "3             1                  171   24.5     1           similarity   \n",
       "4             1                   70   27.0     2           similarity   \n",
       "..          ...                  ...    ...   ...                  ...   \n",
       "622         207                   39   11.5     2           similarity   \n",
       "623         207                   91   14.0     3           similarity   \n",
       "624         208                    3    0.0     1           similarity   \n",
       "625         208                    4    3.0     2           similarity   \n",
       "626         208                    5    4.0     3           similarity   \n",
       "\n",
       "    model_version                 created_at                modified_at  \n",
       "0    bow-1+TF-IDF 2024-11-07 21:00:31.867333 2024-11-07 21:00:31.867333  \n",
       "1    bow-1+TF-IDF 2024-11-07 21:00:31.867333 2024-11-07 21:00:31.867333  \n",
       "2    bow-1+TF-IDF 2024-11-07 21:00:31.867333 2024-11-07 21:00:31.867333  \n",
       "3    bow-1+TF-IDF 2024-11-07 21:00:31.867333 2024-11-07 21:00:31.867333  \n",
       "4    bow-1+TF-IDF 2024-11-07 21:00:31.867333 2024-11-07 21:00:31.867333  \n",
       "..            ...                        ...                        ...  \n",
       "622  bow-1+TF-IDF 2024-11-07 21:00:31.867333 2024-11-07 21:00:31.867333  \n",
       "623  bow-1+TF-IDF 2024-11-07 21:00:31.867333 2024-11-07 21:00:31.867333  \n",
       "624  bow-1+TF-IDF 2024-11-07 21:00:31.867333 2024-11-07 21:00:31.867333  \n",
       "625  bow-1+TF-IDF 2024-11-07 21:00:31.867333 2024-11-07 21:00:31.867333  \n",
       "626  bow-1+TF-IDF 2024-11-07 21:00:31.867333 2024-11-07 21:00:31.867333  \n",
       "\n",
       "[627 rows x 8 columns]"
      ]
     },
     "execution_count": 32,
     "metadata": {},
     "output_type": "execute_result"
    }
   ],
   "source": [
    "recommendation_df"
   ]
  },
  {
   "cell_type": "code",
   "execution_count": 33,
   "metadata": {},
   "outputs": [
    {
     "data": {
      "text/plain": [
       "(array([ 63., 121., 109., 144.,  68.,  51.,  35.,  19.,  13.,   4.]),\n",
       " array([ 0. ,  4.3,  8.6, 12.9, 17.2, 21.5, 25.8, 30.1, 34.4, 38.7, 43. ]),\n",
       " <BarContainer object of 10 artists>)"
      ]
     },
     "execution_count": 33,
     "metadata": {},
     "output_type": "execute_result"
    },
    {
     "data": {
      "image/png": "[encoded data removed]",
      "text/plain": [
       "<Figure size 640x480 with 1 Axes>"
      ]
     },
     "metadata": {},
     "output_type": "display_data"
    }
   ],
   "source": [
    "plt.hist(recommendation_df['score'])"
   ]
  },
  {
   "cell_type": "code",
   "execution_count": 34,
   "metadata": {},
   "outputs": [
    {
     "data": {
      "text/plain": [
       "(array([ 5.,  8.,  2.,  3.,  8., 10.,  4.,  3.,  4.,  5., 16.,  4.,  1.,\n",
       "         2.,  5., 11.,  9.,  7.,  5.,  8.,  7.,  1.,  5.,  5.,  1.,  4.,\n",
       "         6.,  9.,  8.,  9., 10.,  7.,  5.,  5.,  1.,  4.,  5.,  8.,  8.,\n",
       "        16., 13.,  8.,  7.,  2.,  1.,  5.,  6.,  3.,  7., 10.,  7.,  2.,\n",
       "         6.,  6.,  7.,  5.,  7.,  7.,  9.,  6., 16.,  7.,  4.,  5.,  2.,\n",
       "         5.,  4.,  4.,  9.,  7.,  9.,  8.,  5.,  7.,  7.,  5.,  2., 10.,\n",
       "         4.,  3., 11.,  7.,  8., 11.,  5.,  7.,  4.,  5.,  2., 10.,  6.,\n",
       "         3.,  2.,  4.,  8., 10., 14.,  8.,  6.,  5.]),\n",
       " array([  1. ,   3.1,   5.2,   7.3,   9.4,  11.5,  13.6,  15.7,  17.8,\n",
       "         19.9,  22. ,  24.1,  26.2,  28.3,  30.4,  32.5,  34.6,  36.7,\n",
       "         38.8,  40.9,  43. ,  45.1,  47.2,  49.3,  51.4,  53.5,  55.6,\n",
       "         57.7,  59.8,  61.9,  64. ,  66.1,  68.2,  70.3,  72.4,  74.5,\n",
       "         76.6,  78.7,  80.8,  82.9,  85. ,  87.1,  89.2,  91.3,  93.4,\n",
       "         95.5,  97.6,  99.7, 101.8, 103.9, 106. , 108.1, 110.2, 112.3,\n",
       "        114.4, 116.5, 118.6, 120.7, 122.8, 124.9, 127. , 129.1, 131.2,\n",
       "        133.3, 135.4, 137.5, 139.6, 141.7, 143.8, 145.9, 148. , 150.1,\n",
       "        152.2, 154.3, 156.4, 158.5, 160.6, 162.7, 164.8, 166.9, 169. ,\n",
       "        171.1, 173.2, 175.3, 177.4, 179.5, 181.6, 183.7, 185.8, 187.9,\n",
       "        190. , 192.1, 194.2, 196.3, 198.4, 200.5, 202.6, 204.7, 206.8,\n",
       "        208.9, 211. ]),\n",
       " <BarContainer object of 100 artists>)"
      ]
     },
     "execution_count": 34,
     "metadata": {},
     "output_type": "execute_result"
    },
    {
     "data": {
      "image/png": "[encoded data removed]",
      "text/plain": [
       "<Figure size 640x480 with 1 Axes>"
      ]
     },
     "metadata": {},
     "output_type": "display_data"
    }
   ],
   "source": [
    "plt.hist(recommendation_df['recommendation_item'], bins = 100)"
   ]
  },
  {
   "cell_type": "code",
   "execution_count": null,
   "metadata": {},
   "outputs": [],
   "source": []
  },
  {
   "cell_type": "code",
   "execution_count": null,
   "metadata": {},
   "outputs": [],
   "source": []
  }
 ],
 "metadata": {
  "kernelspec": {
   "display_name": "Python 3",
   "language": "python",
   "name": "python3"
  },
  "language_info": {
   "codemirror_mode": {
    "name": "ipython",
    "version": 3
   },
   "file_extension": ".py",
   "mimetype": "text/x-python",
   "name": "python",
   "nbconvert_exporter": "python",
   "pygments_lexer": "ipython3",
   "version": "3.12.7"
  }
 },
 "nbformat": 4,
 "nbformat_minor": 2
}
