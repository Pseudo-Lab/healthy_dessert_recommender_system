{
 "cells": [
  {
   "cell_type": "markdown",
   "metadata": {},
   "source": [
    "#### 작업 노트북 \n",
    "- feature 정리 \n",
    "- 데이터 전처리\n",
    "- 모델링\n",
    "- 학습 및 추론\n",
    "- 제품별 추천 결과 테이블"
   ]
  },
  {
   "cell_type": "code",
   "execution_count": null,
   "metadata": {},
   "outputs": [
    {
     "name": "stdout",
     "output_type": "stream",
     "text": [
      "Defaulting to user installation because normal site-packages is not writeableNote: you may need to restart the kernel to use updated packages.\n"
     ]
    },
    {
     "name": "stderr",
     "output_type": "stream",
     "text": [
      "\n",
      "[notice] A new release of pip is available: 24.2 -> 24.3.1\n",
      "[notice] To update, run: C:\\Users\\user\\AppData\\Local\\Microsoft\\WindowsApps\\PythonSoftwareFoundation.Python.3.12_qbz5n2kfra8p0\\python.exe -m pip install --upgrade pip\n"
     ]
    },
    {
     "name": "stdout",
     "output_type": "stream",
     "text": [
      "\n",
      "Requirement already satisfied: pandas in c:\\users\\user\\appdata\\local\\packages\\pythonsoftwarefoundation.python.3.12_qbz5n2kfra8p0\\localcache\\local-packages\\python312\\site-packages (2.2.3)\n",
      "Requirement already satisfied: numpy>=1.26.0 in c:\\users\\user\\appdata\\local\\packages\\pythonsoftwarefoundation.python.3.12_qbz5n2kfra8p0\\localcache\\local-packages\\python312\\site-packages (from pandas) (2.1.2)\n",
      "Requirement already satisfied: python-dateutil>=2.8.2 in c:\\users\\user\\appdata\\local\\packages\\pythonsoftwarefoundation.python.3.12_qbz5n2kfra8p0\\localcache\\local-packages\\python312\\site-packages (from pandas) (2.8.2)\n",
      "Requirement already satisfied: pytz>=2020.1 in c:\\users\\user\\appdata\\local\\packages\\pythonsoftwarefoundation.python.3.12_qbz5n2kfra8p0\\localcache\\local-packages\\python312\\site-packages (from pandas) (2024.2)\n",
      "Requirement already satisfied: tzdata>=2022.7 in c:\\users\\user\\appdata\\local\\packages\\pythonsoftwarefoundation.python.3.12_qbz5n2kfra8p0\\localcache\\local-packages\\python312\\site-packages (from pandas) (2024.2)\n",
      "Requirement already satisfied: six>=1.5 in c:\\users\\user\\appdata\\local\\packages\\pythonsoftwarefoundation.python.3.12_qbz5n2kfra8p0\\localcache\\local-packages\\python312\\site-packages (from python-dateutil>=2.8.2->pandas) (1.16.0)\n"
     ]
    }
   ],
   "source": [
    "%pip install pandas\n",
    "%pip install scikit-learn\n",
    "%pip install sqlalchemy\n",
    "%pip install pymysql\n",
    "%pip install konlpy\n",
    "%pip install matplotlib\n",
    "%pip install gensim\n",
    "%pip install numpy==1.26.4"
   ]
  },
  {
   "cell_type": "code",
   "execution_count": 1,
   "metadata": {},
   "outputs": [],
   "source": [
    "import pandas as pd\n",
    "import warnings\n",
    "import re \n",
    "from model.bow import BagOfWords\n",
    "from model.tfidf import TfIdf\n",
    "import yaml\n",
    "import matplotlib.pyplot as plt\n",
    "\n",
    "from utils.preprocessing import *\n",
    "\n",
    "warnings.filterwarnings(\"ignore\")"
   ]
  },
  {
   "cell_type": "markdown",
   "metadata": {},
   "source": [
    "#### Configuration\n",
    "- 추천 서비스 생성을 위해서 필요한 설정값들을 세팅합니다."
   ]
  },
  {
   "cell_type": "code",
   "execution_count": 2,
   "metadata": {},
   "outputs": [],
   "source": [
    "# config\n",
    "with open('configs/database.yaml') as f:\n",
    "    cfg = yaml.load(f, Loader=yaml.FullLoader)"
   ]
  },
  {
   "cell_type": "code",
   "execution_count": 3,
   "metadata": {},
   "outputs": [],
   "source": [
    "from utils.query_service import QueryService\n",
    "query_service = QueryService(cfg['mysql'])"
   ]
  },
  {
   "cell_type": "markdown",
   "metadata": {},
   "source": [
    "#### Data Import\n",
    "- 사용할 데이터를 mysql에서 가져옵니다. "
   ]
  },
  {
   "cell_type": "code",
   "execution_count": 4,
   "metadata": {},
   "outputs": [
    {
     "data": {
      "text/html": [
       "<div>\n",
       "<style scoped>\n",
       "    .dataframe tbody tr th:only-of-type {\n",
       "        vertical-align: middle;\n",
       "    }\n",
       "\n",
       "    .dataframe tbody tr th {\n",
       "        vertical-align: top;\n",
       "    }\n",
       "\n",
       "    .dataframe thead th {\n",
       "        text-align: right;\n",
       "    }\n",
       "</style>\n",
       "<table border=\"1\" class=\"dataframe\">\n",
       "  <thead>\n",
       "    <tr style=\"text-align: right;\">\n",
       "      <th></th>\n",
       "      <th>Tables_in_bakery</th>\n",
       "    </tr>\n",
       "  </thead>\n",
       "  <tbody>\n",
       "    <tr>\n",
       "      <th>0</th>\n",
       "      <td>board_preference_statistic</td>\n",
       "    </tr>\n",
       "    <tr>\n",
       "      <th>1</th>\n",
       "      <td>board_statistic</td>\n",
       "    </tr>\n",
       "    <tr>\n",
       "      <th>2</th>\n",
       "      <td>food_survey</td>\n",
       "    </tr>\n",
       "    <tr>\n",
       "      <th>3</th>\n",
       "      <td>image</td>\n",
       "    </tr>\n",
       "    <tr>\n",
       "      <th>4</th>\n",
       "      <td>member</td>\n",
       "    </tr>\n",
       "    <tr>\n",
       "      <th>5</th>\n",
       "      <td>member_preference</td>\n",
       "    </tr>\n",
       "    <tr>\n",
       "      <th>6</th>\n",
       "      <td>notice</td>\n",
       "    </tr>\n",
       "    <tr>\n",
       "      <th>7</th>\n",
       "      <td>preference</td>\n",
       "    </tr>\n",
       "    <tr>\n",
       "      <th>8</th>\n",
       "      <td>product</td>\n",
       "    </tr>\n",
       "    <tr>\n",
       "      <th>9</th>\n",
       "      <td>product_board</td>\n",
       "    </tr>\n",
       "    <tr>\n",
       "      <th>10</th>\n",
       "      <td>product_detail</td>\n",
       "    </tr>\n",
       "    <tr>\n",
       "      <th>11</th>\n",
       "      <td>product_img</td>\n",
       "    </tr>\n",
       "    <tr>\n",
       "      <th>12</th>\n",
       "      <td>push</td>\n",
       "    </tr>\n",
       "    <tr>\n",
       "      <th>13</th>\n",
       "      <td>push_date</td>\n",
       "    </tr>\n",
       "    <tr>\n",
       "      <th>14</th>\n",
       "      <td>random_board</td>\n",
       "    </tr>\n",
       "    <tr>\n",
       "      <th>15</th>\n",
       "      <td>refresh_token</td>\n",
       "    </tr>\n",
       "    <tr>\n",
       "      <th>16</th>\n",
       "      <td>review</td>\n",
       "    </tr>\n",
       "    <tr>\n",
       "      <th>17</th>\n",
       "      <td>review_img</td>\n",
       "    </tr>\n",
       "    <tr>\n",
       "      <th>18</th>\n",
       "      <td>review_like</td>\n",
       "    </tr>\n",
       "    <tr>\n",
       "      <th>19</th>\n",
       "      <td>search</td>\n",
       "    </tr>\n",
       "    <tr>\n",
       "      <th>20</th>\n",
       "      <td>signature_agreement</td>\n",
       "    </tr>\n",
       "    <tr>\n",
       "      <th>21</th>\n",
       "      <td>store</td>\n",
       "    </tr>\n",
       "    <tr>\n",
       "      <th>22</th>\n",
       "      <td>test_store</td>\n",
       "    </tr>\n",
       "    <tr>\n",
       "      <th>23</th>\n",
       "      <td>wishlist_folder</td>\n",
       "    </tr>\n",
       "    <tr>\n",
       "      <th>24</th>\n",
       "      <td>wishlist_product</td>\n",
       "    </tr>\n",
       "    <tr>\n",
       "      <th>25</th>\n",
       "      <td>wishlist_store</td>\n",
       "    </tr>\n",
       "    <tr>\n",
       "      <th>26</th>\n",
       "      <td>withdrawal</td>\n",
       "    </tr>\n",
       "  </tbody>\n",
       "</table>\n",
       "</div>"
      ],
      "text/plain": [
       "              Tables_in_bakery\n",
       "0   board_preference_statistic\n",
       "1              board_statistic\n",
       "2                  food_survey\n",
       "3                        image\n",
       "4                       member\n",
       "5            member_preference\n",
       "6                       notice\n",
       "7                   preference\n",
       "8                      product\n",
       "9                product_board\n",
       "10              product_detail\n",
       "11                 product_img\n",
       "12                        push\n",
       "13                   push_date\n",
       "14                random_board\n",
       "15               refresh_token\n",
       "16                      review\n",
       "17                  review_img\n",
       "18                 review_like\n",
       "19                      search\n",
       "20         signature_agreement\n",
       "21                       store\n",
       "22                  test_store\n",
       "23             wishlist_folder\n",
       "24            wishlist_product\n",
       "25              wishlist_store\n",
       "26                  withdrawal"
      ]
     },
     "execution_count": 4,
     "metadata": {},
     "output_type": "execute_result"
    }
   ],
   "source": [
    "query_service.query_to_pandas_df('Show tables')"
   ]
  },
  {
   "cell_type": "code",
   "execution_count": 5,
   "metadata": {},
   "outputs": [],
   "source": [
    "PRODUCT_BOARD_SQL = \"\"\"\n",
    "SELECT id\n",
    ", store_id\n",
    ", title\n",
    ", price\n",
    ", is_soldout\n",
    ", view \n",
    "FROM product_board\n",
    "\"\"\"\n",
    "product_board = query_service.query_to_pandas_df(PRODUCT_BOARD_SQL)"
   ]
  },
  {
   "cell_type": "code",
   "execution_count": 6,
   "metadata": {},
   "outputs": [],
   "source": [
    "PRODUCT_SQL = \"\"\"\n",
    "SELECT id\n",
    ", product_board_id\n",
    ", title as option\n",
    ", price as option_price\n",
    ", category\n",
    ", gluten_free_tag\n",
    ", high_protein_tag\n",
    ", sugar_free_tag\n",
    ", vegan_tag\n",
    ", ketogenic_tag\n",
    "FROM product\n",
    "\"\"\"\n",
    "product = query_service.query_to_pandas_df(PRODUCT_SQL)"
   ]
  },
  {
   "cell_type": "code",
   "execution_count": 7,
   "metadata": {},
   "outputs": [],
   "source": [
    "REVIEW_SQL = \"\"\"\n",
    "SELECT board_id\n",
    ", badge_taste\n",
    ", badge_brix\n",
    ", badge_texture\n",
    ", rate\n",
    ", content\n",
    "FROM review\n",
    "\"\"\"\n",
    "review = query_service.query_to_pandas_df(REVIEW_SQL)\n",
    "review = review.drop_duplicates(subset=['board_id', 'content'], keep='first')"
   ]
  },
  {
   "cell_type": "code",
   "execution_count": 8,
   "metadata": {},
   "outputs": [],
   "source": [
    "BOARD_STAT_SQL = \"\"\"\n",
    "SELECT board_id\n",
    ", board_review_grade\n",
    ", board_view_count\n",
    ", board_review_count\n",
    ", board_wish_count \n",
    "FROM board_statistic\n",
    "\"\"\"\n",
    "board_stat = query_service.query_to_pandas_df(BOARD_STAT_SQL)"
   ]
  },
  {
   "cell_type": "code",
   "execution_count": 9,
   "metadata": {},
   "outputs": [],
   "source": [
    "# board_id가 각 preference_type마다 얼만큼의 preference_score를 갖는지\n",
    "# 아직 신뢰성있는 데이터로 보이진 않음 (샘플이 적고 score의 분산이 너무 큼)\n",
    "BOARD_PREFERENCE_STAT_SQL = \"\"\"\n",
    "SELECT board_id\n",
    ", preference_score\n",
    ", preference_type\n",
    ", preference_weight\n",
    "FROM board_preference_statistic\n",
    "ORDER BY board_id\n",
    "\"\"\"\n",
    "board_preference_stat = query_service.query_to_pandas_df(BOARD_PREFERENCE_STAT_SQL)"
   ]
  },
  {
   "cell_type": "markdown",
   "metadata": {},
   "source": [
    "#### Preprocessing"
   ]
  },
  {
   "cell_type": "markdown",
   "metadata": {},
   "source": [
    "1. Product + Product board 데이터 기반 유사도 테이블\n",
    "2. Coverage 평가 방법 수행 및 시각화\n",
    "3. 후처리 고려하기"
   ]
  },
  {
   "cell_type": "code",
   "execution_count": 10,
   "metadata": {},
   "outputs": [
    {
     "data": {
      "text/html": [
       "<div>\n",
       "<style scoped>\n",
       "    .dataframe tbody tr th:only-of-type {\n",
       "        vertical-align: middle;\n",
       "    }\n",
       "\n",
       "    .dataframe tbody tr th {\n",
       "        vertical-align: top;\n",
       "    }\n",
       "\n",
       "    .dataframe thead th {\n",
       "        text-align: right;\n",
       "    }\n",
       "</style>\n",
       "<table border=\"1\" class=\"dataframe\">\n",
       "  <thead>\n",
       "    <tr style=\"text-align: right;\">\n",
       "      <th></th>\n",
       "      <th>id</th>\n",
       "      <th>product_board_id</th>\n",
       "      <th>option</th>\n",
       "      <th>option_price</th>\n",
       "      <th>category</th>\n",
       "      <th>gluten_free_tag</th>\n",
       "      <th>high_protein_tag</th>\n",
       "      <th>sugar_free_tag</th>\n",
       "      <th>vegan_tag</th>\n",
       "      <th>ketogenic_tag</th>\n",
       "    </tr>\n",
       "  </thead>\n",
       "  <tbody>\n",
       "    <tr>\n",
       "      <th>0</th>\n",
       "      <td>1</td>\n",
       "      <td>1</td>\n",
       "      <td>필수상품 없음</td>\n",
       "      <td>3800</td>\n",
       "      <td>CAKE</td>\n",
       "      <td>1</td>\n",
       "      <td>0</td>\n",
       "      <td>0</td>\n",
       "      <td>0</td>\n",
       "      <td>0</td>\n",
       "    </tr>\n",
       "    <tr>\n",
       "      <th>1</th>\n",
       "      <td>2</td>\n",
       "      <td>2</td>\n",
       "      <td>드리</td>\n",
       "      <td>5000</td>\n",
       "      <td>COOKIE</td>\n",
       "      <td>1</td>\n",
       "      <td>0</td>\n",
       "      <td>0</td>\n",
       "      <td>1</td>\n",
       "      <td>0</td>\n",
       "    </tr>\n",
       "    <tr>\n",
       "      <th>2</th>\n",
       "      <td>3</td>\n",
       "      <td>2</td>\n",
       "      <td>초코코코넛(넛프리)</td>\n",
       "      <td>5000</td>\n",
       "      <td>COOKIE</td>\n",
       "      <td>1</td>\n",
       "      <td>0</td>\n",
       "      <td>0</td>\n",
       "      <td>1</td>\n",
       "      <td>0</td>\n",
       "    </tr>\n",
       "    <tr>\n",
       "      <th>3</th>\n",
       "      <td>4</td>\n",
       "      <td>2</td>\n",
       "      <td>한라봉얼그레이</td>\n",
       "      <td>5000</td>\n",
       "      <td>COOKIE</td>\n",
       "      <td>1</td>\n",
       "      <td>0</td>\n",
       "      <td>0</td>\n",
       "      <td>1</td>\n",
       "      <td>0</td>\n",
       "    </tr>\n",
       "    <tr>\n",
       "      <th>4</th>\n",
       "      <td>5</td>\n",
       "      <td>2</td>\n",
       "      <td>바나나피칸(제로슈가/노오일/노솔트)</td>\n",
       "      <td>5000</td>\n",
       "      <td>COOKIE</td>\n",
       "      <td>1</td>\n",
       "      <td>0</td>\n",
       "      <td>0</td>\n",
       "      <td>1</td>\n",
       "      <td>0</td>\n",
       "    </tr>\n",
       "  </tbody>\n",
       "</table>\n",
       "</div>"
      ],
      "text/plain": [
       "   id  product_board_id               option  option_price category  \\\n",
       "0   1                 1              필수상품 없음          3800     CAKE   \n",
       "1   2                 2                   드리          5000   COOKIE   \n",
       "2   3                 2           초코코코넛(넛프리)          5000   COOKIE   \n",
       "3   4                 2              한라봉얼그레이          5000   COOKIE   \n",
       "4   5                 2  바나나피칸(제로슈가/노오일/노솔트)          5000   COOKIE   \n",
       "\n",
       "   gluten_free_tag  high_protein_tag  sugar_free_tag  vegan_tag  ketogenic_tag  \n",
       "0                1                 0               0          0              0  \n",
       "1                1                 0               0          1              0  \n",
       "2                1                 0               0          1              0  \n",
       "3                1                 0               0          1              0  \n",
       "4                1                 0               0          1              0  "
      ]
     },
     "execution_count": 10,
     "metadata": {},
     "output_type": "execute_result"
    }
   ],
   "source": [
    "product.head()"
   ]
  },
  {
   "cell_type": "code",
   "execution_count": 11,
   "metadata": {},
   "outputs": [
    {
     "data": {
      "text/html": [
       "<div>\n",
       "<style scoped>\n",
       "    .dataframe tbody tr th:only-of-type {\n",
       "        vertical-align: middle;\n",
       "    }\n",
       "\n",
       "    .dataframe tbody tr th {\n",
       "        vertical-align: top;\n",
       "    }\n",
       "\n",
       "    .dataframe thead th {\n",
       "        text-align: right;\n",
       "    }\n",
       "</style>\n",
       "<table border=\"1\" class=\"dataframe\">\n",
       "  <thead>\n",
       "    <tr style=\"text-align: right;\">\n",
       "      <th></th>\n",
       "      <th>id</th>\n",
       "      <th>store_id</th>\n",
       "      <th>title</th>\n",
       "      <th>price</th>\n",
       "      <th>is_soldout</th>\n",
       "      <th>view</th>\n",
       "    </tr>\n",
       "  </thead>\n",
       "  <tbody>\n",
       "    <tr>\n",
       "      <th>0</th>\n",
       "      <td>1</td>\n",
       "      <td>1</td>\n",
       "      <td>냥빵 파운드 저탄수 대체당 제로 빵 글루텐프리 건강빵 비건</td>\n",
       "      <td>3800</td>\n",
       "      <td>0</td>\n",
       "      <td>0</td>\n",
       "    </tr>\n",
       "    <tr>\n",
       "      <th>1</th>\n",
       "      <td>2</td>\n",
       "      <td>2</td>\n",
       "      <td>비건 유기농 쌀 &amp; 기장쌀 잡곡 비스코티 5종 미앤드리 글루텐프리</td>\n",
       "      <td>5000</td>\n",
       "      <td>1</td>\n",
       "      <td>0</td>\n",
       "    </tr>\n",
       "    <tr>\n",
       "      <th>2</th>\n",
       "      <td>3</td>\n",
       "      <td>3</td>\n",
       "      <td>비건이레 비건케이크 글루텐프리 떠먹는케이크 얼그레이아몬드베린느 GF</td>\n",
       "      <td>7500</td>\n",
       "      <td>0</td>\n",
       "      <td>0</td>\n",
       "    </tr>\n",
       "    <tr>\n",
       "      <th>3</th>\n",
       "      <td>4</td>\n",
       "      <td>4</td>\n",
       "      <td>프로넛 무설탕 자일리톨 캔디 레몬 선물 사탕 금연 양치 아이간식 어린이집</td>\n",
       "      <td>2800</td>\n",
       "      <td>0</td>\n",
       "      <td>0</td>\n",
       "    </tr>\n",
       "    <tr>\n",
       "      <th>4</th>\n",
       "      <td>5</td>\n",
       "      <td>5</td>\n",
       "      <td>꾸디 비건쿠키 (르뱅쿠키 수제쿠키)</td>\n",
       "      <td>4200</td>\n",
       "      <td>0</td>\n",
       "      <td>0</td>\n",
       "    </tr>\n",
       "  </tbody>\n",
       "</table>\n",
       "</div>"
      ],
      "text/plain": [
       "   id  store_id                                     title  price  is_soldout  \\\n",
       "0   1         1          냥빵 파운드 저탄수 대체당 제로 빵 글루텐프리 건강빵 비건   3800           0   \n",
       "1   2         2      비건 유기농 쌀 & 기장쌀 잡곡 비스코티 5종 미앤드리 글루텐프리   5000           1   \n",
       "2   3         3     비건이레 비건케이크 글루텐프리 떠먹는케이크 얼그레이아몬드베린느 GF   7500           0   \n",
       "3   4         4  프로넛 무설탕 자일리톨 캔디 레몬 선물 사탕 금연 양치 아이간식 어린이집   2800           0   \n",
       "4   5         5                       꾸디 비건쿠키 (르뱅쿠키 수제쿠키)   4200           0   \n",
       "\n",
       "   view  \n",
       "0     0  \n",
       "1     0  \n",
       "2     0  \n",
       "3     0  \n",
       "4     0  "
      ]
     },
     "execution_count": 11,
     "metadata": {},
     "output_type": "execute_result"
    }
   ],
   "source": [
    "product_board.head()"
   ]
  },
  {
   "cell_type": "code",
   "execution_count": 12,
   "metadata": {},
   "outputs": [
    {
     "data": {
      "text/html": [
       "<div>\n",
       "<style scoped>\n",
       "    .dataframe tbody tr th:only-of-type {\n",
       "        vertical-align: middle;\n",
       "    }\n",
       "\n",
       "    .dataframe tbody tr th {\n",
       "        vertical-align: top;\n",
       "    }\n",
       "\n",
       "    .dataframe thead th {\n",
       "        text-align: right;\n",
       "    }\n",
       "</style>\n",
       "<table border=\"1\" class=\"dataframe\">\n",
       "  <thead>\n",
       "    <tr style=\"text-align: right;\">\n",
       "      <th></th>\n",
       "      <th>board_id</th>\n",
       "      <th>badge_taste</th>\n",
       "      <th>badge_brix</th>\n",
       "      <th>badge_texture</th>\n",
       "      <th>rate</th>\n",
       "      <th>content</th>\n",
       "    </tr>\n",
       "  </thead>\n",
       "  <tbody>\n",
       "    <tr>\n",
       "      <th>0</th>\n",
       "      <td>178</td>\n",
       "      <td>GOOD</td>\n",
       "      <td>NULL</td>\n",
       "      <td>NULL</td>\n",
       "      <td>3.0</td>\n",
       "      <td>일단 크기는 굉장히 작아요 성분이 괜찮아서 구매했는데 저는 그냥 한번 먹어본걸로 만...</td>\n",
       "    </tr>\n",
       "    <tr>\n",
       "      <th>1</th>\n",
       "      <td>178</td>\n",
       "      <td>NULL</td>\n",
       "      <td>NULL</td>\n",
       "      <td>NULL</td>\n",
       "      <td>5.0</td>\n",
       "      <td>좋은 빵 많이 만들어주세요</td>\n",
       "    </tr>\n",
       "    <tr>\n",
       "      <th>2</th>\n",
       "      <td>178</td>\n",
       "      <td>NULL</td>\n",
       "      <td>NULL</td>\n",
       "      <td>NULL</td>\n",
       "      <td>5.0</td>\n",
       "      <td>건강한 상품 잘 먹겠습니다</td>\n",
       "    </tr>\n",
       "    <tr>\n",
       "      <th>3</th>\n",
       "      <td>178</td>\n",
       "      <td>GOOD</td>\n",
       "      <td>NULL</td>\n",
       "      <td>NULL</td>\n",
       "      <td>5.0</td>\n",
       "      <td>너무 맛있어요성분도 좋구요크기가 너무 작아서계속 먹게되네요ㅋ</td>\n",
       "    </tr>\n",
       "    <tr>\n",
       "      <th>4</th>\n",
       "      <td>178</td>\n",
       "      <td>NULL</td>\n",
       "      <td>NULL</td>\n",
       "      <td>NULL</td>\n",
       "      <td>5.0</td>\n",
       "      <td>배송 좋았습니다. 고객센터 전화도 잘 되구요</td>\n",
       "    </tr>\n",
       "  </tbody>\n",
       "</table>\n",
       "</div>"
      ],
      "text/plain": [
       "   board_id badge_taste badge_brix badge_texture  rate  \\\n",
       "0       178        GOOD       NULL          NULL   3.0   \n",
       "1       178        NULL       NULL          NULL   5.0   \n",
       "2       178        NULL       NULL          NULL   5.0   \n",
       "3       178        GOOD       NULL          NULL   5.0   \n",
       "4       178        NULL       NULL          NULL   5.0   \n",
       "\n",
       "                                             content  \n",
       "0  일단 크기는 굉장히 작아요 성분이 괜찮아서 구매했는데 저는 그냥 한번 먹어본걸로 만...  \n",
       "1                                     좋은 빵 많이 만들어주세요  \n",
       "2                                     건강한 상품 잘 먹겠습니다  \n",
       "3                  너무 맛있어요성분도 좋구요크기가 너무 작아서계속 먹게되네요ㅋ  \n",
       "4                           배송 좋았습니다. 고객센터 전화도 잘 되구요  "
      ]
     },
     "execution_count": 12,
     "metadata": {},
     "output_type": "execute_result"
    }
   ],
   "source": [
    "review.head()"
   ]
  },
  {
   "cell_type": "code",
   "execution_count": 13,
   "metadata": {},
   "outputs": [],
   "source": [
    "sold_out = product_board[product_board['is_soldout']==1]['store_id'].unique()"
   ]
  },
  {
   "cell_type": "code",
   "execution_count": 14,
   "metadata": {},
   "outputs": [
    {
     "data": {
      "text/plain": [
       "(209, 9)"
      ]
     },
     "execution_count": 14,
     "metadata": {},
     "output_type": "execute_result"
    }
   ],
   "source": [
    "grouped = product.groupby('product_board_id').agg({\n",
    "    'id': 'first',\n",
    "    'option': ' '.join, # option을 공백을 두고 이어 붙임\n",
    "    'option_price': 'first',\n",
    "    'category': 'first',\n",
    "    'gluten_free_tag': 'first',\n",
    "    'high_protein_tag': 'first',\n",
    "    'sugar_free_tag': 'first',\n",
    "    'vegan_tag': 'first',\n",
    "    'ketogenic_tag': 'first',\n",
    "})\n",
    "\n",
    "\n",
    "df = grouped.copy()\n",
    "\n",
    "df['id'] = df.index\n",
    "\n",
    "df.shape"
   ]
  },
  {
   "cell_type": "code",
   "execution_count": 15,
   "metadata": {},
   "outputs": [
    {
     "data": {
      "text/plain": [
       "(35, 2)"
      ]
     },
     "execution_count": 15,
     "metadata": {},
     "output_type": "execute_result"
    }
   ],
   "source": [
    "grouped = product_board.groupby('store_id').agg({\n",
    "    'title': ' '.join  # title을 공백을 두고 이어 붙임\n",
    "})\n",
    "\n",
    "\n",
    "df_board = grouped.copy()\n",
    "\n",
    "\n",
    "df_board['id'] = df_board.index\n",
    "\n",
    "df_board.shape"
   ]
  },
  {
   "cell_type": "code",
   "execution_count": 16,
   "metadata": {},
   "outputs": [
    {
     "data": {
      "text/plain": [
       "(154, 3)"
      ]
     },
     "execution_count": 16,
     "metadata": {},
     "output_type": "execute_result"
    }
   ],
   "source": [
    "#review = review.loc[review['rate']>3, :].copy()\n",
    "\n",
    "grouped = review.groupby('board_id').agg({\n",
    "    'rate': 'mean',\n",
    "    'content': ' '.join  # content을 공백을 두고 이어 붙임\n",
    "})\n",
    "\n",
    "\n",
    "df_review = grouped.copy()\n",
    "\n",
    "\n",
    "df_review['id'] = df_review.index\n",
    "\n",
    "df_review.shape"
   ]
  },
  {
   "cell_type": "code",
   "execution_count": 17,
   "metadata": {},
   "outputs": [],
   "source": [
    "df = df[['id', 'option', 'option_price', 'category', 'gluten_free_tag', 'high_protein_tag', 'sugar_free_tag', 'vegan_tag', 'ketogenic_tag']].copy()"
   ]
  },
  {
   "cell_type": "code",
   "execution_count": 18,
   "metadata": {},
   "outputs": [],
   "source": [
    "df = df.drop_duplicates()\n",
    "\n",
    "df = df.dropna()\n",
    "\n",
    "df['option'] = df['option'].fillna('')\n",
    "df.loc[df['option'] == '필수상품 없음', 'option'] = ''"
   ]
  },
  {
   "cell_type": "code",
   "execution_count": 19,
   "metadata": {},
   "outputs": [],
   "source": [
    "# 두 데이터프레임을 store_id (df_board)와 product_board_id (df) 기준으로 병합\n",
    "merged_df = pd.merge(df, df_board, left_on='id', right_on='id', how='left')\n",
    "merged_df = pd.merge(merged_df, df_review, left_on = 'id', right_on='id', how='left')\n",
    "df = merged_df.copy()"
   ]
  },
  {
   "cell_type": "code",
   "execution_count": 20,
   "metadata": {},
   "outputs": [],
   "source": [
    "# Create the new soup feature\n",
    "df['title'] = df.apply(create_title, axis=1)"
   ]
  },
  {
   "cell_type": "code",
   "execution_count": 21,
   "metadata": {},
   "outputs": [
    {
     "data": {
      "text/plain": [
       "0       냥빵 파운드 저탄수 대체당 제로 빵 글루텐프리 건강빵 비건 레몬 키토 머핀 저탄고...\n",
       "1      드리 초코코코넛(넛프리) 한라봉얼그레이 바나나피칸(제로슈가/노오일/노솔트) 말차캐슈...\n",
       "2      베린느 얼그레이아몬드베린느 (GF) 헤이즐넛베린느 (GF) 임자레오베린느 쑥스러운딸...\n",
       "3      레몬 퓨어(오리지널) 복숭아 샤인머스켓 콜라 페퍼민트 프로넛 무설탕 자일리톨 캔디 ...\n",
       "4      쿠키 선택 coming soon ★ 꾸디 비건쿠키 (르뱅쿠키 수제쿠키) 꾸디 이달의...\n",
       "                             ...                        \n",
       "204         무화과비스코티 코코넛비스코티 헤이즐넛초코비스코티 모카초코칩비스코티 nan nan\n",
       "205    단백질 빵떡이 초코 솔티카라멜 바닐라크림 고구마 단호박 흑임자 nan 빵과 떡을 사...\n",
       "206                                              nan nan\n",
       "207    초코 마들렌 메콩 마들렌 쑥밭 마들렌 (+200원) 레몬얼그레이 마들렌 (+200원...\n",
       "208    구성1 구성2 딸기맛 3개 우유맛 3개 초코맛 3개 흑임자맛 3개 nan 엄마가 병...\n",
       "Name: title, Length: 209, dtype: object"
      ]
     },
     "execution_count": 21,
     "metadata": {},
     "output_type": "execute_result"
    }
   ],
   "source": [
    "df['title']"
   ]
  },
  {
   "cell_type": "code",
   "execution_count": 23,
   "metadata": {},
   "outputs": [],
   "source": [
    "from konlpy.tag import Okt\n",
    "import pandas as pd\n",
    "\n",
    "\n",
    "\n",
    "# title에 공백 추가\n",
    "df['title_with_spaces'], df['title_nouns_list'] = zip(*df['title'].apply(add_spaces))"
   ]
  },
  {
   "cell_type": "code",
   "execution_count": 24,
   "metadata": {},
   "outputs": [
    {
     "data": {
      "text/plain": [
       "0                               머핀 설탕 버터\n",
       "1                       쿠키 치즈케이크 스콘 브라우니\n",
       "2      크림 티라미수 버터 푸딩 초콜릿 라즈베리 쿠키 베리 스콘 번\n",
       "3                                  설탕 도넛\n",
       "4                       라즈베리 쿠키 베리 카라멜 번\n",
       "                     ...                \n",
       "204                                     \n",
       "205                      크림 꿀맛 베이글 카라멜 번\n",
       "206                                     \n",
       "207                   식빵 버터 쿠키 마들렌 설탕 스콘\n",
       "208                        크림 도넛 쿠키 설탕 번\n",
       "Name: title_with_spaces, Length: 209, dtype: object"
      ]
     },
     "execution_count": 24,
     "metadata": {},
     "output_type": "execute_result"
    }
   ],
   "source": [
    "df['title_with_spaces']"
   ]
  },
  {
   "cell_type": "code",
   "execution_count": 26,
   "metadata": {},
   "outputs": [
    {
     "data": {
      "text/plain": [
       "0                                      [머핀, 설탕, 버터]\n",
       "1                             [쿠키, 치즈케이크, 스콘, 브라우니]\n",
       "2      [크림, 티라미수, 버터, 푸딩, 초콜릿, 라즈베리, 쿠키, 베리, 스콘, 번]\n",
       "3                                          [설탕, 도넛]\n",
       "4                            [라즈베리, 쿠키, 베리, 카라멜, 번]\n",
       "                           ...                     \n",
       "204                                              []\n",
       "205                           [크림, 꿀맛, 베이글, 카라멜, 번]\n",
       "206                                              []\n",
       "207                       [식빵, 버터, 쿠키, 마들렌, 설탕, 스콘]\n",
       "208                             [크림, 도넛, 쿠키, 설탕, 번]\n",
       "Name: title_nouns_list, Length: 209, dtype: object"
      ]
     },
     "execution_count": 26,
     "metadata": {},
     "output_type": "execute_result"
    }
   ],
   "source": [
    "df['title_nouns_list']"
   ]
  },
  {
   "cell_type": "code",
   "execution_count": 27,
   "metadata": {},
   "outputs": [],
   "source": [
    "features = ['gluten_free_tag', 'high_protein_tag', 'sugar_free_tag', 'vegan_tag', 'ketogenic_tag']\n",
    "\n",
    "for feature in features:\n",
    "  df[feature] = df[feature].apply(lambda x: x*feature)"
   ]
  },
  {
   "cell_type": "code",
   "execution_count": 28,
   "metadata": {},
   "outputs": [
    {
     "data": {
      "text/plain": [
       "\"\\nbins = [0, 2500, 5000, 7500, 10000, 25000, 50000, 75000, 100000, 200000]\\nlabels = ['1', '2', '3', '4', '5', '6', '7', '8', '9']\\ndf['option_price'] = pd.cut(df['option_price'], bins = bins, labels = labels, include_lowest = True)\\nplt.hist(df['option_price'].apply(lambda x: int(x)))\\n\""
      ]
     },
     "execution_count": 28,
     "metadata": {},
     "output_type": "execute_result"
    }
   ],
   "source": [
    "\"\"\"\n",
    "bins = [0, 2500, 5000, 7500, 10000, 25000, 50000, 75000, 100000, 200000]\n",
    "labels = ['1', '2', '3', '4', '5', '6', '7', '8', '9']\n",
    "df['option_price'] = pd.cut(df['option_price'], bins = bins, labels = labels, include_lowest = True)\n",
    "plt.hist(df['option_price'].apply(lambda x: int(x)))\n",
    "\"\"\""
   ]
  },
  {
   "cell_type": "code",
   "execution_count": 29,
   "metadata": {},
   "outputs": [],
   "source": [
    "# Removes spaces and converts to lowercase\n",
    "# Apply the generate_list function to cast, keywords, and director\n",
    "for feature in ['category', 'gluten_free_tag', 'high_protein_tag', 'sugar_free_tag', 'vegan_tag', 'ketogenic_tag']:\n",
    "    df[feature] = df[feature].apply(sanitize)"
   ]
  },
  {
   "cell_type": "code",
   "execution_count": 30,
   "metadata": {},
   "outputs": [],
   "source": [
    "# Create the new soup feature\n",
    "df['soup'] = df.apply(create_soup, axis=1)"
   ]
  },
  {
   "cell_type": "markdown",
   "metadata": {},
   "source": [
    "#### Modeling(CountVec+TF-IDF)"
   ]
  },
  {
   "cell_type": "code",
   "execution_count": 31,
   "metadata": {},
   "outputs": [
    {
     "data": {
      "text/plain": [
       "(209, 209)"
      ]
     },
     "execution_count": 31,
     "metadata": {},
     "output_type": "execute_result"
    }
   ],
   "source": [
    "# TfIdfVectorizer 가져오기\n",
    "from sklearn.feature_extraction.text import TfidfVectorizer\n",
    "\n",
    "# 불용어를 english로 지정하고 tf-idf 계산\n",
    "# stop_words='english' 옵션은 영어의 불용어(예: the, and, is 등)를 제외\n",
    "tfidf = TfidfVectorizer(stop_words='english')\n",
    "tfidf_matrix = tfidf.fit_transform(df['title_with_spaces'])\n",
    "\n",
    "# Cosine 유사도 계산, overview기반으로 영화간 유사도 계산\n",
    "from sklearn.metrics.pairwise import cosine_similarity\n",
    "\n",
    "cosine_sim_tf = cosine_similarity(tfidf_matrix, tfidf_matrix)\n",
    "cosine_sim_tf = pd.DataFrame(cosine_sim_tf, index=df.index, columns=df.index)\n",
    "\n",
    "cosine_sim_tf.shape\n"
   ]
  },
  {
   "cell_type": "code",
   "execution_count": 32,
   "metadata": {},
   "outputs": [
    {
     "data": {
      "text/plain": [
       "(209, 209)"
      ]
     },
     "execution_count": 32,
     "metadata": {},
     "output_type": "execute_result"
    }
   ],
   "source": [
    "# Import CountVectorizer from the scikit-learn library\n",
    "from sklearn.feature_extraction.text import CountVectorizer\n",
    "\n",
    "# Define a new CountVectorizer object and create vectors for the soup\n",
    "count = CountVectorizer(stop_words='english')\n",
    "# 상품*해당 단어가 있는지 카운트 벡터\n",
    "count_matrix = count.fit_transform(df['soup'])\n",
    "\n",
    "# Cosine 유사도 계산\n",
    "from sklearn.metrics.pairwise import cosine_similarity\n",
    "cosine_sim_cv = cosine_similarity(count_matrix, count_matrix)\n",
    "cosine_sim_cv = pd.DataFrame(cosine_sim_cv, index=df.index, columns=df.index)\n",
    "\n",
    "cosine_sim_cv.shape"
   ]
  },
  {
   "cell_type": "markdown",
   "metadata": {},
   "source": [
    "##### 1. Weighted Sum"
   ]
  },
  {
   "cell_type": "code",
   "execution_count": 33,
   "metadata": {},
   "outputs": [],
   "source": [
    "cosine_sim = cosine_sim_cv*0.2 + cosine_sim_tf*0.8"
   ]
  },
  {
   "cell_type": "code",
   "execution_count": 34,
   "metadata": {},
   "outputs": [
    {
     "name": "stdout",
     "output_type": "stream",
     "text": [
      "[array([120, 169,  78, 196, 178,  71, 170,  11, 123, 207], dtype=int64), array([0.68000631, 0.61044349, 0.59406663, 0.59357833, 0.58080296,\n",
      "       0.55559659, 0.54223963, 0.53530845, 0.53198655, 0.53112033])]\n"
     ]
    }
   ],
   "source": [
    "# Index에 product_board_id 추가\n",
    "df['product_board_id'] = df.index\n",
    "\n",
    "# index-product_board_id을 뒤집는다\n",
    "indices = pd.Series(df.index, index=df['product_board_id'])\n",
    "\n",
    "# 상품제목을 받아서 추천 영화를 돌려주는 함수\n",
    "def content_recommender(product_board_id, n_of_recomm, sold_out):\n",
    "    # product_board_id에서 영화 index 받아오기\n",
    "    idx = indices[product_board_id]\n",
    "    # 주어진 상품과 다른 상품의 similarity를 가져온다\n",
    "    sim_scores = cosine_sim[idx]\n",
    "    # sold_out 후처리\n",
    "    sim_scores[sold_out] = 0\n",
    "    # similarity 기준으로 정렬하고 n_of_recomm만큼 가져오기 (자기자신은 빼기)\n",
    "    sim_scores = sim_scores.sort_values(ascending=False)[1:n_of_recomm+1]\n",
    "    # 상품 product_board_id 반환\n",
    "    \n",
    "    return [df.loc[sim_scores.index]['product_board_id'].values, sim_scores.values]\n",
    "\n",
    "# 추천받기\n",
    "print(content_recommender(100, 10, sold_out))"
   ]
  },
  {
   "cell_type": "code",
   "execution_count": null,
   "metadata": {},
   "outputs": [],
   "source": []
  },
  {
   "cell_type": "markdown",
   "metadata": {},
   "source": [
    "##### 2. Rank Aggreation"
   ]
  },
  {
   "cell_type": "code",
   "execution_count": 35,
   "metadata": {},
   "outputs": [
    {
     "data": {
      "text/plain": [
       "array([[  2. , 276. , 127. , ..., 336.5, 105. , 247.5],\n",
       "       [310.5,   3.5, 169. , ..., 284. , 105.5, 290. ],\n",
       "       [171.5, 189.5,   2. , ..., 315.5, 102.5, 301.5],\n",
       "       ...,\n",
       "       [280.5, 202.5, 202.5, ..., 106. , 145.5, 280.5],\n",
       "       [234. , 166.5, 173.5, ..., 288. ,   2. , 302. ],\n",
       "       [201. , 230. , 209. , ..., 277. , 168. ,   2. ]])"
      ]
     },
     "execution_count": 35,
     "metadata": {},
     "output_type": "execute_result"
    }
   ],
   "source": [
    "from scipy.stats import rankdata\n",
    "\n",
    "count_ranking = rankdata(-cosine_sim_cv, axis = 1)\n",
    "tfidf_ranking = rankdata(-cosine_sim_tf, axis = 1)\n",
    "\n",
    "final_ranking = count_ranking + tfidf_ranking\n",
    "\n",
    "final_ranking"
   ]
  },
  {
   "cell_type": "code",
   "execution_count": 36,
   "metadata": {},
   "outputs": [
    {
     "name": "stdout",
     "output_type": "stream",
     "text": [
      "[array([120, 169,  78, 196, 178,  71, 170,  11, 123, 207], dtype=int64), array([0.68000631, 0.61044349, 0.59406663, 0.59357833, 0.58080296,\n",
      "       0.55559659, 0.54223963, 0.53530845, 0.53198655, 0.53112033])]\n"
     ]
    }
   ],
   "source": [
    "# Index에 product_board_id 추가\n",
    "df['product_board_id'] = df.index\n",
    "\n",
    "# index-product_board_id을 뒤집는다\n",
    "indices = pd.Series(df.index, index=df['product_board_id'])\n",
    "\n",
    "# 상품제목을 받아서 추천 영화를 돌려주는 함수\n",
    "def content_recommender_rank(product_board_id, n_of_recomm, sold_out):\n",
    "    # product_board_id에서 영화 index 받아오기\n",
    "    idx = indices[product_board_id]\n",
    "    # 주어진 상품과 다른 상품의 similarity를 가져온다\n",
    "    final_ranking_ = pd.DataFrame(final_ranking)\n",
    "    final_ranking_ = final_ranking_[idx]\n",
    "    # sold_out 후처리\n",
    "    final_ranking_[sold_out] = 0\n",
    "    # similarity 기준으로 정렬 \n",
    "    final_ranking_ = final_ranking_.sort_values(ascending=False)[1:n_of_recomm+1]\n",
    "\n",
    "    # 상품 product_board_id 반환    \n",
    "    return [df.loc[final_ranking_.index]['product_board_id'].values, final_ranking_.values]\n",
    "\n",
    "# 추천받기\n",
    "print(content_recommender(100, 10, sold_out))"
   ]
  },
  {
   "cell_type": "markdown",
   "metadata": {},
   "source": [
    "#### Training(Word2Vec)"
   ]
  },
  {
   "cell_type": "code",
   "execution_count": 37,
   "metadata": {},
   "outputs": [],
   "source": [
    "dataset = df.copy()\n",
    "dataset = df['title_nouns_list'].to_dict() "
   ]
  },
  {
   "cell_type": "markdown",
   "metadata": {},
   "source": [
    "##### 1. Pre-trained + Fine-tuning"
   ]
  },
  {
   "cell_type": "code",
   "execution_count": 38,
   "metadata": {},
   "outputs": [],
   "source": [
    "import gensim\n",
    "from gensim.models import Word2Vec\n",
    "\n",
    "# 사전학습 모델 불러오기\n",
    "word2vec_model_path = \"./korean_word2vec_model.model\"  # Update with your actual path\n",
    "embedding_model = gensim.models.Word2Vec.load(word2vec_model_path)"
   ]
  },
  {
   "cell_type": "code",
   "execution_count": 67,
   "metadata": {},
   "outputs": [],
   "source": [
    "# 데이터셋의 모든 콘텐츠 키워드를 시퀀스로 변환\n",
    "content_data = list(dataset.values())\n",
    "\n",
    "embedding_model.build_vocab(content_data, update=True)"
   ]
  },
  {
   "cell_type": "code",
   "execution_count": 68,
   "metadata": {},
   "outputs": [
    {
     "data": {
      "text/plain": [
       "[['머핀', '설탕', '버터'],\n",
       " ['쿠키', '치즈케이크', '스콘', '브라우니'],\n",
       " ['크림', '티라미수', '버터', '푸딩', '초콜릿', '라즈베리', '쿠키', '베리', '스콘', '번'],\n",
       " ['설탕', '도넛'],\n",
       " ['라즈베리', '쿠키', '베리', '카라멜', '번'],\n",
       " ['치아바타', '크림', '식빵', '소보로빵', '버터', '초콜릿', '베이글', '쿠키', '바게트'],\n",
       " ['크림', '버터', '초콜릿', '라즈베리', '쿠키', '브라우니', '설탕', '번'],\n",
       " ['크림', '버터', '초콜릿', '치즈케이크', '베이글', '쿠키', '설탕', '스콘'],\n",
       " ['쿠키', '식빵'],\n",
       " ['식빵', '버터', '젤리', '쿠키', '설탕', '스콘'],\n",
       " ['식빵', '버터', '베이글', '쿠키', '마들렌', '설탕', '스콘', '롤'],\n",
       " ['치아바타', '식빵', '버터', '베이글', '쿠키', '브라우니', '마들렌'],\n",
       " ['크림', '버터', '부드러움', '쿠키', '설탕', '스콘'],\n",
       " ['크림', '식빵', '버터', '쿠키', '설탕', '카라멜'],\n",
       " ['설탕', '베이글', '스콘', '쿠키'],\n",
       " ['베이글', '쿠키', '마들렌', '설탕', '스콘'],\n",
       " ['쿠키'],\n",
       " ['티라미수', '초콜릿', '쿠키', '브라우니', '설탕'],\n",
       " ['설탕', '크림', '브라우니', '번'],\n",
       " ['식빵', '도넛', '쿠키', '설탕', '스콘'],\n",
       " ['크림', '쿠키', '마들렌', '스콘', '번'],\n",
       " ['치아바타',\n",
       "  '크림',\n",
       "  '식빵',\n",
       "  '버터',\n",
       "  '초콜릿',\n",
       "  '치즈케이크',\n",
       "  '베이글',\n",
       "  '쿠키',\n",
       "  '마들렌',\n",
       "  '베리',\n",
       "  '설탕',\n",
       "  '스콘'],\n",
       " ['머핀', '스콘', '마들렌'],\n",
       " ['설탕', '치즈케이크', '라즈베리'],\n",
       " ['크림', '식빵', '베이글', '쿠키', '머핀', '설탕', '스콘'],\n",
       " ['크림', '스콘', '쿠키'],\n",
       " [],\n",
       " [],\n",
       " ['부드러움', '버터', '크림', '쿠키'],\n",
       " ['쿠키', '브라우니', '마들렌'],\n",
       " ['크루아상', '크림', '버터', '초콜릿', '쿠키', '브라우니', '설탕', '스콘', '번'],\n",
       " ['크림', '버터', '초콜릿', '브라우니', '쿠키'],\n",
       " ['머핀', '쿠키'],\n",
       " ['쿠키'],\n",
       " ['크림', '티라미수', '초콜릿', '쿠키', '유자', '스콘'],\n",
       " ['크림', '베이글', '쿠키', '마들렌'],\n",
       " [],\n",
       " ['치아바타', '식빵', '번', '버터', '바게트'],\n",
       " ['설탕'],\n",
       " ['크림', '쿠키', '번'],\n",
       " ['크림', '식빵', '버터', '슈크림', '번'],\n",
       " ['꿀맛'],\n",
       " [],\n",
       " ['쿠키', '설탕', '버터', '식빵'],\n",
       " ['소보로빵'],\n",
       " ['크림', '버터', '라즈베리', '치즈케이크', '쿠키', '베리', '설탕', '번'],\n",
       " [],\n",
       " ['유자', '쿠키'],\n",
       " [],\n",
       " ['크림', '베이글', '쿠키', '브라우니', '스콘', '번'],\n",
       " ['베이글', '크림'],\n",
       " [],\n",
       " ['크림', '식빵', '초콜릿', '마들렌', '설탕', '스콘'],\n",
       " ['버터', '부드러움', '쿠키', '설탕', '스콘'],\n",
       " ['버터', '설탕', '식빵', '번'],\n",
       " ['쿠키'],\n",
       " [],\n",
       " ['크림', '버터', '쿠키', '마들렌', '유자', '스콘'],\n",
       " ['크림'],\n",
       " [],\n",
       " ['애플파이', '식빵', '버터', '라즈베리', '쿠키', '마들렌', '베리'],\n",
       " [],\n",
       " ['크림', '티라미수', '버터', '초콜릿', '라즈베리', '브라우니', '설탕'],\n",
       " ['쿠키', '버터', '크림', '카라멜'],\n",
       " [],\n",
       " [],\n",
       " ['브라우니', '쿠키', '마들렌', '유자', '스콘'],\n",
       " ['베리', '치즈케이크', '도넛', '꿀맛'],\n",
       " ['식빵', '꿀맛', '버터', '젤리', '설탕', '번'],\n",
       " ['쿠키', '식빵'],\n",
       " [],\n",
       " ['꿀맛', '버터', '쿠키', '설탕', '스콘'],\n",
       " [],\n",
       " ['크림', '식빵', '꿀맛', '버터', '초콜릿', '쿠키'],\n",
       " [],\n",
       " [],\n",
       " [],\n",
       " ['설탕', '쿠키'],\n",
       " ['치아바타', '크림', '식빵', '버터', '번'],\n",
       " ['설탕', '식빵', '쿠키', '버터'],\n",
       " ['머핀', '유자', '쿠키'],\n",
       " ['버터', '크림', '식빵', '롤'],\n",
       " ['설탕', '크림'],\n",
       " ['크림', '초콜릿', '식빵', '번'],\n",
       " ['식빵', '버터', '쿠키', '베리', '설탕', '스콘', '번'],\n",
       " [],\n",
       " ['버터', '쿠키', '마들렌', '번'],\n",
       " ['버터', '쿠키', '브라우니', '마들렌', '유자', '스콘'],\n",
       " ['크림', '스콘', '초콜릿'],\n",
       " ['버터', '쿠키'],\n",
       " ['부드러움', '버터', '번'],\n",
       " ['버터', '크림'],\n",
       " ['버터', '식빵', '번'],\n",
       " [],\n",
       " ['티라미수', '설탕', '라즈베리'],\n",
       " [],\n",
       " ['라즈베리', '크림', '초콜릿', '번'],\n",
       " ['식빵'],\n",
       " [],\n",
       " ['카라멜', '스콘', '쿠키', '번'],\n",
       " ['치아바타', '식빵', '꿀맛', '버터', '쿠키', '스콘'],\n",
       " ['설탕', '쿠키'],\n",
       " ['라즈베리', '크림', '브라우니'],\n",
       " ['티라미수', '초콜릿', '브라우니', '설탕', '번'],\n",
       " ['크림', '버터', '쿠키', '카라멜', '스콘', '번'],\n",
       " ['라즈베리', '쿠키', '유자', '설탕', '카라멜', '번'],\n",
       " ['꿀맛', '버터', '쿠키', '머핀', '카라멜', '번'],\n",
       " [],\n",
       " [],\n",
       " ['스콘', '쿠키', '도넛'],\n",
       " ['설탕', '크림', '식빵', '번'],\n",
       " ['크림'],\n",
       " ['식빵', '번'],\n",
       " [],\n",
       " [],\n",
       " [],\n",
       " ['베리', '버터', '라즈베리', '식빵'],\n",
       " ['버터', '롤'],\n",
       " ['크림', '버터', '쿠키', '설탕', '카라멜'],\n",
       " ['크림', '쿠키', '베리', '설탕', '번'],\n",
       " ['설탕', '치아바타', '쿠키', '식빵'],\n",
       " [],\n",
       " ['버터'],\n",
       " ['치아바타', '식빵', '버터', '베이글', '번'],\n",
       " [],\n",
       " ['유자', '마들렌'],\n",
       " ['베리', '스콘', '쿠키', '번'],\n",
       " [],\n",
       " ['베리', '유자', '스콘', '쿠키'],\n",
       " [],\n",
       " ['마들렌', '번'],\n",
       " ['버터', '설탕', '스콘'],\n",
       " ['크림', '치아바타', '식빵', '번', '버터', '쿠키', '마들렌', '설탕', '바게트'],\n",
       " ['버터', '설탕', '쿠키'],\n",
       " ['크림', '식빵', '소보로빵', '버터', '번'],\n",
       " [],\n",
       " ['크림', '베이글', '쿠키', '마들렌', '머핀', '스콘'],\n",
       " ['카라멜', '쿠키'],\n",
       " ['버터', '크루아상'],\n",
       " [],\n",
       " [],\n",
       " ['크림', '초콜릿', '쿠키', '설탕', '스콘'],\n",
       " ['번', '카라멜', '크림', '꿀맛'],\n",
       " [],\n",
       " ['베리'],\n",
       " ['쿠키'],\n",
       " ['버터', '설탕', '번'],\n",
       " ['쿠키', '설탕', '초콜릿'],\n",
       " ['버터', '크림', '설탕', '번'],\n",
       " [],\n",
       " [],\n",
       " ['버터', '베이글', '마들렌'],\n",
       " ['크림', '식빵', '소보로빵', '버터', '베이글', '쿠키', '베리', '스콘', '번'],\n",
       " ['설탕', '카라멜', '버터'],\n",
       " [],\n",
       " ['유자', '스콘', '쿠키', '마들렌'],\n",
       " ['버터', '크림', '설탕', '번'],\n",
       " [],\n",
       " ['브라우니'],\n",
       " ['설탕'],\n",
       " [],\n",
       " ['치아바타', '버터', '초콜릿', '부드러움', '브라우니', '번'],\n",
       " [],\n",
       " [],\n",
       " [],\n",
       " [],\n",
       " ['라즈베리', '크림'],\n",
       " ['크림', '쿠키', '번'],\n",
       " ['마들렌'],\n",
       " ['식빵', '꿀맛', '버터', '쿠키', '마들렌', '설탕'],\n",
       " ['버터', '스콘', '쿠키'],\n",
       " ['버터', '크림', '스콘', '식빵'],\n",
       " ['쿠키', '버터', '크림', '초콜릿'],\n",
       " ['설탕', '크림', '스콘', '쿠키'],\n",
       " ['버터', '쿠키', '마들렌', '유자', '설탕'],\n",
       " ['라즈베리'],\n",
       " [],\n",
       " ['크림', '쿠키', '설탕', '스콘', '번'],\n",
       " ['식빵', '버터', '쿠키', '설탕', '스콘', '번'],\n",
       " ['스콘'],\n",
       " ['크림', '스콘', '식빵', '번'],\n",
       " ['버터', '쿠키'],\n",
       " ['크림', '식빵', '버터', '마들렌', '설탕', '스콘', '롤'],\n",
       " ['유자', '쿠키'],\n",
       " [],\n",
       " ['베리', '버터', '치아바타', '크림'],\n",
       " [],\n",
       " ['베이글', '스콘', '번'],\n",
       " [],\n",
       " ['머핀', '설탕', '쿠키'],\n",
       " ['베리', '치즈케이크', '도넛'],\n",
       " ['버터', '크림', '꿀맛'],\n",
       " ['크림', '티라미수', '버터', '초콜릿', '쿠키', '브라우니', '카라멜'],\n",
       " [],\n",
       " [],\n",
       " ['버터', '식빵'],\n",
       " ['치아바타', '식빵', '버터', '마들렌', '설탕', '번'],\n",
       " ['꿀맛', '브라우니', '도넛', '번'],\n",
       " ['크림', '초콜릿', '쿠키', '머핀', '설탕', '스콘'],\n",
       " ['식빵', '꿀맛', '초콜릿', '도넛', '브라우니', '쿠키', '설탕'],\n",
       " ['라즈베리'],\n",
       " ['푸딩', '초콜릿', '쿠키', '마카롱'],\n",
       " [],\n",
       " ['버터', '부드러움', '쿠키', '설탕', '번'],\n",
       " [],\n",
       " ['크림', '꿀맛', '베이글', '카라멜', '번'],\n",
       " [],\n",
       " ['식빵', '버터', '쿠키', '마들렌', '설탕', '스콘'],\n",
       " ['크림', '도넛', '쿠키', '설탕', '번']]"
      ]
     },
     "execution_count": 68,
     "metadata": {},
     "output_type": "execute_result"
    }
   ],
   "source": [
    "content_data"
   ]
  },
  {
   "cell_type": "code",
   "execution_count": 69,
   "metadata": {},
   "outputs": [
    {
     "data": {
      "text/plain": [
       "(575, 3230)"
      ]
     },
     "execution_count": 69,
     "metadata": {},
     "output_type": "execute_result"
    }
   ],
   "source": [
    "\n",
    "\n",
    "# Word2Vec 모델 미세조정 학습\n",
    "embedding_model.train(content_data, total_examples=embedding_model.corpus_count, epochs=5)\n",
    "\n"
   ]
  },
  {
   "cell_type": "code",
   "execution_count": 70,
   "metadata": {},
   "outputs": [],
   "source": [
    "import numpy as np\n",
    "\n",
    "# 각 아이템을 벡터화하여 아이템 임베딩 계산\n",
    "def get_item_embedding(item_keywords, model):\n",
    "    # 각 키워드의 임베딩 벡터를 가져와 평균을 계산\n",
    "    vectors = [model.wv[keyword] for keyword in item_keywords if keyword in model.wv]\n",
    "    return np.mean(vectors, axis=0) if vectors else np.zeros(model.vector_size)\n",
    "\n",
    "# 모든 아이템 임베딩 저장\n",
    "item_embeddings = {item: get_item_embedding(keywords, embedding_model) for item, keywords in dataset.items()}\n"
   ]
  },
  {
   "cell_type": "code",
   "execution_count": 71,
   "metadata": {},
   "outputs": [
    {
     "name": "stdout",
     "output_type": "stream",
     "text": [
      "Similar items: [198, 128, 2]\n"
     ]
    }
   ],
   "source": [
    "from sklearn.metrics.pairwise import cosine_similarity\n",
    "\n",
    "def recommend_similar_items(target_item, item_embeddings, topn=3):\n",
    "    \"\"\"\n",
    "    주어진 아이템과 유사한 아이템을 추천합니다.\n",
    "    \n",
    "    :param target_item: 추천 대상 아이템 ID\n",
    "    :param item_embeddings: 아이템 임베딩 딕셔너리\n",
    "    :param topn: 추천할 아이템 수\n",
    "    :return: 유사한 아이템 리스트\n",
    "    \"\"\"\n",
    "    target_embedding = item_embeddings[target_item].reshape(1, -1)\n",
    "    similarities = {}\n",
    "    \n",
    "    for item, embedding in item_embeddings.items():\n",
    "        if item != target_item:  # 대상 아이템 제외\n",
    "            sim_score = cosine_similarity(target_embedding, embedding.reshape(1, -1)).flatten()[0]\n",
    "            similarities[item] = sim_score\n",
    "\n",
    "           \n",
    "    # 유사도에 따라 정렬하고 상위 n개 반환\n",
    "    similar_items = sorted(similarities.items(), key=lambda x: x[1], reverse=True)\n",
    "    #print(pd.DataFrame(similar_items))\n",
    "\n",
    "    similar_items = sorted(similarities.items(), key=lambda x: x[1], reverse=True)[:topn]\n",
    "    \n",
    "    \n",
    "    return [item[0] for item in similar_items]\n",
    "\n",
    "    \n",
    "\n",
    "# 예시: 찜한 상품의 id와 유사한 아이템 추천\n",
    "similar_items = recommend_similar_items(1, item_embeddings)\n",
    "print(\"Similar items:\", similar_items)"
   ]
  },
  {
   "cell_type": "markdown",
   "metadata": {},
   "source": [
    "##### 2. Just Training"
   ]
  },
  {
   "cell_type": "code",
   "execution_count": 44,
   "metadata": {},
   "outputs": [],
   "source": [
    "from gensim.models import Word2Vec\n",
    "\n",
    "# 데이터셋의 모든 콘텐츠 키워드를 시퀀스로 변환\n",
    "content_data = list(dataset.values())\n",
    "\n",
    "# Word2Vec 모델 학습\n",
    "embedding_model = Word2Vec(content_data, vector_size=20, window=5, min_count=1, workers=4, sg=1, epochs=100)\n"
   ]
  },
  {
   "cell_type": "code",
   "execution_count": 45,
   "metadata": {},
   "outputs": [],
   "source": [
    "import numpy as np\n",
    "\n",
    "# 각 아이템을 벡터화하여 아이템 임베딩 계산\n",
    "def get_item_embedding(item_keywords, model):\n",
    "    # 각 키워드의 임베딩 벡터를 가져와 평균을 계산\n",
    "    vectors = [model.wv[keyword] for keyword in item_keywords if keyword in model.wv]\n",
    "    return np.mean(vectors, axis=0) if vectors else np.zeros(model.vector_size)\n",
    "\n",
    "# 모든 아이템 임베딩 저장\n",
    "item_embeddings = {item: get_item_embedding(keywords, embedding_model) for item, keywords in dataset.items()}\n"
   ]
  },
  {
   "cell_type": "code",
   "execution_count": 46,
   "metadata": {},
   "outputs": [
    {
     "name": "stdout",
     "output_type": "stream",
     "text": [
      "Similar items: [198, 128, 2]\n"
     ]
    }
   ],
   "source": [
    "from sklearn.metrics.pairwise import cosine_similarity\n",
    "\n",
    "def recommend_similar_items(target_item, item_embeddings, topn=3):\n",
    "    \"\"\"\n",
    "    주어진 아이템과 유사한 아이템을 추천합니다.\n",
    "    \n",
    "    :param target_item: 추천 대상 아이템 ID\n",
    "    :param item_embeddings: 아이템 임베딩 딕셔너리\n",
    "    :param topn: 추천할 아이템 수\n",
    "    :return: 유사한 아이템 리스트\n",
    "    \"\"\"\n",
    "    target_embedding = item_embeddings[target_item].reshape(1, -1)\n",
    "    similarities = {}\n",
    "    \n",
    "    for item, embedding in item_embeddings.items():\n",
    "        if item != target_item:  # 대상 아이템 제외\n",
    "            sim_score = cosine_similarity(target_embedding, embedding.reshape(1, -1)).flatten()[0]\n",
    "            similarities[item] = sim_score\n",
    "\n",
    "           \n",
    "    # 유사도에 따라 정렬하고 상위 n개 반환\n",
    "    similar_items = sorted(similarities.items(), key=lambda x: x[1], reverse=True)\n",
    "    #print(pd.DataFrame(similar_items))\n",
    "\n",
    "    similar_items = sorted(similarities.items(), key=lambda x: x[1], reverse=True)[:topn]\n",
    "    \n",
    "    \n",
    "    return [item[0] for item in similar_items]\n",
    "\n",
    "    \n",
    "\n",
    "# 예시: 찜한 상품의 id와 유사한 아이템 추천\n",
    "similar_items = recommend_similar_items(1, item_embeddings)\n",
    "print(\"Similar items:\", similar_items)"
   ]
  },
  {
   "cell_type": "markdown",
   "metadata": {},
   "source": [
    "#### Evaluating"
   ]
  },
  {
   "cell_type": "markdown",
   "metadata": {},
   "source": [
    "##### 1-1. CountVec + TF-IDF"
   ]
  },
  {
   "cell_type": "code",
   "execution_count": 47,
   "metadata": {},
   "outputs": [
    {
     "name": "stdout",
     "output_type": "stream",
     "text": [
      "0      0.000322\n",
      "1      0.000230\n",
      "2      0.000276\n",
      "3      0.000184\n",
      "4      0.000460\n",
      "         ...   \n",
      "204    0.000000\n",
      "205    0.000230\n",
      "206    0.000000\n",
      "207    0.001702\n",
      "208    0.000184\n",
      "Length: 209, dtype: float64\n"
     ]
    }
   ],
   "source": [
    "import numpy as np\n",
    "import matplotlib.pyplot as plt\n",
    "\n",
    "# 기준 유사도 (threshold)\n",
    "threshold = 0.5\n",
    "\n",
    "# 자기 자신을 제외한 총 유사도 쌍의 수\n",
    "n_items = cosine_sim.shape[0]\n",
    "total_pairs = n_items * (n_items -1)/2\n",
    "\n",
    "# 기준을 넘는 유사도 쌍의 수 계산\n",
    "high_similiarity_count = np.sum((cosine_sim > threshold))\n",
    "\n",
    "# Coverage 계산\n",
    "coverage = high_similiarity_count / total_pairs\n",
    "\n",
    "print(coverage)"
   ]
  },
  {
   "cell_type": "code",
   "execution_count": 48,
   "metadata": {},
   "outputs": [
    {
     "data": {
      "text/plain": [
       "(array([61., 26., 41., 38., 15., 10.,  8.,  4.,  2.,  4.]),\n",
       " array([0.        , 0.00017022, 0.00034045, 0.00051067, 0.0006809 ,\n",
       "        0.00085112, 0.00102135, 0.00119157, 0.0013618 , 0.00153202,\n",
       "        0.00170225]),\n",
       " <BarContainer object of 10 artists>)"
      ]
     },
     "execution_count": 48,
     "metadata": {},
     "output_type": "execute_result"
    },
    {
     "data": {
      "image/png": "[encoded data removed]",
      "text/plain": [
       "<Figure size 800x600 with 1 Axes>"
      ]
     },
     "metadata": {},
     "output_type": "display_data"
    }
   ],
   "source": [
    "# 히스토그램 그리기\n",
    "plt.figure(figsize=(8, 6))\n",
    "plt.hist(coverage, bins=10, color='skyblue', edgecolor='black')"
   ]
  },
  {
   "cell_type": "code",
   "execution_count": 49,
   "metadata": {},
   "outputs": [],
   "source": [
    "recommended_items = []\n",
    "\n",
    "for i in range(0, 209):\n",
    "    test = content_recommender(i, 3, sold_out)\n",
    "    recommended_items.extend(test[0])\n",
    "\n",
    "\n",
    "recommended_items = list(map(lambda x: int(x), recommended_items))"
   ]
  },
  {
   "cell_type": "code",
   "execution_count": 50,
   "metadata": {},
   "outputs": [
    {
     "data": {
      "text/plain": [
       "0.8708133971291866"
      ]
     },
     "execution_count": 50,
     "metadata": {},
     "output_type": "execute_result"
    }
   ],
   "source": [
    "from metrics.coverage import get_coverage\n",
    "\n",
    "n_items = cosine_sim.shape[0]\n",
    "\n",
    "get_coverage(recommended_items, n_items)"
   ]
  },
  {
   "cell_type": "markdown",
   "metadata": {},
   "source": [
    "##### 1-2. CountVec + TF-IDF Rank Aggreation"
   ]
  },
  {
   "cell_type": "code",
   "execution_count": 51,
   "metadata": {},
   "outputs": [],
   "source": [
    "recommended_items = []\n",
    "\n",
    "for i in range(0, 209):\n",
    "    test = content_recommender_rank(i, 3, sold_out)\n",
    "    recommended_items.extend(test[0])\n",
    "\n",
    "\n",
    "recommended_items = list(map(lambda x: int(x), recommended_items))"
   ]
  },
  {
   "cell_type": "code",
   "execution_count": 52,
   "metadata": {},
   "outputs": [
    {
     "data": {
      "text/plain": [
       "0.7129186602870813"
      ]
     },
     "execution_count": 52,
     "metadata": {},
     "output_type": "execute_result"
    }
   ],
   "source": [
    "from metrics.coverage import get_coverage\n",
    "\n",
    "n_items = cosine_sim.shape[0]\n",
    "\n",
    "get_coverage(recommended_items, n_items)"
   ]
  },
  {
   "cell_type": "markdown",
   "metadata": {},
   "source": [
    "##### 2. Word2Vec"
   ]
  },
  {
   "cell_type": "code",
   "execution_count": 73,
   "metadata": {},
   "outputs": [],
   "source": [
    "recommended_items = []\n",
    "\n",
    "for i in range(0, 209):\n",
    "    test = recommend_similar_items(i, item_embeddings)\n",
    "    recommended_items.extend(str(test[0]))\n",
    "\n",
    "\n",
    "recommended_items = list(map(lambda x: int(x), recommended_items))"
   ]
  },
  {
   "cell_type": "code",
   "execution_count": 74,
   "metadata": {},
   "outputs": [
    {
     "data": {
      "text/plain": [
       "0.04784688995215311"
      ]
     },
     "execution_count": 74,
     "metadata": {},
     "output_type": "execute_result"
    }
   ],
   "source": [
    "from metrics.coverage import get_coverage\n",
    "\n",
    "n_items = len(item_embeddings)\n",
    "\n",
    "get_coverage(recommended_items, n_items)"
   ]
  },
  {
   "cell_type": "markdown",
   "metadata": {},
   "source": [
    "#### INFERENCE"
   ]
  },
  {
   "cell_type": "markdown",
   "metadata": {},
   "source": [
    "##### 1. CountVec + TF-IDF"
   ]
  },
  {
   "cell_type": "code",
   "execution_count": 55,
   "metadata": {},
   "outputs": [],
   "source": [
    "case_1, _ = content_recommender(1, 3, sold_out)"
   ]
  },
  {
   "cell_type": "code",
   "execution_count": 56,
   "metadata": {},
   "outputs": [
    {
     "data": {
      "text/html": [
       "<div>\n",
       "<style scoped>\n",
       "    .dataframe tbody tr th:only-of-type {\n",
       "        vertical-align: middle;\n",
       "    }\n",
       "\n",
       "    .dataframe tbody tr th {\n",
       "        vertical-align: top;\n",
       "    }\n",
       "\n",
       "    .dataframe thead th {\n",
       "        text-align: right;\n",
       "    }\n",
       "</style>\n",
       "<table border=\"1\" class=\"dataframe\">\n",
       "  <thead>\n",
       "    <tr style=\"text-align: right;\">\n",
       "      <th></th>\n",
       "      <th>id</th>\n",
       "      <th>option</th>\n",
       "      <th>option_price</th>\n",
       "      <th>category</th>\n",
       "      <th>gluten_free_tag</th>\n",
       "      <th>high_protein_tag</th>\n",
       "      <th>sugar_free_tag</th>\n",
       "      <th>vegan_tag</th>\n",
       "      <th>ketogenic_tag</th>\n",
       "      <th>title</th>\n",
       "      <th>rate</th>\n",
       "      <th>content</th>\n",
       "      <th>title_with_spaces</th>\n",
       "      <th>title_nouns_list</th>\n",
       "      <th>soup</th>\n",
       "      <th>product_board_id</th>\n",
       "    </tr>\n",
       "  </thead>\n",
       "  <tbody>\n",
       "    <tr>\n",
       "      <th>7</th>\n",
       "      <td>8</td>\n",
       "      <td></td>\n",
       "      <td>22770</td>\n",
       "      <td>etc</td>\n",
       "      <td></td>\n",
       "      <td></td>\n",
       "      <td></td>\n",
       "      <td>vegan_tag</td>\n",
       "      <td></td>\n",
       "      <td>[모닐이네하우스] 글루텐프리 100% 쌀 소금빵 5개 세트구성 [모닐이네하우스] ...</td>\n",
       "      <td>4.961538</td>\n",
       "      <td>항상 먹고있는 빵이에요..속편하고 좋아요 자주먹는거에요..그냥먹어도 맛있고버터만 발...</td>\n",
       "      <td>크림 버터 초콜릿 치즈케이크 베이글 쿠키 설탕 스콘</td>\n",
       "      <td>[크림, 버터, 초콜릿, 치즈케이크, 베이글, 쿠키, 설탕, 스콘]</td>\n",
       "      <td>22770 etc    vegan_tag</td>\n",
       "      <td>7</td>\n",
       "    </tr>\n",
       "    <tr>\n",
       "      <th>29</th>\n",
       "      <td>30</td>\n",
       "      <td>🍪 선택 🍪</td>\n",
       "      <td>4800</td>\n",
       "      <td>cookie</td>\n",
       "      <td>gluten_free_tag</td>\n",
       "      <td></td>\n",
       "      <td></td>\n",
       "      <td>vegan_tag</td>\n",
       "      <td></td>\n",
       "      <td>🍪 선택 🍪 비건 글루텐 프리 마들렌 8종 (2P) 구떼 글루텐프리, 오일프리 리얼...</td>\n",
       "      <td>NaN</td>\n",
       "      <td>NaN</td>\n",
       "      <td>쿠키 브라우니 마들렌</td>\n",
       "      <td>[쿠키, 브라우니, 마들렌]</td>\n",
       "      <td>4800 cookie gluten_free_tag   vegan_tag</td>\n",
       "      <td>29</td>\n",
       "    </tr>\n",
       "    <tr>\n",
       "      <th>45</th>\n",
       "      <td>46</td>\n",
       "      <td>초코 오트쿠키 (-200원) BEST 슴이쿠키 (-300원) BEST 황치즈 무설탕...</td>\n",
       "      <td>22600</td>\n",
       "      <td>cookie</td>\n",
       "      <td>gluten_free_tag</td>\n",
       "      <td></td>\n",
       "      <td></td>\n",
       "      <td>vegan_tag</td>\n",
       "      <td></td>\n",
       "      <td>초코 오트쿠키 (-200원) BEST 슴이쿠키 (-300원) BEST 황치즈 무설탕...</td>\n",
       "      <td>4.737705</td>\n",
       "      <td>홀리 바치케 대박 맛있어요 무족권임..(얼먹보다 해동한게 풍미 짱이라서 갠적으로 해...</td>\n",
       "      <td>크림 버터 라즈베리 치즈케이크 쿠키 베리 설탕 번</td>\n",
       "      <td>[크림, 버터, 라즈베리, 치즈케이크, 쿠키, 베리, 설탕, 번]</td>\n",
       "      <td>22600 cookie gluten_free_tag   vegan_tag</td>\n",
       "      <td>45</td>\n",
       "    </tr>\n",
       "  </tbody>\n",
       "</table>\n",
       "</div>"
      ],
      "text/plain": [
       "    id                                             option  option_price  \\\n",
       "7    8                                                            22770   \n",
       "29  30                                             🍪 선택 🍪          4800   \n",
       "45  46  초코 오트쿠키 (-200원) BEST 슴이쿠키 (-300원) BEST 황치즈 무설탕...         22600   \n",
       "\n",
       "   category  gluten_free_tag high_protein_tag sugar_free_tag  vegan_tag  \\\n",
       "7       etc                                                   vegan_tag   \n",
       "29   cookie  gluten_free_tag                                  vegan_tag   \n",
       "45   cookie  gluten_free_tag                                  vegan_tag   \n",
       "\n",
       "   ketogenic_tag                                              title      rate  \\\n",
       "7                  [모닐이네하우스] 글루텐프리 100% 쌀 소금빵 5개 세트구성 [모닐이네하우스] ...  4.961538   \n",
       "29                🍪 선택 🍪 비건 글루텐 프리 마들렌 8종 (2P) 구떼 글루텐프리, 오일프리 리얼...       NaN   \n",
       "45                초코 오트쿠키 (-200원) BEST 슴이쿠키 (-300원) BEST 황치즈 무설탕...  4.737705   \n",
       "\n",
       "                                              content  \\\n",
       "7   항상 먹고있는 빵이에요..속편하고 좋아요 자주먹는거에요..그냥먹어도 맛있고버터만 발...   \n",
       "29                                                NaN   \n",
       "45  홀리 바치케 대박 맛있어요 무족권임..(얼먹보다 해동한게 풍미 짱이라서 갠적으로 해...   \n",
       "\n",
       "               title_with_spaces                       title_nouns_list  \\\n",
       "7   크림 버터 초콜릿 치즈케이크 베이글 쿠키 설탕 스콘  [크림, 버터, 초콜릿, 치즈케이크, 베이글, 쿠키, 설탕, 스콘]   \n",
       "29                   쿠키 브라우니 마들렌                        [쿠키, 브라우니, 마들렌]   \n",
       "45   크림 버터 라즈베리 치즈케이크 쿠키 베리 설탕 번   [크림, 버터, 라즈베리, 치즈케이크, 쿠키, 베리, 설탕, 번]   \n",
       "\n",
       "                                         soup  product_board_id  \n",
       "7                     22770 etc    vegan_tag                  7  \n",
       "29   4800 cookie gluten_free_tag   vegan_tag                 29  \n",
       "45  22600 cookie gluten_free_tag   vegan_tag                 45  "
      ]
     },
     "execution_count": 56,
     "metadata": {},
     "output_type": "execute_result"
    }
   ],
   "source": [
    "df[df['product_board_id'].isin(case_1)]"
   ]
  },
  {
   "cell_type": "code",
   "execution_count": 57,
   "metadata": {},
   "outputs": [],
   "source": [
    "case_2, _ = content_recommender(100, 3, sold_out)"
   ]
  },
  {
   "cell_type": "code",
   "execution_count": 58,
   "metadata": {},
   "outputs": [
    {
     "data": {
      "text/html": [
       "<div>\n",
       "<style scoped>\n",
       "    .dataframe tbody tr th:only-of-type {\n",
       "        vertical-align: middle;\n",
       "    }\n",
       "\n",
       "    .dataframe tbody tr th {\n",
       "        vertical-align: top;\n",
       "    }\n",
       "\n",
       "    .dataframe thead th {\n",
       "        text-align: right;\n",
       "    }\n",
       "</style>\n",
       "<table border=\"1\" class=\"dataframe\">\n",
       "  <thead>\n",
       "    <tr style=\"text-align: right;\">\n",
       "      <th></th>\n",
       "      <th>id</th>\n",
       "      <th>option</th>\n",
       "      <th>option_price</th>\n",
       "      <th>category</th>\n",
       "      <th>gluten_free_tag</th>\n",
       "      <th>high_protein_tag</th>\n",
       "      <th>sugar_free_tag</th>\n",
       "      <th>vegan_tag</th>\n",
       "      <th>ketogenic_tag</th>\n",
       "      <th>title</th>\n",
       "      <th>rate</th>\n",
       "      <th>content</th>\n",
       "      <th>title_with_spaces</th>\n",
       "      <th>title_nouns_list</th>\n",
       "      <th>soup</th>\n",
       "      <th>product_board_id</th>\n",
       "    </tr>\n",
       "  </thead>\n",
       "  <tbody>\n",
       "    <tr>\n",
       "      <th>78</th>\n",
       "      <td>79</td>\n",
       "      <td></td>\n",
       "      <td>5390</td>\n",
       "      <td>etc</td>\n",
       "      <td></td>\n",
       "      <td></td>\n",
       "      <td>sugar_free_tag</td>\n",
       "      <td>vegan_tag</td>\n",
       "      <td></td>\n",
       "      <td>nan 무료체험역시나 적시나 그냥 손으로 뜯어 먹어도 맛있고질 좋은 치아바타(심지...</td>\n",
       "      <td>5.000000</td>\n",
       "      <td>무료체험역시나 적시나 그냥 손으로 뜯어 먹어도 맛있고질 좋은 치아바타(심지어 비건 ...</td>\n",
       "      <td>치아바타 크림 식빵 버터 번</td>\n",
       "      <td>[치아바타, 크림, 식빵, 버터, 번]</td>\n",
       "      <td>5390 etc   sugar_free_tag vegan_tag</td>\n",
       "      <td>78</td>\n",
       "    </tr>\n",
       "    <tr>\n",
       "      <th>120</th>\n",
       "      <td>121</td>\n",
       "      <td></td>\n",
       "      <td>0</td>\n",
       "      <td>etc</td>\n",
       "      <td>gluten_free_tag</td>\n",
       "      <td></td>\n",
       "      <td></td>\n",
       "      <td>vegan_tag</td>\n",
       "      <td></td>\n",
       "      <td>nan 늘 생각나는 맛이에요. 굿굿♡ 이거 진짜 맛있어요…치아바타 좋아하는데다른데...</td>\n",
       "      <td>4.800000</td>\n",
       "      <td>늘 생각나는 맛이에요. 굿굿♡ 이거 진짜 맛있어요…치아바타 좋아하는데다른데거보다 훨...</td>\n",
       "      <td>설탕 치아바타 쿠키 식빵</td>\n",
       "      <td>[설탕, 치아바타, 쿠키, 식빵]</td>\n",
       "      <td>0 etc gluten_free_tag   vegan_tag</td>\n",
       "      <td>120</td>\n",
       "    </tr>\n",
       "    <tr>\n",
       "      <th>169</th>\n",
       "      <td>172</td>\n",
       "      <td>초코퍼지 쿠키 땅콩에퐁당 쿠키 말차다미아 쿠키 커피 쿠키</td>\n",
       "      <td>3500</td>\n",
       "      <td>cookie</td>\n",
       "      <td>gluten_free_tag</td>\n",
       "      <td></td>\n",
       "      <td></td>\n",
       "      <td>vegan_tag</td>\n",
       "      <td></td>\n",
       "      <td>초코퍼지 쿠키 땅콩에퐁당 쿠키 말차다미아 쿠키 커피 쿠키 nan 초코가 박혀있지만 ...</td>\n",
       "      <td>4.712644</td>\n",
       "      <td>초코가 박혀있지만 많이 달지 않아서 한번에 다먹었네요맛있게 잘 먹었습니다~ 말차쿠키...</td>\n",
       "      <td>식빵 꿀맛 버터 쿠키 마들렌 설탕</td>\n",
       "      <td>[식빵, 꿀맛, 버터, 쿠키, 마들렌, 설탕]</td>\n",
       "      <td>3500 cookie gluten_free_tag   vegan_tag</td>\n",
       "      <td>169</td>\n",
       "    </tr>\n",
       "  </tbody>\n",
       "</table>\n",
       "</div>"
      ],
      "text/plain": [
       "      id                           option  option_price category  \\\n",
       "78    79                                           5390      etc   \n",
       "120  121                                              0      etc   \n",
       "169  172  초코퍼지 쿠키 땅콩에퐁당 쿠키 말차다미아 쿠키 커피 쿠키          3500   cookie   \n",
       "\n",
       "     gluten_free_tag high_protein_tag  sugar_free_tag  vegan_tag  \\\n",
       "78                                     sugar_free_tag  vegan_tag   \n",
       "120  gluten_free_tag                                   vegan_tag   \n",
       "169  gluten_free_tag                                   vegan_tag   \n",
       "\n",
       "    ketogenic_tag                                              title  \\\n",
       "78                  nan 무료체험역시나 적시나 그냥 손으로 뜯어 먹어도 맛있고질 좋은 치아바타(심지...   \n",
       "120                 nan 늘 생각나는 맛이에요. 굿굿♡ 이거 진짜 맛있어요…치아바타 좋아하는데다른데...   \n",
       "169                초코퍼지 쿠키 땅콩에퐁당 쿠키 말차다미아 쿠키 커피 쿠키 nan 초코가 박혀있지만 ...   \n",
       "\n",
       "         rate                                            content  \\\n",
       "78   5.000000  무료체험역시나 적시나 그냥 손으로 뜯어 먹어도 맛있고질 좋은 치아바타(심지어 비건 ...   \n",
       "120  4.800000  늘 생각나는 맛이에요. 굿굿♡ 이거 진짜 맛있어요…치아바타 좋아하는데다른데거보다 훨...   \n",
       "169  4.712644  초코가 박혀있지만 많이 달지 않아서 한번에 다먹었네요맛있게 잘 먹었습니다~ 말차쿠키...   \n",
       "\n",
       "      title_with_spaces           title_nouns_list  \\\n",
       "78      치아바타 크림 식빵 버터 번      [치아바타, 크림, 식빵, 버터, 번]   \n",
       "120       설탕 치아바타 쿠키 식빵         [설탕, 치아바타, 쿠키, 식빵]   \n",
       "169  식빵 꿀맛 버터 쿠키 마들렌 설탕  [식빵, 꿀맛, 버터, 쿠키, 마들렌, 설탕]   \n",
       "\n",
       "                                         soup  product_board_id  \n",
       "78       5390 etc   sugar_free_tag vegan_tag                 78  \n",
       "120        0 etc gluten_free_tag   vegan_tag                120  \n",
       "169  3500 cookie gluten_free_tag   vegan_tag                169  "
      ]
     },
     "execution_count": 58,
     "metadata": {},
     "output_type": "execute_result"
    }
   ],
   "source": [
    "df[df['product_board_id'].isin(case_2)]"
   ]
  },
  {
   "cell_type": "code",
   "execution_count": 59,
   "metadata": {},
   "outputs": [],
   "source": [
    "case_3, _ = content_recommender(200, 3, sold_out)"
   ]
  },
  {
   "cell_type": "code",
   "execution_count": 60,
   "metadata": {},
   "outputs": [
    {
     "data": {
      "text/html": [
       "<div>\n",
       "<style scoped>\n",
       "    .dataframe tbody tr th:only-of-type {\n",
       "        vertical-align: middle;\n",
       "    }\n",
       "\n",
       "    .dataframe tbody tr th {\n",
       "        vertical-align: top;\n",
       "    }\n",
       "\n",
       "    .dataframe thead th {\n",
       "        text-align: right;\n",
       "    }\n",
       "</style>\n",
       "<table border=\"1\" class=\"dataframe\">\n",
       "  <thead>\n",
       "    <tr style=\"text-align: right;\">\n",
       "      <th></th>\n",
       "      <th>id</th>\n",
       "      <th>option</th>\n",
       "      <th>option_price</th>\n",
       "      <th>category</th>\n",
       "      <th>gluten_free_tag</th>\n",
       "      <th>high_protein_tag</th>\n",
       "      <th>sugar_free_tag</th>\n",
       "      <th>vegan_tag</th>\n",
       "      <th>ketogenic_tag</th>\n",
       "      <th>title</th>\n",
       "      <th>rate</th>\n",
       "      <th>content</th>\n",
       "      <th>title_with_spaces</th>\n",
       "      <th>title_nouns_list</th>\n",
       "      <th>soup</th>\n",
       "      <th>product_board_id</th>\n",
       "    </tr>\n",
       "  </thead>\n",
       "  <tbody>\n",
       "    <tr>\n",
       "      <th>96</th>\n",
       "      <td>97</td>\n",
       "      <td>구성1 구성2 구성3 라즈베리 초코 그낭시에 4개 패션코코넛 그낭시에 4개</td>\n",
       "      <td>48900</td>\n",
       "      <td>cake</td>\n",
       "      <td></td>\n",
       "      <td></td>\n",
       "      <td></td>\n",
       "      <td></td>\n",
       "      <td></td>\n",
       "      <td>구성1 구성2 구성3 라즈베리 초코 그낭시에 4개 패션코코넛 그낭시에 4개 nan ...</td>\n",
       "      <td>4.538462</td>\n",
       "      <td>배송빠르고  배송도빠르고  다음에 또 구매할게용 단거 땡길 때 땡땡얼려있는거 빼 먹...</td>\n",
       "      <td>라즈베리 크림 초콜릿 번</td>\n",
       "      <td>[라즈베리, 크림, 초콜릿, 번]</td>\n",
       "      <td>48900 cake</td>\n",
       "      <td>96</td>\n",
       "    </tr>\n",
       "    <tr>\n",
       "      <th>166</th>\n",
       "      <td>169</td>\n",
       "      <td></td>\n",
       "      <td>0</td>\n",
       "      <td>etc</td>\n",
       "      <td></td>\n",
       "      <td></td>\n",
       "      <td></td>\n",
       "      <td></td>\n",
       "      <td></td>\n",
       "      <td>nan 딸아들이 좋아하는빵이에요맛있다고 즐겨먹네요배송빠르고좋아요 맛도리 자주 시켜...</td>\n",
       "      <td>4.692308</td>\n",
       "      <td>딸아들이 좋아하는빵이에요맛있다고 즐겨먹네요배송빠르고좋아요 맛도리 자주 시켜먹어여 건...</td>\n",
       "      <td>라즈베리 크림</td>\n",
       "      <td>[라즈베리, 크림]</td>\n",
       "      <td>0 etc</td>\n",
       "      <td>166</td>\n",
       "    </tr>\n",
       "    <tr>\n",
       "      <th>175</th>\n",
       "      <td>178</td>\n",
       "      <td>구성1 구성2 구성3 라즈베리 초코 그낭시에 8개 패션코코넛 그낭시에 8개</td>\n",
       "      <td>65200</td>\n",
       "      <td>cake</td>\n",
       "      <td></td>\n",
       "      <td></td>\n",
       "      <td></td>\n",
       "      <td></td>\n",
       "      <td></td>\n",
       "      <td>구성1 구성2 구성3 라즈베리 초코 그낭시에 8개 패션코코넛 그낭시에 8개 nan ...</td>\n",
       "      <td>4.615385</td>\n",
       "      <td>일단 크기는 굉장히 작아요 성분이 괜찮아서 구매했는데 저는 그냥 한번 먹어본걸로 만...</td>\n",
       "      <td>라즈베리</td>\n",
       "      <td>[라즈베리]</td>\n",
       "      <td>65200 cake</td>\n",
       "      <td>175</td>\n",
       "    </tr>\n",
       "  </tbody>\n",
       "</table>\n",
       "</div>"
      ],
      "text/plain": [
       "      id                                     option  option_price category  \\\n",
       "96    97  구성1 구성2 구성3 라즈베리 초코 그낭시에 4개 패션코코넛 그낭시에 4개         48900     cake   \n",
       "166  169                                                        0      etc   \n",
       "175  178  구성1 구성2 구성3 라즈베리 초코 그낭시에 8개 패션코코넛 그낭시에 8개         65200     cake   \n",
       "\n",
       "    gluten_free_tag high_protein_tag sugar_free_tag vegan_tag ketogenic_tag  \\\n",
       "96                                                                            \n",
       "166                                                                           \n",
       "175                                                                           \n",
       "\n",
       "                                                 title      rate  \\\n",
       "96   구성1 구성2 구성3 라즈베리 초코 그낭시에 4개 패션코코넛 그낭시에 4개 nan ...  4.538462   \n",
       "166   nan 딸아들이 좋아하는빵이에요맛있다고 즐겨먹네요배송빠르고좋아요 맛도리 자주 시켜...  4.692308   \n",
       "175  구성1 구성2 구성3 라즈베리 초코 그낭시에 8개 패션코코넛 그낭시에 8개 nan ...  4.615385   \n",
       "\n",
       "                                               content title_with_spaces  \\\n",
       "96   배송빠르고  배송도빠르고  다음에 또 구매할게용 단거 땡길 때 땡땡얼려있는거 빼 먹...     라즈베리 크림 초콜릿 번   \n",
       "166  딸아들이 좋아하는빵이에요맛있다고 즐겨먹네요배송빠르고좋아요 맛도리 자주 시켜먹어여 건...           라즈베리 크림   \n",
       "175  일단 크기는 굉장히 작아요 성분이 괜찮아서 구매했는데 저는 그냥 한번 먹어본걸로 만...              라즈베리   \n",
       "\n",
       "       title_nouns_list             soup  product_board_id  \n",
       "96   [라즈베리, 크림, 초콜릿, 번]  48900 cake                     96  \n",
       "166          [라즈베리, 크림]       0 etc                    166  \n",
       "175              [라즈베리]  65200 cake                    175  "
      ]
     },
     "execution_count": 60,
     "metadata": {},
     "output_type": "execute_result"
    }
   ],
   "source": [
    "df[df['product_board_id'].isin(case_3)]"
   ]
  },
  {
   "cell_type": "markdown",
   "metadata": {},
   "source": [
    "##### 2. Word2Vec"
   ]
  },
  {
   "cell_type": "code",
   "execution_count": 61,
   "metadata": {},
   "outputs": [
    {
     "data": {
      "text/plain": [
       "[19, 24, 14]"
      ]
     },
     "execution_count": 61,
     "metadata": {},
     "output_type": "execute_result"
    }
   ],
   "source": [
    "recommend_similar_items(3, item_embeddings)"
   ]
  },
  {
   "cell_type": "markdown",
   "metadata": {},
   "source": [
    "#### SAVE"
   ]
  },
  {
   "cell_type": "code",
   "execution_count": 62,
   "metadata": {},
   "outputs": [],
   "source": [
    "import pandas as pd\n",
    "from datetime import datetime"
   ]
  },
  {
   "cell_type": "code",
   "execution_count": 63,
   "metadata": {},
   "outputs": [],
   "source": [
    "\n",
    "query_item = df.index.values.repeat(3)\n",
    "\n",
    "recommended_items = []\n",
    "\n",
    "for i in range(0, 209):\n",
    "    test = content_recommender(i, 3, sold_out)\n",
    "    recommended_items.extend(test[0])\n",
    "\n",
    "\n",
    "recommended_items = list(map(lambda x: int(x), recommended_items))\n",
    "\n",
    "\n",
    "score = []\n",
    "\n",
    "for i in range(0, 209):\n",
    "    test = content_recommender(i, 3, sold_out)\n",
    "    score.extend(test[1])\n",
    "\n",
    "\n",
    "score = list(map(lambda x: float(x), score))\n",
    "\n",
    "\n",
    "rank = [1, 2, 3]*cosine_sim.shape[0]\n",
    "\n",
    "recommendation_theme = ['similarity']*cosine_sim.shape[0]*3\n",
    "\n",
    "model_version = ['bow-1+TF-IDF']*cosine_sim.shape[0]*3\n",
    "\n",
    "created_at = [datetime.now()]*cosine_sim.shape[0]*3\n",
    "\n",
    "modified_at = [datetime.now()]*cosine_sim.shape[0]*3"
   ]
  },
  {
   "cell_type": "markdown",
   "metadata": {},
   "source": [
    "#### 추천 결과 테이블 포맷\n",
    "- query item은 찜이 눌린 아이템입니다.\n",
    "- recommendation item은 query 아이템 당 3개를 추출합니다.\n",
    "- 유사한 recommendation item이 없을 경우 랜덤한 3개의 결과를 추천합니다.\n",
    "- 포맷에 맞게 데이터프레임을 만듭니다. "
   ]
  },
  {
   "cell_type": "code",
   "execution_count": 64,
   "metadata": {},
   "outputs": [],
   "source": [
    "import pandas as pd\n",
    "from datetime import datetime\n",
    "data = {\n",
    "    'query_item': query_item,\n",
    "    'recommendation_item': recommended_items,\n",
    "    'score': score,\n",
    "    'rank': rank,\n",
    "    'recommendation_theme': recommendation_theme,\n",
    "    'model_version': model_version,\n",
    "    'created_at': created_at,\n",
    "    'modified_at': modified_at\n",
    "}\n",
    "\n",
    "recommendation_df = pd.DataFrame(data)\n"
   ]
  },
  {
   "cell_type": "code",
   "execution_count": 65,
   "metadata": {},
   "outputs": [
    {
     "data": {
      "text/html": [
       "<div>\n",
       "<style scoped>\n",
       "    .dataframe tbody tr th:only-of-type {\n",
       "        vertical-align: middle;\n",
       "    }\n",
       "\n",
       "    .dataframe tbody tr th {\n",
       "        vertical-align: top;\n",
       "    }\n",
       "\n",
       "    .dataframe thead th {\n",
       "        text-align: right;\n",
       "    }\n",
       "</style>\n",
       "<table border=\"1\" class=\"dataframe\">\n",
       "  <thead>\n",
       "    <tr style=\"text-align: right;\">\n",
       "      <th></th>\n",
       "      <th>query_item</th>\n",
       "      <th>recommendation_item</th>\n",
       "      <th>score</th>\n",
       "      <th>rank</th>\n",
       "      <th>recommendation_theme</th>\n",
       "      <th>model_version</th>\n",
       "      <th>created_at</th>\n",
       "      <th>modified_at</th>\n",
       "    </tr>\n",
       "  </thead>\n",
       "  <tbody>\n",
       "    <tr>\n",
       "      <th>0</th>\n",
       "      <td>0</td>\n",
       "      <td>189</td>\n",
       "      <td>0.729977</td>\n",
       "      <td>1</td>\n",
       "      <td>similarity</td>\n",
       "      <td>bow-1+TF-IDF</td>\n",
       "      <td>2024-11-04 16:54:53.667353</td>\n",
       "      <td>2024-11-04 16:54:53.667353</td>\n",
       "    </tr>\n",
       "    <tr>\n",
       "      <th>1</th>\n",
       "      <td>0</td>\n",
       "      <td>32</td>\n",
       "      <td>0.649314</td>\n",
       "      <td>2</td>\n",
       "      <td>similarity</td>\n",
       "      <td>bow-1+TF-IDF</td>\n",
       "      <td>2024-11-04 16:54:53.667353</td>\n",
       "      <td>2024-11-04 16:54:53.667353</td>\n",
       "    </tr>\n",
       "    <tr>\n",
       "      <th>2</th>\n",
       "      <td>0</td>\n",
       "      <td>198</td>\n",
       "      <td>0.581581</td>\n",
       "      <td>3</td>\n",
       "      <td>similarity</td>\n",
       "      <td>bow-1+TF-IDF</td>\n",
       "      <td>2024-11-04 16:54:53.667353</td>\n",
       "      <td>2024-11-04 16:54:53.667353</td>\n",
       "    </tr>\n",
       "    <tr>\n",
       "      <th>3</th>\n",
       "      <td>1</td>\n",
       "      <td>29</td>\n",
       "      <td>0.533355</td>\n",
       "      <td>1</td>\n",
       "      <td>similarity</td>\n",
       "      <td>bow-1+TF-IDF</td>\n",
       "      <td>2024-11-04 16:54:53.667353</td>\n",
       "      <td>2024-11-04 16:54:53.667353</td>\n",
       "    </tr>\n",
       "    <tr>\n",
       "      <th>4</th>\n",
       "      <td>1</td>\n",
       "      <td>7</td>\n",
       "      <td>0.516954</td>\n",
       "      <td>2</td>\n",
       "      <td>similarity</td>\n",
       "      <td>bow-1+TF-IDF</td>\n",
       "      <td>2024-11-04 16:54:53.667353</td>\n",
       "      <td>2024-11-04 16:54:53.667353</td>\n",
       "    </tr>\n",
       "    <tr>\n",
       "      <th>...</th>\n",
       "      <td>...</td>\n",
       "      <td>...</td>\n",
       "      <td>...</td>\n",
       "      <td>...</td>\n",
       "      <td>...</td>\n",
       "      <td>...</td>\n",
       "      <td>...</td>\n",
       "      <td>...</td>\n",
       "    </tr>\n",
       "    <tr>\n",
       "      <th>622</th>\n",
       "      <td>207</td>\n",
       "      <td>10</td>\n",
       "      <td>0.771317</td>\n",
       "      <td>2</td>\n",
       "      <td>similarity</td>\n",
       "      <td>bow-1+TF-IDF</td>\n",
       "      <td>2024-11-04 16:54:53.667353</td>\n",
       "      <td>2024-11-04 16:54:53.667353</td>\n",
       "    </tr>\n",
       "    <tr>\n",
       "      <th>623</th>\n",
       "      <td>207</td>\n",
       "      <td>169</td>\n",
       "      <td>0.711273</td>\n",
       "      <td>3</td>\n",
       "      <td>similarity</td>\n",
       "      <td>bow-1+TF-IDF</td>\n",
       "      <td>2024-11-04 16:54:53.667353</td>\n",
       "      <td>2024-11-04 16:54:53.667353</td>\n",
       "    </tr>\n",
       "    <tr>\n",
       "      <th>624</th>\n",
       "      <td>208</td>\n",
       "      <td>3</td>\n",
       "      <td>0.682648</td>\n",
       "      <td>1</td>\n",
       "      <td>similarity</td>\n",
       "      <td>bow-1+TF-IDF</td>\n",
       "      <td>2024-11-04 16:54:53.667353</td>\n",
       "      <td>2024-11-04 16:54:53.667353</td>\n",
       "    </tr>\n",
       "    <tr>\n",
       "      <th>625</th>\n",
       "      <td>208</td>\n",
       "      <td>19</td>\n",
       "      <td>0.599424</td>\n",
       "      <td>2</td>\n",
       "      <td>similarity</td>\n",
       "      <td>bow-1+TF-IDF</td>\n",
       "      <td>2024-11-04 16:54:53.667353</td>\n",
       "      <td>2024-11-04 16:54:53.667353</td>\n",
       "    </tr>\n",
       "    <tr>\n",
       "      <th>626</th>\n",
       "      <td>208</td>\n",
       "      <td>109</td>\n",
       "      <td>0.578521</td>\n",
       "      <td>3</td>\n",
       "      <td>similarity</td>\n",
       "      <td>bow-1+TF-IDF</td>\n",
       "      <td>2024-11-04 16:54:53.667353</td>\n",
       "      <td>2024-11-04 16:54:53.667353</td>\n",
       "    </tr>\n",
       "  </tbody>\n",
       "</table>\n",
       "<p>627 rows × 8 columns</p>\n",
       "</div>"
      ],
      "text/plain": [
       "     query_item  recommendation_item     score  rank recommendation_theme  \\\n",
       "0             0                  189  0.729977     1           similarity   \n",
       "1             0                   32  0.649314     2           similarity   \n",
       "2             0                  198  0.581581     3           similarity   \n",
       "3             1                   29  0.533355     1           similarity   \n",
       "4             1                    7  0.516954     2           similarity   \n",
       "..          ...                  ...       ...   ...                  ...   \n",
       "622         207                   10  0.771317     2           similarity   \n",
       "623         207                  169  0.711273     3           similarity   \n",
       "624         208                    3  0.682648     1           similarity   \n",
       "625         208                   19  0.599424     2           similarity   \n",
       "626         208                  109  0.578521     3           similarity   \n",
       "\n",
       "    model_version                 created_at                modified_at  \n",
       "0    bow-1+TF-IDF 2024-11-04 16:54:53.667353 2024-11-04 16:54:53.667353  \n",
       "1    bow-1+TF-IDF 2024-11-04 16:54:53.667353 2024-11-04 16:54:53.667353  \n",
       "2    bow-1+TF-IDF 2024-11-04 16:54:53.667353 2024-11-04 16:54:53.667353  \n",
       "3    bow-1+TF-IDF 2024-11-04 16:54:53.667353 2024-11-04 16:54:53.667353  \n",
       "4    bow-1+TF-IDF 2024-11-04 16:54:53.667353 2024-11-04 16:54:53.667353  \n",
       "..            ...                        ...                        ...  \n",
       "622  bow-1+TF-IDF 2024-11-04 16:54:53.667353 2024-11-04 16:54:53.667353  \n",
       "623  bow-1+TF-IDF 2024-11-04 16:54:53.667353 2024-11-04 16:54:53.667353  \n",
       "624  bow-1+TF-IDF 2024-11-04 16:54:53.667353 2024-11-04 16:54:53.667353  \n",
       "625  bow-1+TF-IDF 2024-11-04 16:54:53.667353 2024-11-04 16:54:53.667353  \n",
       "626  bow-1+TF-IDF 2024-11-04 16:54:53.667353 2024-11-04 16:54:53.667353  \n",
       "\n",
       "[627 rows x 8 columns]"
      ]
     },
     "execution_count": 65,
     "metadata": {},
     "output_type": "execute_result"
    }
   ],
   "source": [
    "recommendation_df"
   ]
  },
  {
   "cell_type": "code",
   "execution_count": 66,
   "metadata": {},
   "outputs": [
    {
     "data": {
      "text/plain": [
       "(array([ 88.,  68.,   1.,   5.,  14.,  79., 144., 126.,  56.,  46.]),\n",
       " array([0.1       , 0.18341641, 0.26683282, 0.35024922, 0.43366563,\n",
       "        0.51708204, 0.60049845, 0.68391486, 0.76733126, 0.85074767,\n",
       "        0.93416408]),\n",
       " <BarContainer object of 10 artists>)"
      ]
     },
     "execution_count": 66,
     "metadata": {},
     "output_type": "execute_result"
    },
    {
     "data": {
      "image/png": "[encoded data removed]",
      "text/plain": [
       "<Figure size 640x480 with 1 Axes>"
      ]
     },
     "metadata": {},
     "output_type": "display_data"
    }
   ],
   "source": [
    "plt.hist(recommendation_df['score'])"
   ]
  },
  {
   "cell_type": "code",
   "execution_count": null,
   "metadata": {},
   "outputs": [],
   "source": []
  }
 ],
 "metadata": {
  "kernelspec": {
   "display_name": "Python 3",
   "language": "python",
   "name": "python3"
  },
  "language_info": {
   "codemirror_mode": {
    "name": "ipython",
    "version": 3
   },
   "file_extension": ".py",
   "mimetype": "text/x-python",
   "name": "python",
   "nbconvert_exporter": "python",
   "pygments_lexer": "ipython3",
   "version": "3.12.7"
  }
 },
 "nbformat": 4,
 "nbformat_minor": 2
}
