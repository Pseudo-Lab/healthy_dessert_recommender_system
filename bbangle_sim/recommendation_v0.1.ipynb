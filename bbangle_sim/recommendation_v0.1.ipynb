{
 "cells": [
  {
   "cell_type": "markdown",
   "metadata": {},
   "source": [
    "#### 작업 노트북 \n",
    "- feature 정리 \n",
    "- 데이터 전처리\n",
    "- 모델링\n",
    "- 학습 및 추론\n",
    "- 제품별 추천 결과 테이블"
   ]
  },
  {
   "cell_type": "code",
   "execution_count": 19,
   "metadata": {},
   "outputs": [
    {
     "name": "stdout",
     "output_type": "stream",
     "text": [
      "Defaulting to user installation because normal site-packages is not writeableNote: you may need to restart the kernel to use updated packages.\n"
     ]
    },
    {
     "name": "stderr",
     "output_type": "stream",
     "text": [
      "\n",
      "[notice] A new release of pip is available: 24.2 -> 24.3.1\n",
      "[notice] To update, run: C:\\Users\\user\\AppData\\Local\\Microsoft\\WindowsApps\\PythonSoftwareFoundation.Python.3.12_qbz5n2kfra8p0\\python.exe -m pip install --upgrade pip\n"
     ]
    },
    {
     "name": "stdout",
     "output_type": "stream",
     "text": [
      "\n",
      "Requirement already satisfied: pandas in c:\\users\\user\\appdata\\local\\packages\\pythonsoftwarefoundation.python.3.12_qbz5n2kfra8p0\\localcache\\local-packages\\python312\\site-packages (2.2.3)\n",
      "Requirement already satisfied: numpy>=1.26.0 in c:\\users\\user\\appdata\\local\\packages\\pythonsoftwarefoundation.python.3.12_qbz5n2kfra8p0\\localcache\\local-packages\\python312\\site-packages (from pandas) (2.1.2)\n",
      "Requirement already satisfied: python-dateutil>=2.8.2 in c:\\users\\user\\appdata\\local\\packages\\pythonsoftwarefoundation.python.3.12_qbz5n2kfra8p0\\localcache\\local-packages\\python312\\site-packages (from pandas) (2.8.2)\n",
      "Requirement already satisfied: pytz>=2020.1 in c:\\users\\user\\appdata\\local\\packages\\pythonsoftwarefoundation.python.3.12_qbz5n2kfra8p0\\localcache\\local-packages\\python312\\site-packages (from pandas) (2024.2)\n",
      "Requirement already satisfied: tzdata>=2022.7 in c:\\users\\user\\appdata\\local\\packages\\pythonsoftwarefoundation.python.3.12_qbz5n2kfra8p0\\localcache\\local-packages\\python312\\site-packages (from pandas) (2024.2)\n",
      "Requirement already satisfied: six>=1.5 in c:\\users\\user\\appdata\\local\\packages\\pythonsoftwarefoundation.python.3.12_qbz5n2kfra8p0\\localcache\\local-packages\\python312\\site-packages (from python-dateutil>=2.8.2->pandas) (1.16.0)\n"
     ]
    }
   ],
   "source": [
    "%pip install pandas"
   ]
  },
  {
   "cell_type": "code",
   "execution_count": 20,
   "metadata": {},
   "outputs": [
    {
     "name": "stdout",
     "output_type": "stream",
     "text": [
      "Defaulting to user installation because normal site-packages is not writeable\n",
      "Requirement already satisfied: scikit-learn in c:\\users\\user\\appdata\\local\\packages\\pythonsoftwarefoundation.python.3.12_qbz5n2kfra8p0\\localcache\\local-packages\\python312\\site-packages (1.5.2)\n",
      "Requirement already satisfied: numpy>=1.19.5 in c:\\users\\user\\appdata\\local\\packages\\pythonsoftwarefoundation.python.3.12_qbz5n2kfra8p0\\localcache\\local-packages\\python312\\site-packages (from scikit-learn) (2.1.2)\n",
      "Requirement already satisfied: scipy>=1.6.0 in c:\\users\\user\\appdata\\local\\packages\\pythonsoftwarefoundation.python.3.12_qbz5n2kfra8p0\\localcache\\local-packages\\python312\\site-packages (from scikit-learn) (1.14.1)\n",
      "Requirement already satisfied: joblib>=1.2.0 in c:\\users\\user\\appdata\\local\\packages\\pythonsoftwarefoundation.python.3.12_qbz5n2kfra8p0\\localcache\\local-packages\\python312\\site-packages (from scikit-learn) (1.4.2)\n",
      "Requirement already satisfied: threadpoolctl>=3.1.0 in c:\\users\\user\\appdata\\local\\packages\\pythonsoftwarefoundation.python.3.12_qbz5n2kfra8p0\\localcache\\local-packages\\python312\\site-packages (from scikit-learn) (3.5.0)\n",
      "Note: you may need to restart the kernel to use updated packages.\n"
     ]
    },
    {
     "name": "stderr",
     "output_type": "stream",
     "text": [
      "\n",
      "[notice] A new release of pip is available: 24.2 -> 24.3.1\n",
      "[notice] To update, run: C:\\Users\\user\\AppData\\Local\\Microsoft\\WindowsApps\\PythonSoftwareFoundation.Python.3.12_qbz5n2kfra8p0\\python.exe -m pip install --upgrade pip\n"
     ]
    }
   ],
   "source": [
    "%pip install scikit-learn"
   ]
  },
  {
   "cell_type": "code",
   "execution_count": 21,
   "metadata": {},
   "outputs": [
    {
     "name": "stdout",
     "output_type": "stream",
     "text": [
      "Defaulting to user installation because normal site-packages is not writeable\n",
      "Requirement already satisfied: sqlalchemy in c:\\users\\user\\appdata\\local\\packages\\pythonsoftwarefoundation.python.3.12_qbz5n2kfra8p0\\localcache\\local-packages\\python312\\site-packages (2.0.36)\n",
      "Requirement already satisfied: typing-extensions>=4.6.0 in c:\\users\\user\\appdata\\local\\packages\\pythonsoftwarefoundation.python.3.12_qbz5n2kfra8p0\\localcache\\local-packages\\python312\\site-packages (from sqlalchemy) (4.12.2)\n",
      "Requirement already satisfied: greenlet!=0.4.17 in c:\\users\\user\\appdata\\local\\packages\\pythonsoftwarefoundation.python.3.12_qbz5n2kfra8p0\\localcache\\local-packages\\python312\\site-packages (from sqlalchemy) (3.1.1)\n",
      "Note: you may need to restart the kernel to use updated packages.\n"
     ]
    },
    {
     "name": "stderr",
     "output_type": "stream",
     "text": [
      "\n",
      "[notice] A new release of pip is available: 24.2 -> 24.3.1\n",
      "[notice] To update, run: C:\\Users\\user\\AppData\\Local\\Microsoft\\WindowsApps\\PythonSoftwareFoundation.Python.3.12_qbz5n2kfra8p0\\python.exe -m pip install --upgrade pip\n"
     ]
    }
   ],
   "source": [
    "%pip install sqlalchemy"
   ]
  },
  {
   "cell_type": "code",
   "execution_count": 22,
   "metadata": {},
   "outputs": [
    {
     "name": "stdout",
     "output_type": "stream",
     "text": [
      "Defaulting to user installation because normal site-packages is not writeable\n",
      "Requirement already satisfied: pymysql in c:\\users\\user\\appdata\\local\\packages\\pythonsoftwarefoundation.python.3.12_qbz5n2kfra8p0\\localcache\\local-packages\\python312\\site-packages (1.1.1)\n",
      "Note: you may need to restart the kernel to use updated packages.\n"
     ]
    },
    {
     "name": "stderr",
     "output_type": "stream",
     "text": [
      "\n",
      "[notice] A new release of pip is available: 24.2 -> 24.3.1\n",
      "[notice] To update, run: C:\\Users\\user\\AppData\\Local\\Microsoft\\WindowsApps\\PythonSoftwareFoundation.Python.3.12_qbz5n2kfra8p0\\python.exe -m pip install --upgrade pip\n"
     ]
    }
   ],
   "source": [
    "%pip install pymysql"
   ]
  },
  {
   "cell_type": "code",
   "execution_count": null,
   "metadata": {},
   "outputs": [],
   "source": [
    "%pip install konlpy"
   ]
  },
  {
   "cell_type": "code",
   "execution_count": null,
   "metadata": {},
   "outputs": [],
   "source": [
    "%pip install matplotlib"
   ]
  },
  {
   "cell_type": "code",
   "execution_count": 196,
   "metadata": {},
   "outputs": [
    {
     "name": "stdout",
     "output_type": "stream",
     "text": [
      "Note: you may need to restart the kernel to use updated packages.\n"
     ]
    },
    {
     "name": "stderr",
     "output_type": "stream",
     "text": [
      "  WARNING: Failed to remove contents in a temporary directory 'C:\\Users\\user\\AppData\\Local\\Packages\\PythonSoftwareFoundation.Python.3.12_qbz5n2kfra8p0\\LocalCache\\local-packages\\Python312\\site-packages\\~umpy.libs'.\n",
      "  You can safely remove it manually.\n",
      "  WARNING: Failed to remove contents in a temporary directory 'C:\\Users\\user\\AppData\\Local\\Packages\\PythonSoftwareFoundation.Python.3.12_qbz5n2kfra8p0\\LocalCache\\local-packages\\Python312\\site-packages\\~umpy'.\n",
      "  You can safely remove it manually.\n",
      "  WARNING: Failed to remove contents in a temporary directory 'C:\\Users\\user\\AppData\\Local\\Packages\\PythonSoftwareFoundation.Python.3.12_qbz5n2kfra8p0\\LocalCache\\local-packages\\Python312\\site-packages\\~cipy.libs'.\n",
      "  You can safely remove it manually.\n",
      "  WARNING: Failed to remove contents in a temporary directory 'C:\\Users\\user\\AppData\\Local\\Packages\\PythonSoftwareFoundation.Python.3.12_qbz5n2kfra8p0\\LocalCache\\local-packages\\Python312\\site-packages\\~cipy'.\n",
      "  You can safely remove it manually.\n",
      "\n",
      "[notice] A new release of pip is available: 24.2 -> 24.3.1\n",
      "[notice] To update, run: C:\\Users\\user\\AppData\\Local\\Microsoft\\WindowsApps\\PythonSoftwareFoundation.Python.3.12_qbz5n2kfra8p0\\python.exe -m pip install --upgrade pip\n"
     ]
    },
    {
     "name": "stdout",
     "output_type": "stream",
     "text": [
      "Defaulting to user installation because normal site-packages is not writeable\n",
      "Collecting gensim\n",
      "  Downloading gensim-4.3.3-cp312-cp312-win_amd64.whl.metadata (8.2 kB)\n",
      "Collecting numpy<2.0,>=1.18.5 (from gensim)\n",
      "  Downloading numpy-1.26.4-cp312-cp312-win_amd64.whl.metadata (61 kB)\n",
      "Collecting scipy<1.14.0,>=1.7.0 (from gensim)\n",
      "  Downloading scipy-1.13.1-cp312-cp312-win_amd64.whl.metadata (60 kB)\n",
      "Collecting smart-open>=1.8.1 (from gensim)\n",
      "  Downloading smart_open-7.0.5-py3-none-any.whl.metadata (24 kB)\n",
      "Collecting wrapt (from smart-open>=1.8.1->gensim)\n",
      "  Downloading wrapt-1.16.0-cp312-cp312-win_amd64.whl.metadata (6.8 kB)\n",
      "Downloading gensim-4.3.3-cp312-cp312-win_amd64.whl (24.0 MB)\n",
      "   ---------------------------------------- 0.0/24.0 MB ? eta -:--:--\n",
      "   --- ------------------------------------ 1.8/24.0 MB 10.1 MB/s eta 0:00:03\n",
      "   ------ --------------------------------- 3.7/24.0 MB 9.5 MB/s eta 0:00:03\n",
      "   ------- -------------------------------- 4.7/24.0 MB 8.1 MB/s eta 0:00:03\n",
      "   ---------- ----------------------------- 6.3/24.0 MB 7.9 MB/s eta 0:00:03\n",
      "   ----------- ---------------------------- 7.1/24.0 MB 7.2 MB/s eta 0:00:03\n",
      "   -------------- ------------------------- 8.9/24.0 MB 7.3 MB/s eta 0:00:03\n",
      "   ----------------- ---------------------- 10.7/24.0 MB 7.3 MB/s eta 0:00:02\n",
      "   ------------------- -------------------- 11.8/24.0 MB 7.0 MB/s eta 0:00:02\n",
      "   ---------------------- ----------------- 13.4/24.0 MB 7.0 MB/s eta 0:00:02\n",
      "   ------------------------ --------------- 14.7/24.0 MB 7.3 MB/s eta 0:00:02\n",
      "   --------------------------- ------------ 16.3/24.0 MB 7.0 MB/s eta 0:00:02\n",
      "   ---------------------------- ----------- 17.0/24.0 MB 6.8 MB/s eta 0:00:02\n",
      "   ---------------------------- ----------- 17.0/24.0 MB 6.8 MB/s eta 0:00:02\n",
      "   ------------------------------ --------- 18.1/24.0 MB 6.3 MB/s eta 0:00:01\n",
      "   --------------------------------- ------ 20.2/24.0 MB 6.3 MB/s eta 0:00:01\n",
      "   ------------------------------------- -- 22.5/24.0 MB 6.6 MB/s eta 0:00:01\n",
      "   ---------------------------------------  23.9/24.0 MB 6.7 MB/s eta 0:00:01\n",
      "   ---------------------------------------  23.9/24.0 MB 6.7 MB/s eta 0:00:01\n",
      "   ---------------------------------------- 24.0/24.0 MB 6.0 MB/s eta 0:00:00\n",
      "Downloading numpy-1.26.4-cp312-cp312-win_amd64.whl (15.5 MB)\n",
      "   ---------------------------------------- 0.0/15.5 MB ? eta -:--:--\n",
      "   ------ --------------------------------- 2.4/15.5 MB 12.2 MB/s eta 0:00:02\n",
      "   ------------ --------------------------- 5.0/15.5 MB 12.6 MB/s eta 0:00:01\n",
      "   -------------------- ------------------- 8.1/15.5 MB 12.9 MB/s eta 0:00:01\n",
      "   -------------------------- ------------- 10.2/15.5 MB 12.5 MB/s eta 0:00:01\n",
      "   -------------------------------- ------- 12.6/15.5 MB 12.3 MB/s eta 0:00:01\n",
      "   ---------------------------------------  15.5/15.5 MB 12.6 MB/s eta 0:00:01\n",
      "   ---------------------------------------- 15.5/15.5 MB 10.8 MB/s eta 0:00:00\n",
      "Downloading scipy-1.13.1-cp312-cp312-win_amd64.whl (45.9 MB)\n",
      "   ---------------------------------------- 0.0/45.9 MB ? eta -:--:--\n",
      "   -- ------------------------------------- 2.6/45.9 MB 12.5 MB/s eta 0:00:04\n",
      "   ---- ----------------------------------- 5.0/45.9 MB 11.6 MB/s eta 0:00:04\n",
      "   ------ --------------------------------- 7.6/45.9 MB 12.4 MB/s eta 0:00:04\n",
      "   --------- ------------------------------ 10.5/45.9 MB 12.3 MB/s eta 0:00:03\n",
      "   ----------- ---------------------------- 13.1/45.9 MB 12.3 MB/s eta 0:00:03\n",
      "   ------------- -------------------------- 16.0/45.9 MB 12.6 MB/s eta 0:00:03\n",
      "   ---------------- ----------------------- 18.9/45.9 MB 12.8 MB/s eta 0:00:03\n",
      "   ------------------ --------------------- 21.2/45.9 MB 12.4 MB/s eta 0:00:02\n",
      "   --------------------- ------------------ 24.1/45.9 MB 12.6 MB/s eta 0:00:02\n",
      "   ----------------------- ---------------- 26.5/45.9 MB 12.4 MB/s eta 0:00:02\n",
      "   ------------------------- -------------- 29.1/45.9 MB 12.4 MB/s eta 0:00:02\n",
      "   --------------------------- ------------ 31.2/45.9 MB 12.3 MB/s eta 0:00:02\n",
      "   ----------------------------- ---------- 34.1/45.9 MB 12.3 MB/s eta 0:00:01\n",
      "   -------------------------------- ------- 37.0/45.9 MB 12.4 MB/s eta 0:00:01\n",
      "   ---------------------------------- ----- 39.8/45.9 MB 12.5 MB/s eta 0:00:01\n",
      "   ------------------------------------- -- 42.7/45.9 MB 12.6 MB/s eta 0:00:01\n",
      "   ---------------------------------------  45.6/45.9 MB 12.7 MB/s eta 0:00:01\n",
      "   ---------------------------------------  45.9/45.9 MB 12.6 MB/s eta 0:00:01\n",
      "   ---------------------------------------- 45.9/45.9 MB 11.8 MB/s eta 0:00:00\n",
      "Downloading smart_open-7.0.5-py3-none-any.whl (61 kB)\n",
      "Downloading wrapt-1.16.0-cp312-cp312-win_amd64.whl (37 kB)\n",
      "Installing collected packages: wrapt, numpy, smart-open, scipy, gensim\n",
      "  Attempting uninstall: numpy\n",
      "    Found existing installation: numpy 2.1.2\n",
      "    Uninstalling numpy-2.1.2:\n",
      "      Successfully uninstalled numpy-2.1.2\n",
      "  Attempting uninstall: scipy\n",
      "    Found existing installation: scipy 1.14.1\n",
      "    Uninstalling scipy-1.14.1:\n",
      "      Successfully uninstalled scipy-1.14.1\n",
      "Successfully installed gensim-4.3.3 numpy-1.26.4 scipy-1.13.1 smart-open-7.0.5 wrapt-1.16.0\n"
     ]
    }
   ],
   "source": [
    "%pip install gensim"
   ]
  },
  {
   "cell_type": "code",
   "execution_count": 212,
   "metadata": {},
   "outputs": [
    {
     "name": "stdout",
     "output_type": "stream",
     "text": [
      "Defaulting to user installation because normal site-packages is not writeable\n",
      "Requirement already satisfied: numpy==1.26.4 in c:\\users\\user\\appdata\\local\\packages\\pythonsoftwarefoundation.python.3.12_qbz5n2kfra8p0\\localcache\\local-packages\\python312\\site-packages (1.26.4)\n",
      "Note: you may need to restart the kernel to use updated packages.\n"
     ]
    },
    {
     "name": "stderr",
     "output_type": "stream",
     "text": [
      "\n",
      "[notice] A new release of pip is available: 24.2 -> 24.3.1\n",
      "[notice] To update, run: C:\\Users\\user\\AppData\\Local\\Microsoft\\WindowsApps\\PythonSoftwareFoundation.Python.3.12_qbz5n2kfra8p0\\python.exe -m pip install --upgrade pip\n"
     ]
    }
   ],
   "source": [
    "%pip install numpy==1.26.4"
   ]
  },
  {
   "cell_type": "code",
   "execution_count": 1,
   "metadata": {},
   "outputs": [],
   "source": [
    "import pandas as pd\n",
    "import warnings\n",
    "import re \n",
    "from model.bow import BagOfWords\n",
    "from model.tfidf import TfIdf\n",
    "import yaml\n",
    "import matplotlib.pyplot as plt\n",
    "\n",
    "from utils.preprocessing import *\n",
    "\n",
    "warnings.filterwarnings(\"ignore\")"
   ]
  },
  {
   "cell_type": "markdown",
   "metadata": {},
   "source": [
    "#### Configuration\n",
    "- 추천 서비스 생성을 위해서 필요한 설정값들을 세팅합니다."
   ]
  },
  {
   "cell_type": "code",
   "execution_count": 2,
   "metadata": {},
   "outputs": [],
   "source": [
    "# config\n",
    "with open('configs/database.yaml') as f:\n",
    "    cfg = yaml.load(f, Loader=yaml.FullLoader)"
   ]
  },
  {
   "cell_type": "code",
   "execution_count": 3,
   "metadata": {},
   "outputs": [],
   "source": [
    "from utils.query_service import QueryService\n",
    "query_service = QueryService(cfg['mysql'])"
   ]
  },
  {
   "cell_type": "markdown",
   "metadata": {},
   "source": [
    "#### Data Import\n",
    "- 사용할 데이터를 mysql에서 가져옵니다. "
   ]
  },
  {
   "cell_type": "code",
   "execution_count": 90,
   "metadata": {},
   "outputs": [
    {
     "data": {
      "text/html": [
       "<div>\n",
       "<style scoped>\n",
       "    .dataframe tbody tr th:only-of-type {\n",
       "        vertical-align: middle;\n",
       "    }\n",
       "\n",
       "    .dataframe tbody tr th {\n",
       "        vertical-align: top;\n",
       "    }\n",
       "\n",
       "    .dataframe thead th {\n",
       "        text-align: right;\n",
       "    }\n",
       "</style>\n",
       "<table border=\"1\" class=\"dataframe\">\n",
       "  <thead>\n",
       "    <tr style=\"text-align: right;\">\n",
       "      <th></th>\n",
       "      <th>Tables_in_bakery</th>\n",
       "    </tr>\n",
       "  </thead>\n",
       "  <tbody>\n",
       "    <tr>\n",
       "      <th>0</th>\n",
       "      <td>board_preference_statistic</td>\n",
       "    </tr>\n",
       "    <tr>\n",
       "      <th>1</th>\n",
       "      <td>board_statistic</td>\n",
       "    </tr>\n",
       "    <tr>\n",
       "      <th>2</th>\n",
       "      <td>food_survey</td>\n",
       "    </tr>\n",
       "    <tr>\n",
       "      <th>3</th>\n",
       "      <td>image</td>\n",
       "    </tr>\n",
       "    <tr>\n",
       "      <th>4</th>\n",
       "      <td>member</td>\n",
       "    </tr>\n",
       "    <tr>\n",
       "      <th>5</th>\n",
       "      <td>member_preference</td>\n",
       "    </tr>\n",
       "    <tr>\n",
       "      <th>6</th>\n",
       "      <td>notice</td>\n",
       "    </tr>\n",
       "    <tr>\n",
       "      <th>7</th>\n",
       "      <td>preference</td>\n",
       "    </tr>\n",
       "    <tr>\n",
       "      <th>8</th>\n",
       "      <td>product</td>\n",
       "    </tr>\n",
       "    <tr>\n",
       "      <th>9</th>\n",
       "      <td>product_board</td>\n",
       "    </tr>\n",
       "    <tr>\n",
       "      <th>10</th>\n",
       "      <td>product_detail</td>\n",
       "    </tr>\n",
       "    <tr>\n",
       "      <th>11</th>\n",
       "      <td>product_img</td>\n",
       "    </tr>\n",
       "    <tr>\n",
       "      <th>12</th>\n",
       "      <td>push</td>\n",
       "    </tr>\n",
       "    <tr>\n",
       "      <th>13</th>\n",
       "      <td>push_date</td>\n",
       "    </tr>\n",
       "    <tr>\n",
       "      <th>14</th>\n",
       "      <td>random_board</td>\n",
       "    </tr>\n",
       "    <tr>\n",
       "      <th>15</th>\n",
       "      <td>refresh_token</td>\n",
       "    </tr>\n",
       "    <tr>\n",
       "      <th>16</th>\n",
       "      <td>review</td>\n",
       "    </tr>\n",
       "    <tr>\n",
       "      <th>17</th>\n",
       "      <td>review_img</td>\n",
       "    </tr>\n",
       "    <tr>\n",
       "      <th>18</th>\n",
       "      <td>review_like</td>\n",
       "    </tr>\n",
       "    <tr>\n",
       "      <th>19</th>\n",
       "      <td>search</td>\n",
       "    </tr>\n",
       "    <tr>\n",
       "      <th>20</th>\n",
       "      <td>signature_agreement</td>\n",
       "    </tr>\n",
       "    <tr>\n",
       "      <th>21</th>\n",
       "      <td>store</td>\n",
       "    </tr>\n",
       "    <tr>\n",
       "      <th>22</th>\n",
       "      <td>test_store</td>\n",
       "    </tr>\n",
       "    <tr>\n",
       "      <th>23</th>\n",
       "      <td>wishlist_folder</td>\n",
       "    </tr>\n",
       "    <tr>\n",
       "      <th>24</th>\n",
       "      <td>wishlist_product</td>\n",
       "    </tr>\n",
       "    <tr>\n",
       "      <th>25</th>\n",
       "      <td>wishlist_store</td>\n",
       "    </tr>\n",
       "    <tr>\n",
       "      <th>26</th>\n",
       "      <td>withdrawal</td>\n",
       "    </tr>\n",
       "  </tbody>\n",
       "</table>\n",
       "</div>"
      ],
      "text/plain": [
       "              Tables_in_bakery\n",
       "0   board_preference_statistic\n",
       "1              board_statistic\n",
       "2                  food_survey\n",
       "3                        image\n",
       "4                       member\n",
       "5            member_preference\n",
       "6                       notice\n",
       "7                   preference\n",
       "8                      product\n",
       "9                product_board\n",
       "10              product_detail\n",
       "11                 product_img\n",
       "12                        push\n",
       "13                   push_date\n",
       "14                random_board\n",
       "15               refresh_token\n",
       "16                      review\n",
       "17                  review_img\n",
       "18                 review_like\n",
       "19                      search\n",
       "20         signature_agreement\n",
       "21                       store\n",
       "22                  test_store\n",
       "23             wishlist_folder\n",
       "24            wishlist_product\n",
       "25              wishlist_store\n",
       "26                  withdrawal"
      ]
     },
     "execution_count": 90,
     "metadata": {},
     "output_type": "execute_result"
    }
   ],
   "source": [
    "query_service.query_to_pandas_df('Show tables')"
   ]
  },
  {
   "cell_type": "code",
   "execution_count": 91,
   "metadata": {},
   "outputs": [],
   "source": [
    "PRODUCT_BOARD_SQL = \"\"\"\n",
    "SELECT id\n",
    ", store_id\n",
    ", title\n",
    ", price\n",
    ", is_soldout\n",
    ", view \n",
    "FROM product_board\n",
    "\"\"\"\n",
    "product_board = query_service.query_to_pandas_df(PRODUCT_BOARD_SQL)"
   ]
  },
  {
   "cell_type": "code",
   "execution_count": 92,
   "metadata": {},
   "outputs": [],
   "source": [
    "PRODUCT_SQL = \"\"\"\n",
    "SELECT id\n",
    ", product_board_id\n",
    ", title as option\n",
    ", price as option_price\n",
    ", category\n",
    ", gluten_free_tag\n",
    ", high_protein_tag\n",
    ", sugar_free_tag\n",
    ", vegan_tag\n",
    ", ketogenic_tag\n",
    "FROM product\n",
    "\"\"\"\n",
    "product = query_service.query_to_pandas_df(PRODUCT_SQL)"
   ]
  },
  {
   "cell_type": "code",
   "execution_count": 93,
   "metadata": {},
   "outputs": [],
   "source": [
    "REVIEW_SQL = \"\"\"\n",
    "SELECT board_id\n",
    ", badge_taste\n",
    ", badge_brix\n",
    ", badge_texture\n",
    ", rate\n",
    ", content\n",
    "FROM review\n",
    "\"\"\"\n",
    "review = query_service.query_to_pandas_df(REVIEW_SQL)\n",
    "review = review.drop_duplicates(subset=['board_id', 'content'], keep='first')"
   ]
  },
  {
   "cell_type": "code",
   "execution_count": 94,
   "metadata": {},
   "outputs": [],
   "source": [
    "BOARD_STAT_SQL = \"\"\"\n",
    "SELECT board_id\n",
    ", board_review_grade\n",
    ", board_view_count\n",
    ", board_review_count\n",
    ", board_wish_count \n",
    "FROM board_statistic\n",
    "\"\"\"\n",
    "board_stat = query_service.query_to_pandas_df(BOARD_STAT_SQL)"
   ]
  },
  {
   "cell_type": "code",
   "execution_count": 95,
   "metadata": {},
   "outputs": [],
   "source": [
    "# board_id가 각 preference_type마다 얼만큼의 preference_score를 갖는지\n",
    "# 아직 신뢰성있는 데이터로 보이진 않음 (샘플이 적고 score의 분산이 너무 큼)\n",
    "BOARD_PREFERENCE_STAT_SQL = \"\"\"\n",
    "SELECT board_id\n",
    ", preference_score\n",
    ", preference_type\n",
    ", preference_weight\n",
    "FROM board_preference_statistic\n",
    "ORDER BY board_id\n",
    "\"\"\"\n",
    "board_preference_stat = query_service.query_to_pandas_df(BOARD_PREFERENCE_STAT_SQL)"
   ]
  },
  {
   "cell_type": "markdown",
   "metadata": {},
   "source": [
    "#### Preprocessing"
   ]
  },
  {
   "cell_type": "markdown",
   "metadata": {},
   "source": [
    "1. Product + Product board 데이터 기반 유사도 테이블\n",
    "2. Coverage 평가 방법 수행 및 시각화\n",
    "3. 후처리 고려하기"
   ]
  },
  {
   "cell_type": "code",
   "execution_count": 114,
   "metadata": {},
   "outputs": [
    {
     "data": {
      "text/html": [
       "<div>\n",
       "<style scoped>\n",
       "    .dataframe tbody tr th:only-of-type {\n",
       "        vertical-align: middle;\n",
       "    }\n",
       "\n",
       "    .dataframe tbody tr th {\n",
       "        vertical-align: top;\n",
       "    }\n",
       "\n",
       "    .dataframe thead th {\n",
       "        text-align: right;\n",
       "    }\n",
       "</style>\n",
       "<table border=\"1\" class=\"dataframe\">\n",
       "  <thead>\n",
       "    <tr style=\"text-align: right;\">\n",
       "      <th></th>\n",
       "      <th>id</th>\n",
       "      <th>product_board_id</th>\n",
       "      <th>option</th>\n",
       "      <th>option_price</th>\n",
       "      <th>category</th>\n",
       "      <th>gluten_free_tag</th>\n",
       "      <th>high_protein_tag</th>\n",
       "      <th>sugar_free_tag</th>\n",
       "      <th>vegan_tag</th>\n",
       "      <th>ketogenic_tag</th>\n",
       "    </tr>\n",
       "  </thead>\n",
       "  <tbody>\n",
       "    <tr>\n",
       "      <th>0</th>\n",
       "      <td>1</td>\n",
       "      <td>1</td>\n",
       "      <td>필수상품 없음</td>\n",
       "      <td>3800</td>\n",
       "      <td>CAKE</td>\n",
       "      <td>1</td>\n",
       "      <td>0</td>\n",
       "      <td>0</td>\n",
       "      <td>0</td>\n",
       "      <td>0</td>\n",
       "    </tr>\n",
       "    <tr>\n",
       "      <th>1</th>\n",
       "      <td>2</td>\n",
       "      <td>2</td>\n",
       "      <td>드리</td>\n",
       "      <td>5000</td>\n",
       "      <td>COOKIE</td>\n",
       "      <td>1</td>\n",
       "      <td>0</td>\n",
       "      <td>0</td>\n",
       "      <td>1</td>\n",
       "      <td>0</td>\n",
       "    </tr>\n",
       "    <tr>\n",
       "      <th>2</th>\n",
       "      <td>3</td>\n",
       "      <td>2</td>\n",
       "      <td>초코코코넛(넛프리)</td>\n",
       "      <td>5000</td>\n",
       "      <td>COOKIE</td>\n",
       "      <td>1</td>\n",
       "      <td>0</td>\n",
       "      <td>0</td>\n",
       "      <td>1</td>\n",
       "      <td>0</td>\n",
       "    </tr>\n",
       "    <tr>\n",
       "      <th>3</th>\n",
       "      <td>4</td>\n",
       "      <td>2</td>\n",
       "      <td>한라봉얼그레이</td>\n",
       "      <td>5000</td>\n",
       "      <td>COOKIE</td>\n",
       "      <td>1</td>\n",
       "      <td>0</td>\n",
       "      <td>0</td>\n",
       "      <td>1</td>\n",
       "      <td>0</td>\n",
       "    </tr>\n",
       "    <tr>\n",
       "      <th>4</th>\n",
       "      <td>5</td>\n",
       "      <td>2</td>\n",
       "      <td>바나나피칸(제로슈가/노오일/노솔트)</td>\n",
       "      <td>5000</td>\n",
       "      <td>COOKIE</td>\n",
       "      <td>1</td>\n",
       "      <td>0</td>\n",
       "      <td>0</td>\n",
       "      <td>1</td>\n",
       "      <td>0</td>\n",
       "    </tr>\n",
       "  </tbody>\n",
       "</table>\n",
       "</div>"
      ],
      "text/plain": [
       "   id  product_board_id               option  option_price category  \\\n",
       "0   1                 1              필수상품 없음          3800     CAKE   \n",
       "1   2                 2                   드리          5000   COOKIE   \n",
       "2   3                 2           초코코코넛(넛프리)          5000   COOKIE   \n",
       "3   4                 2              한라봉얼그레이          5000   COOKIE   \n",
       "4   5                 2  바나나피칸(제로슈가/노오일/노솔트)          5000   COOKIE   \n",
       "\n",
       "   gluten_free_tag  high_protein_tag  sugar_free_tag  vegan_tag  ketogenic_tag  \n",
       "0                1                 0               0          0              0  \n",
       "1                1                 0               0          1              0  \n",
       "2                1                 0               0          1              0  \n",
       "3                1                 0               0          1              0  \n",
       "4                1                 0               0          1              0  "
      ]
     },
     "execution_count": 114,
     "metadata": {},
     "output_type": "execute_result"
    }
   ],
   "source": [
    "product.head()"
   ]
  },
  {
   "cell_type": "code",
   "execution_count": 115,
   "metadata": {},
   "outputs": [
    {
     "data": {
      "text/html": [
       "<div>\n",
       "<style scoped>\n",
       "    .dataframe tbody tr th:only-of-type {\n",
       "        vertical-align: middle;\n",
       "    }\n",
       "\n",
       "    .dataframe tbody tr th {\n",
       "        vertical-align: top;\n",
       "    }\n",
       "\n",
       "    .dataframe thead th {\n",
       "        text-align: right;\n",
       "    }\n",
       "</style>\n",
       "<table border=\"1\" class=\"dataframe\">\n",
       "  <thead>\n",
       "    <tr style=\"text-align: right;\">\n",
       "      <th></th>\n",
       "      <th>id</th>\n",
       "      <th>store_id</th>\n",
       "      <th>title</th>\n",
       "      <th>price</th>\n",
       "      <th>is_soldout</th>\n",
       "      <th>view</th>\n",
       "    </tr>\n",
       "  </thead>\n",
       "  <tbody>\n",
       "    <tr>\n",
       "      <th>0</th>\n",
       "      <td>1</td>\n",
       "      <td>1</td>\n",
       "      <td>냥빵 파운드 저탄수 대체당 제로 빵 글루텐프리 건강빵 비건</td>\n",
       "      <td>3800</td>\n",
       "      <td>0</td>\n",
       "      <td>0</td>\n",
       "    </tr>\n",
       "    <tr>\n",
       "      <th>1</th>\n",
       "      <td>2</td>\n",
       "      <td>2</td>\n",
       "      <td>비건 유기농 쌀 &amp; 기장쌀 잡곡 비스코티 5종 미앤드리 글루텐프리</td>\n",
       "      <td>5000</td>\n",
       "      <td>1</td>\n",
       "      <td>0</td>\n",
       "    </tr>\n",
       "    <tr>\n",
       "      <th>2</th>\n",
       "      <td>3</td>\n",
       "      <td>3</td>\n",
       "      <td>비건이레 비건케이크 글루텐프리 떠먹는케이크 얼그레이아몬드베린느 GF</td>\n",
       "      <td>7500</td>\n",
       "      <td>0</td>\n",
       "      <td>0</td>\n",
       "    </tr>\n",
       "    <tr>\n",
       "      <th>3</th>\n",
       "      <td>4</td>\n",
       "      <td>4</td>\n",
       "      <td>프로넛 무설탕 자일리톨 캔디 레몬 선물 사탕 금연 양치 아이간식 어린이집</td>\n",
       "      <td>2800</td>\n",
       "      <td>0</td>\n",
       "      <td>0</td>\n",
       "    </tr>\n",
       "    <tr>\n",
       "      <th>4</th>\n",
       "      <td>5</td>\n",
       "      <td>5</td>\n",
       "      <td>꾸디 비건쿠키 (르뱅쿠키 수제쿠키)</td>\n",
       "      <td>4200</td>\n",
       "      <td>0</td>\n",
       "      <td>0</td>\n",
       "    </tr>\n",
       "  </tbody>\n",
       "</table>\n",
       "</div>"
      ],
      "text/plain": [
       "   id  store_id                                     title  price  is_soldout  \\\n",
       "0   1         1          냥빵 파운드 저탄수 대체당 제로 빵 글루텐프리 건강빵 비건   3800           0   \n",
       "1   2         2      비건 유기농 쌀 & 기장쌀 잡곡 비스코티 5종 미앤드리 글루텐프리   5000           1   \n",
       "2   3         3     비건이레 비건케이크 글루텐프리 떠먹는케이크 얼그레이아몬드베린느 GF   7500           0   \n",
       "3   4         4  프로넛 무설탕 자일리톨 캔디 레몬 선물 사탕 금연 양치 아이간식 어린이집   2800           0   \n",
       "4   5         5                       꾸디 비건쿠키 (르뱅쿠키 수제쿠키)   4200           0   \n",
       "\n",
       "   view  \n",
       "0     0  \n",
       "1     0  \n",
       "2     0  \n",
       "3     0  \n",
       "4     0  "
      ]
     },
     "execution_count": 115,
     "metadata": {},
     "output_type": "execute_result"
    }
   ],
   "source": [
    "product_board.head()"
   ]
  },
  {
   "cell_type": "code",
   "execution_count": 113,
   "metadata": {},
   "outputs": [],
   "source": [
    "sold_out = product_board[product_board['is_soldout']==1]['store_id'].unique()"
   ]
  },
  {
   "cell_type": "code",
   "execution_count": 104,
   "metadata": {},
   "outputs": [
    {
     "data": {
      "text/plain": [
       "(209, 9)"
      ]
     },
     "execution_count": 104,
     "metadata": {},
     "output_type": "execute_result"
    }
   ],
   "source": [
    "grouped = product.groupby('product_board_id').agg({\n",
    "    'id': 'first',\n",
    "    'option': ' '.join, # option을 공백을 두고 이어 붙임\n",
    "    'option_price': 'first',\n",
    "    'category': 'first',\n",
    "    'gluten_free_tag': 'first',\n",
    "    'high_protein_tag': 'first',\n",
    "    'sugar_free_tag': 'first',\n",
    "    'vegan_tag': 'first',\n",
    "    'ketogenic_tag': 'first',\n",
    "})\n",
    "\n",
    "\n",
    "df = grouped.copy()\n",
    "\n",
    "df['id'] = df.index\n",
    "\n",
    "df.shape"
   ]
  },
  {
   "cell_type": "code",
   "execution_count": 105,
   "metadata": {},
   "outputs": [
    {
     "data": {
      "text/plain": [
       "(35, 2)"
      ]
     },
     "execution_count": 105,
     "metadata": {},
     "output_type": "execute_result"
    }
   ],
   "source": [
    "grouped = product_board.groupby('store_id').agg({\n",
    "    'id': 'first',\n",
    "    'title': ' '.join  # title을 공백을 두고 이어 붙임\n",
    "})\n",
    "\n",
    "\n",
    "df_board = grouped.copy()\n",
    "\n",
    "\n",
    "df_board['id'] = df_board.index\n",
    "\n",
    "df_board.shape"
   ]
  },
  {
   "cell_type": "code",
   "execution_count": 106,
   "metadata": {},
   "outputs": [],
   "source": [
    "df = df[['id', 'option', 'option_price', 'category', 'gluten_free_tag', 'high_protein_tag', 'sugar_free_tag', 'vegan_tag', 'ketogenic_tag']].copy()"
   ]
  },
  {
   "cell_type": "code",
   "execution_count": 107,
   "metadata": {},
   "outputs": [],
   "source": [
    "df = df.drop_duplicates()\n",
    "\n",
    "df = df.dropna()\n",
    "\n",
    "df['option'] = df['option'].fillna('')\n",
    "df.loc[df['option'] == '필수상품 없음', 'option'] = ''"
   ]
  },
  {
   "cell_type": "code",
   "execution_count": 108,
   "metadata": {},
   "outputs": [],
   "source": [
    "# 두 데이터프레임을 store_id (df_board)와 product_board_id (df) 기준으로 병합\n",
    "merged_df = pd.merge(df, df_board, left_on='id', right_on='id', how='left')\n",
    "df = merged_df.copy()"
   ]
  },
  {
   "cell_type": "code",
   "execution_count": 116,
   "metadata": {},
   "outputs": [],
   "source": [
    "# Create the new soup feature\n",
    "df['title'] = df.apply(create_title, axis=1)"
   ]
  },
  {
   "cell_type": "code",
   "execution_count": 117,
   "metadata": {},
   "outputs": [],
   "source": [
    "from konlpy.tag import Okt\n",
    "import pandas as pd\n",
    "\n",
    "\n",
    "\n",
    "# title에 공백 추가\n",
    "df['title_with_spaces'] = df['title'].apply(add_spaces)"
   ]
  },
  {
   "cell_type": "code",
   "execution_count": 118,
   "metadata": {},
   "outputs": [],
   "source": [
    "features = ['gluten_free_tag', 'high_protein_tag', 'sugar_free_tag', 'vegan_tag', 'ketogenic_tag']\n",
    "\n",
    "for feature in features:\n",
    "  df[feature] = df[feature].apply(lambda x: x*feature)"
   ]
  },
  {
   "cell_type": "code",
   "execution_count": 119,
   "metadata": {},
   "outputs": [
    {
     "data": {
      "text/plain": [
       "\"\\nbins = [0, 2500, 5000, 7500, 10000, 25000, 50000, 75000, 100000, 200000]\\nlabels = ['1', '2', '3', '4', '5', '6', '7', '8', '9']\\ndf['option_price'] = pd.cut(df['option_price'], bins = bins, labels = labels, include_lowest = True)\\nplt.hist(df['option_price'].apply(lambda x: int(x)))\\n\""
      ]
     },
     "execution_count": 119,
     "metadata": {},
     "output_type": "execute_result"
    }
   ],
   "source": [
    "\"\"\"\n",
    "bins = [0, 2500, 5000, 7500, 10000, 25000, 50000, 75000, 100000, 200000]\n",
    "labels = ['1', '2', '3', '4', '5', '6', '7', '8', '9']\n",
    "df['option_price'] = pd.cut(df['option_price'], bins = bins, labels = labels, include_lowest = True)\n",
    "plt.hist(df['option_price'].apply(lambda x: int(x)))\n",
    "\"\"\""
   ]
  },
  {
   "cell_type": "code",
   "execution_count": 120,
   "metadata": {},
   "outputs": [],
   "source": [
    "# Removes spaces and converts to lowercase\n",
    "# Apply the generate_list function to cast, keywords, and director\n",
    "for feature in ['category', 'gluten_free_tag', 'high_protein_tag', 'sugar_free_tag', 'vegan_tag', 'ketogenic_tag']:\n",
    "    df[feature] = df[feature].apply(sanitize)"
   ]
  },
  {
   "cell_type": "code",
   "execution_count": 121,
   "metadata": {},
   "outputs": [],
   "source": [
    "# Create the new soup feature\n",
    "df['soup'] = df.apply(create_soup, axis=1)"
   ]
  },
  {
   "cell_type": "markdown",
   "metadata": {},
   "source": [
    "#### Modeling(CountVec+TF-IDF)"
   ]
  },
  {
   "cell_type": "code",
   "execution_count": 122,
   "metadata": {},
   "outputs": [
    {
     "data": {
      "text/plain": [
       "(209, 209)"
      ]
     },
     "execution_count": 122,
     "metadata": {},
     "output_type": "execute_result"
    }
   ],
   "source": [
    "# TfIdfVectorizer 가져오기\n",
    "from sklearn.feature_extraction.text import TfidfVectorizer\n",
    "\n",
    "# 불용어를 english로 지정하고 tf-idf 계산\n",
    "# stop_words='english' 옵션은 영어의 불용어(예: the, and, is 등)를 제외\n",
    "tfidf = TfidfVectorizer(stop_words='english')\n",
    "tfidf_matrix = tfidf.fit_transform(df['title_with_spaces'])\n",
    "\n",
    "# Cosine 유사도 계산, overview기반으로 영화간 유사도 계산\n",
    "from sklearn.metrics.pairwise import cosine_similarity\n",
    "\n",
    "cosine_sim_tf = cosine_similarity(tfidf_matrix, tfidf_matrix)\n",
    "cosine_sim_tf = pd.DataFrame(cosine_sim_tf, index=df.index, columns=df.index)\n",
    "\n",
    "cosine_sim_tf.shape\n"
   ]
  },
  {
   "cell_type": "code",
   "execution_count": 123,
   "metadata": {},
   "outputs": [
    {
     "data": {
      "text/plain": [
       "(209, 209)"
      ]
     },
     "execution_count": 123,
     "metadata": {},
     "output_type": "execute_result"
    }
   ],
   "source": [
    "# Import CountVectorizer from the scikit-learn library\n",
    "from sklearn.feature_extraction.text import CountVectorizer\n",
    "\n",
    "# Define a new CountVectorizer object and create vectors for the soup\n",
    "count = CountVectorizer(stop_words='english')\n",
    "# 상품*해당 단어가 있는지 카운트 벡터\n",
    "count_matrix = count.fit_transform(df['soup'])\n",
    "\n",
    "# Cosine 유사도 계산\n",
    "from sklearn.metrics.pairwise import cosine_similarity\n",
    "cosine_sim_cv = cosine_similarity(count_matrix, count_matrix)\n",
    "cosine_sim_cv = pd.DataFrame(cosine_sim_cv, index=df.index, columns=df.index)\n",
    "\n",
    "cosine_sim_cv.shape"
   ]
  },
  {
   "cell_type": "code",
   "execution_count": 124,
   "metadata": {},
   "outputs": [],
   "source": [
    "cosine_sim = cosine_sim_cv + cosine_sim_tf"
   ]
  },
  {
   "cell_type": "code",
   "execution_count": null,
   "metadata": {},
   "outputs": [
    {
     "name": "stdout",
     "output_type": "stream",
     "text": [
      "[array([126,  57, 112,  84,  53, 188,  61, 120,  54,  99], dtype=int64), array([1.29851338, 1.12695693, 1.0036207 , 0.91936164, 0.91056195,\n",
      "       0.87368295, 0.87368295, 0.87368295, 0.87078122, 0.8558868 ])]\n"
     ]
    }
   ],
   "source": [
    "# Index에 product_board_id 추가\n",
    "df['product_board_id'] = df.index\n",
    "\n",
    "# index-product_board_id을 뒤집는다\n",
    "indices = pd.Series(df.index, index=df['product_board_id'])\n",
    "\n",
    "# 상품제목을 받아서 추천 영화를 돌려주는 함수\n",
    "def content_recommender(product_board_id, n_of_recomm, sold_out):\n",
    "    # product_board_id에서 영화 index 받아오기\n",
    "    idx = indices[product_board_id]\n",
    "    # 주어진 상품과 다른 상품의 similarity를 가져온다\n",
    "    sim_scores = cosine_sim[idx]\n",
    "    # sold_out 후처리\n",
    "    sim_scores[sold_out] = 0\n",
    "    # similarity 기준으로 정렬하고 n_of_recomm만큼 가져오기 (자기자신은 빼기)\n",
    "    sim_scores = sim_scores.sort_values(ascending=False)[1:n_of_recomm+1]\n",
    "    # 상품 product_board_id 반환\n",
    "    \n",
    "    return [df.loc[sim_scores.index]['product_board_id'].values, sim_scores.values]\n",
    "\n",
    "# 추천받기\n",
    "print(content_recommender(100, 10, sold_out))"
   ]
  },
  {
   "cell_type": "markdown",
   "metadata": {},
   "source": [
    "#### Training(Word2Vec)"
   ]
  },
  {
   "cell_type": "code",
   "execution_count": null,
   "metadata": {},
   "outputs": [],
   "source": [
    "dataset = df.copy()\n",
    "dataset = df['title_with_spaces'].to_dict() "
   ]
  },
  {
   "cell_type": "code",
   "execution_count": 29,
   "metadata": {},
   "outputs": [],
   "source": [
    "from gensim.models import Word2Vec\n",
    "\n",
    "# 데이터셋의 모든 콘텐츠 키워드를 시퀀스로 변환\n",
    "content_data = list(dataset.values())\n",
    "\n",
    "# Word2Vec 모델 학습\n",
    "embedding_model = Word2Vec(content_data, vector_size=20, window=5, min_count=1, workers=4, sg=1, epochs=100)\n"
   ]
  },
  {
   "cell_type": "code",
   "execution_count": 30,
   "metadata": {},
   "outputs": [],
   "source": [
    "import numpy as np\n",
    "\n",
    "# 각 아이템을 벡터화하여 아이템 임베딩 계산\n",
    "def get_item_embedding(item_keywords, model):\n",
    "    # 각 키워드의 임베딩 벡터를 가져와 평균을 계산\n",
    "    vectors = [model.wv[keyword] for keyword in item_keywords if keyword in model.wv]\n",
    "    return np.mean(vectors, axis=0) if vectors else np.zeros(model.vector_size)\n",
    "\n",
    "# 모든 아이템 임베딩 저장\n",
    "item_embeddings = {item: get_item_embedding(keywords, embedding_model) for item, keywords in dataset.items()}\n"
   ]
  },
  {
   "cell_type": "code",
   "execution_count": null,
   "metadata": {},
   "outputs": [
    {
     "name": "stdout",
     "output_type": "stream",
     "text": [
      "Items similar to movie1: [11, 25, 28]\n"
     ]
    }
   ],
   "source": [
    "from sklearn.metrics.pairwise import cosine_similarity\n",
    "\n",
    "def recommend_similar_items(target_item, item_embeddings, topn=3):\n",
    "    \"\"\"\n",
    "    주어진 아이템과 유사한 아이템을 추천합니다.\n",
    "    \n",
    "    :param target_item: 추천 대상 아이템 ID\n",
    "    :param item_embeddings: 아이템 임베딩 딕셔너리\n",
    "    :param topn: 추천할 아이템 수\n",
    "    :return: 유사한 아이템 리스트\n",
    "    \"\"\"\n",
    "    target_embedding = item_embeddings[target_item].reshape(1, -1)\n",
    "    similarities = {}\n",
    "    \n",
    "    for item, embedding in item_embeddings.items():\n",
    "        if item != target_item:  # 대상 아이템 제외\n",
    "            sim_score = cosine_similarity(target_embedding, embedding.reshape(1, -1)).flatten()[0]\n",
    "            similarities[item] = sim_score\n",
    "\n",
    "           \n",
    "    # 유사도에 따라 정렬하고 상위 n개 반환\n",
    "    similar_items = sorted(similarities.items(), key=lambda x: x[1], reverse=True)\n",
    "    #print(pd.DataFrame(similar_items))\n",
    "\n",
    "    similar_items = sorted(similarities.items(), key=lambda x: x[1], reverse=True)[:topn]\n",
    "    \n",
    "    \n",
    "    return [item[0] for item in similar_items]\n",
    "\n",
    "    \n",
    "\n",
    "# 예시: 찜한 상품의 id와 유사한 아이템 추천\n",
    "similar_items = recommend_similar_items(1, item_embeddings)\n",
    "print(\"Similar items:\", similar_items)"
   ]
  },
  {
   "cell_type": "markdown",
   "metadata": {},
   "source": [
    "#### Evaluating"
   ]
  },
  {
   "cell_type": "markdown",
   "metadata": {},
   "source": [
    "##### 1. CountVec + TF-IDF"
   ]
  },
  {
   "cell_type": "code",
   "execution_count": 32,
   "metadata": {},
   "outputs": [
    {
     "name": "stdout",
     "output_type": "stream",
     "text": [
      "Coverage:  0      0.002116\n",
      "1      0.004417\n",
      "2      0.003865\n",
      "3      0.000138\n",
      "4      0.001426\n",
      "         ...   \n",
      "204    0.004831\n",
      "205    0.001702\n",
      "206    0.003635\n",
      "207    0.004693\n",
      "208    0.000230\n",
      "Length: 209, dtype: float64\n"
     ]
    }
   ],
   "source": [
    "import numpy as np\n",
    "import matplotlib.pyplot as plt\n",
    "\n",
    "# 기준 유사도 (threshold)\n",
    "threshold = 0.5\n",
    "\n",
    "# 자기 자신을 제외한 총 유사도 쌍의 수\n",
    "n_items = cosine_sim.shape[0]\n",
    "total_pairs = n_items * (n_items -1)/2\n",
    "\n",
    "# 기준을 넘는 유사도 쌍의 수 계산\n",
    "high_similiarity_count = np.sum((cosine_sim > threshold))\n",
    "\n",
    "# Coverage 계산\n",
    "coverage = high_similiarity_count / total_pairs\n",
    "\n",
    "print(\"Coverage: \", coverage)\n"
   ]
  },
  {
   "cell_type": "code",
   "execution_count": 33,
   "metadata": {},
   "outputs": [
    {
     "data": {
      "text/plain": [
       "(array([31., 15., 26., 16., 10., 18., 27., 30., 26., 10.]),\n",
       " array([4.60066250e-05, 7.03901362e-04, 1.36179610e-03, 2.01969084e-03,\n",
       "        2.67758557e-03, 3.33548031e-03, 3.99337505e-03, 4.65126978e-03,\n",
       "        5.30916452e-03, 5.96705926e-03, 6.62495399e-03]),\n",
       " <BarContainer object of 10 artists>)"
      ]
     },
     "execution_count": 33,
     "metadata": {},
     "output_type": "execute_result"
    },
    {
     "data": {
      "image/png": "[encoded data removed]",
      "text/plain": [
       "<Figure size 800x600 with 1 Axes>"
      ]
     },
     "metadata": {},
     "output_type": "display_data"
    }
   ],
   "source": [
    "# 히스토그램 그리기\n",
    "plt.figure(figsize=(8, 6))\n",
    "plt.hist(coverage, bins=10, color='skyblue', edgecolor='black')"
   ]
  },
  {
   "cell_type": "code",
   "execution_count": 141,
   "metadata": {},
   "outputs": [],
   "source": [
    "recommended_items = []\n",
    "\n",
    "for i in range(0, 209):\n",
    "    test = content_recommender(i, 3, sold_out)\n",
    "    recommended_items.extend(test[0])\n",
    "\n",
    "\n",
    "recommended_items = list(map(lambda x: int(x), recommended_items))"
   ]
  },
  {
   "cell_type": "code",
   "execution_count": 142,
   "metadata": {},
   "outputs": [
    {
     "data": {
      "text/plain": [
       "0.84688995215311"
      ]
     },
     "execution_count": 142,
     "metadata": {},
     "output_type": "execute_result"
    }
   ],
   "source": [
    "from metrics.coverage import get_coverage\n",
    "\n",
    "n_items = cosine_sim.shape[0]\n",
    "\n",
    "get_coverage(recommended_items, n_items)"
   ]
  },
  {
   "cell_type": "markdown",
   "metadata": {},
   "source": [
    "##### 2. Word2Vec"
   ]
  },
  {
   "cell_type": "code",
   "execution_count": 37,
   "metadata": {},
   "outputs": [],
   "source": [
    "recommended_items = []\n",
    "\n",
    "for i in range(0, 209):\n",
    "    test = recommend_similar_items(i, item_embeddings)\n",
    "    recommended_items.extend(str(test[0]))\n",
    "\n",
    "\n",
    "recommended_items = list(map(lambda x: int(x), recommended_items))"
   ]
  },
  {
   "cell_type": "code",
   "execution_count": 38,
   "metadata": {},
   "outputs": [
    {
     "data": {
      "text/plain": [
       "0.04784688995215311"
      ]
     },
     "execution_count": 38,
     "metadata": {},
     "output_type": "execute_result"
    }
   ],
   "source": [
    "from metrics.coverage import get_coverage\n",
    "\n",
    "n_items = len(item_embeddings)\n",
    "\n",
    "get_coverage(recommended_items, n_items)"
   ]
  },
  {
   "cell_type": "markdown",
   "metadata": {},
   "source": [
    "#### INFERENCE"
   ]
  },
  {
   "cell_type": "markdown",
   "metadata": {},
   "source": [
    "##### 1. CountVec + TF-IDF"
   ]
  },
  {
   "cell_type": "code",
   "execution_count": 143,
   "metadata": {},
   "outputs": [
    {
     "data": {
      "text/plain": [
       "[array([126,  57, 112,  84,  53, 188,  61, 120,  54,  99], dtype=int64),\n",
       " array([1.29851338, 1.12695693, 1.0036207 , 0.91936164, 0.91056195,\n",
       "        0.87368295, 0.87368295, 0.87368295, 0.87078122, 0.8558868 ])]"
      ]
     },
     "execution_count": 143,
     "metadata": {},
     "output_type": "execute_result"
    }
   ],
   "source": [
    "content_recommender(100, 10, sold_out)"
   ]
  },
  {
   "cell_type": "markdown",
   "metadata": {},
   "source": [
    "##### 2. Word2Vec"
   ]
  },
  {
   "cell_type": "code",
   "execution_count": null,
   "metadata": {},
   "outputs": [
    {
     "data": {
      "text/plain": [
       "[110, 145, 142]"
      ]
     },
     "execution_count": 40,
     "metadata": {},
     "output_type": "execute_result"
    }
   ],
   "source": [
    "recommend_similar_items(3, item_embeddings)"
   ]
  },
  {
   "cell_type": "markdown",
   "metadata": {},
   "source": [
    "#### SAVE"
   ]
  },
  {
   "cell_type": "code",
   "execution_count": 41,
   "metadata": {},
   "outputs": [],
   "source": [
    "import pandas as pd\n",
    "from datetime import datetime"
   ]
  },
  {
   "cell_type": "code",
   "execution_count": 144,
   "metadata": {},
   "outputs": [],
   "source": [
    "\n",
    "query_item = df.index.values.repeat(3)\n",
    "\n",
    "recommended_items = []\n",
    "\n",
    "for i in range(0, 209):\n",
    "    test = content_recommender(i, 3, sold_out)\n",
    "    recommended_items.extend(test[0])\n",
    "\n",
    "\n",
    "recommended_items = list(map(lambda x: int(x), recommended_items))\n",
    "\n",
    "\n",
    "score = []\n",
    "\n",
    "for i in range(0, 209):\n",
    "    test = content_recommender(i, 3, sold_out)\n",
    "    score.extend(test[1])\n",
    "\n",
    "\n",
    "score = list(map(lambda x: float(x), score))\n",
    "\n",
    "\n",
    "rank = [1, 2, 3]*cosine_sim.shape[0]\n",
    "\n",
    "recommendation_theme = ['similarity']*cosine_sim.shape[0]*3\n",
    "\n",
    "model_version = ['bow-1+TF-IDF']*cosine_sim.shape[0]*3\n",
    "\n",
    "created_at = [datetime.now()]*cosine_sim.shape[0]*3\n",
    "\n",
    "modified_at = [datetime.now()]*cosine_sim.shape[0]*3"
   ]
  },
  {
   "cell_type": "markdown",
   "metadata": {},
   "source": [
    "#### 추천 결과 테이블 포맷\n",
    "- query item은 찜이 눌린 아이템입니다.\n",
    "- recommendation item은 query 아이템 당 3개를 추출합니다.\n",
    "- 유사한 recommendation item이 없을 경우 랜덤한 3개의 결과를 추천합니다.\n",
    "- 포맷에 맞게 데이터프레임을 만듭니다. "
   ]
  },
  {
   "cell_type": "code",
   "execution_count": 145,
   "metadata": {},
   "outputs": [],
   "source": [
    "import pandas as pd\n",
    "from datetime import datetime\n",
    "data = {\n",
    "    'query_item': query_item,\n",
    "    'recommendation_item': recommended_items,\n",
    "    'score': score,\n",
    "    'rank': rank,\n",
    "    'recommendation_theme': recommendation_theme,\n",
    "    'model_version': model_version,\n",
    "    'created_at': created_at,\n",
    "    'modified_at': modified_at\n",
    "}\n",
    "\n",
    "recommendation_df = pd.DataFrame(data)\n"
   ]
  },
  {
   "cell_type": "code",
   "execution_count": 146,
   "metadata": {},
   "outputs": [
    {
     "data": {
      "text/html": [
       "<div>\n",
       "<style scoped>\n",
       "    .dataframe tbody tr th:only-of-type {\n",
       "        vertical-align: middle;\n",
       "    }\n",
       "\n",
       "    .dataframe tbody tr th {\n",
       "        vertical-align: top;\n",
       "    }\n",
       "\n",
       "    .dataframe thead th {\n",
       "        text-align: right;\n",
       "    }\n",
       "</style>\n",
       "<table border=\"1\" class=\"dataframe\">\n",
       "  <thead>\n",
       "    <tr style=\"text-align: right;\">\n",
       "      <th></th>\n",
       "      <th>query_item</th>\n",
       "      <th>recommendation_item</th>\n",
       "      <th>score</th>\n",
       "      <th>rank</th>\n",
       "      <th>recommendation_theme</th>\n",
       "      <th>model_version</th>\n",
       "      <th>created_at</th>\n",
       "      <th>modified_at</th>\n",
       "    </tr>\n",
       "  </thead>\n",
       "  <tbody>\n",
       "    <tr>\n",
       "      <th>0</th>\n",
       "      <td>0</td>\n",
       "      <td>23</td>\n",
       "      <td>0.866149</td>\n",
       "      <td>1</td>\n",
       "      <td>similarity</td>\n",
       "      <td>bow-1+TF-IDF</td>\n",
       "      <td>2024-10-31 19:33:16.619417</td>\n",
       "      <td>2024-10-31 19:33:16.619417</td>\n",
       "    </tr>\n",
       "    <tr>\n",
       "      <th>1</th>\n",
       "      <td>0</td>\n",
       "      <td>90</td>\n",
       "      <td>0.816497</td>\n",
       "      <td>2</td>\n",
       "      <td>similarity</td>\n",
       "      <td>bow-1+TF-IDF</td>\n",
       "      <td>2024-10-31 19:33:16.619417</td>\n",
       "      <td>2024-10-31 19:33:16.619417</td>\n",
       "    </tr>\n",
       "    <tr>\n",
       "      <th>2</th>\n",
       "      <td>0</td>\n",
       "      <td>177</td>\n",
       "      <td>0.774597</td>\n",
       "      <td>3</td>\n",
       "      <td>similarity</td>\n",
       "      <td>bow-1+TF-IDF</td>\n",
       "      <td>2024-10-31 19:33:16.619417</td>\n",
       "      <td>2024-10-31 19:33:16.619417</td>\n",
       "    </tr>\n",
       "    <tr>\n",
       "      <th>3</th>\n",
       "      <td>1</td>\n",
       "      <td>29</td>\n",
       "      <td>1.163784</td>\n",
       "      <td>1</td>\n",
       "      <td>similarity</td>\n",
       "      <td>bow-1+TF-IDF</td>\n",
       "      <td>2024-10-31 19:33:16.619417</td>\n",
       "      <td>2024-10-31 19:33:16.619417</td>\n",
       "    </tr>\n",
       "    <tr>\n",
       "      <th>4</th>\n",
       "      <td>1</td>\n",
       "      <td>17</td>\n",
       "      <td>1.113105</td>\n",
       "      <td>2</td>\n",
       "      <td>similarity</td>\n",
       "      <td>bow-1+TF-IDF</td>\n",
       "      <td>2024-10-31 19:33:16.619417</td>\n",
       "      <td>2024-10-31 19:33:16.619417</td>\n",
       "    </tr>\n",
       "    <tr>\n",
       "      <th>...</th>\n",
       "      <td>...</td>\n",
       "      <td>...</td>\n",
       "      <td>...</td>\n",
       "      <td>...</td>\n",
       "      <td>...</td>\n",
       "      <td>...</td>\n",
       "      <td>...</td>\n",
       "      <td>...</td>\n",
       "    </tr>\n",
       "    <tr>\n",
       "      <th>622</th>\n",
       "      <td>207</td>\n",
       "      <td>61</td>\n",
       "      <td>0.846000</td>\n",
       "      <td>2</td>\n",
       "      <td>similarity</td>\n",
       "      <td>bow-1+TF-IDF</td>\n",
       "      <td>2024-10-31 19:33:16.619417</td>\n",
       "      <td>2024-10-31 19:33:16.619417</td>\n",
       "    </tr>\n",
       "    <tr>\n",
       "      <th>623</th>\n",
       "      <td>207</td>\n",
       "      <td>120</td>\n",
       "      <td>0.846000</td>\n",
       "      <td>3</td>\n",
       "      <td>similarity</td>\n",
       "      <td>bow-1+TF-IDF</td>\n",
       "      <td>2024-10-31 19:33:16.619417</td>\n",
       "      <td>2024-10-31 19:33:16.619417</td>\n",
       "    </tr>\n",
       "    <tr>\n",
       "      <th>624</th>\n",
       "      <td>208</td>\n",
       "      <td>110</td>\n",
       "      <td>0.980726</td>\n",
       "      <td>1</td>\n",
       "      <td>similarity</td>\n",
       "      <td>bow-1+TF-IDF</td>\n",
       "      <td>2024-10-31 19:33:16.619417</td>\n",
       "      <td>2024-10-31 19:33:16.619417</td>\n",
       "    </tr>\n",
       "    <tr>\n",
       "      <th>625</th>\n",
       "      <td>208</td>\n",
       "      <td>175</td>\n",
       "      <td>0.551414</td>\n",
       "      <td>2</td>\n",
       "      <td>similarity</td>\n",
       "      <td>bow-1+TF-IDF</td>\n",
       "      <td>2024-10-31 19:33:16.619417</td>\n",
       "      <td>2024-10-31 19:33:16.619417</td>\n",
       "    </tr>\n",
       "    <tr>\n",
       "      <th>626</th>\n",
       "      <td>208</td>\n",
       "      <td>96</td>\n",
       "      <td>0.551414</td>\n",
       "      <td>3</td>\n",
       "      <td>similarity</td>\n",
       "      <td>bow-1+TF-IDF</td>\n",
       "      <td>2024-10-31 19:33:16.619417</td>\n",
       "      <td>2024-10-31 19:33:16.619417</td>\n",
       "    </tr>\n",
       "  </tbody>\n",
       "</table>\n",
       "<p>627 rows × 8 columns</p>\n",
       "</div>"
      ],
      "text/plain": [
       "     query_item  recommendation_item     score  rank recommendation_theme  \\\n",
       "0             0                   23  0.866149     1           similarity   \n",
       "1             0                   90  0.816497     2           similarity   \n",
       "2             0                  177  0.774597     3           similarity   \n",
       "3             1                   29  1.163784     1           similarity   \n",
       "4             1                   17  1.113105     2           similarity   \n",
       "..          ...                  ...       ...   ...                  ...   \n",
       "622         207                   61  0.846000     2           similarity   \n",
       "623         207                  120  0.846000     3           similarity   \n",
       "624         208                  110  0.980726     1           similarity   \n",
       "625         208                  175  0.551414     2           similarity   \n",
       "626         208                   96  0.551414     3           similarity   \n",
       "\n",
       "    model_version                 created_at                modified_at  \n",
       "0    bow-1+TF-IDF 2024-10-31 19:33:16.619417 2024-10-31 19:33:16.619417  \n",
       "1    bow-1+TF-IDF 2024-10-31 19:33:16.619417 2024-10-31 19:33:16.619417  \n",
       "2    bow-1+TF-IDF 2024-10-31 19:33:16.619417 2024-10-31 19:33:16.619417  \n",
       "3    bow-1+TF-IDF 2024-10-31 19:33:16.619417 2024-10-31 19:33:16.619417  \n",
       "4    bow-1+TF-IDF 2024-10-31 19:33:16.619417 2024-10-31 19:33:16.619417  \n",
       "..            ...                        ...                        ...  \n",
       "622  bow-1+TF-IDF 2024-10-31 19:33:16.619417 2024-10-31 19:33:16.619417  \n",
       "623  bow-1+TF-IDF 2024-10-31 19:33:16.619417 2024-10-31 19:33:16.619417  \n",
       "624  bow-1+TF-IDF 2024-10-31 19:33:16.619417 2024-10-31 19:33:16.619417  \n",
       "625  bow-1+TF-IDF 2024-10-31 19:33:16.619417 2024-10-31 19:33:16.619417  \n",
       "626  bow-1+TF-IDF 2024-10-31 19:33:16.619417 2024-10-31 19:33:16.619417  \n",
       "\n",
       "[627 rows x 8 columns]"
      ]
     },
     "execution_count": 146,
     "metadata": {},
     "output_type": "execute_result"
    }
   ],
   "source": [
    "recommendation_df"
   ]
  }
 ],
 "metadata": {
  "kernelspec": {
   "display_name": "Python 3",
   "language": "python",
   "name": "python3"
  },
  "language_info": {
   "codemirror_mode": {
    "name": "ipython",
    "version": 3
   },
   "file_extension": ".py",
   "mimetype": "text/x-python",
   "name": "python",
   "nbconvert_exporter": "python",
   "pygments_lexer": "ipython3",
   "version": "3.12.7"
  }
 },
 "nbformat": 4,
 "nbformat_minor": 2
}
